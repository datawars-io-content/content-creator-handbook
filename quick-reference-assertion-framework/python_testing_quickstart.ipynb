{
 "cells": [
  {
   "cell_type": "markdown",
   "metadata": {},
   "source": [
    "# Python Quick Start Guide"
   ]
  },
  {
   "cell_type": "code",
   "execution_count": 3,
   "metadata": {},
   "outputs": [],
   "source": [
    "exec(open(\"./utils.py\").read())"
   ]
  },
  {
   "cell_type": "markdown",
   "metadata": {},
   "source": [
    "In this python validation quickstart, we'll learn how to use most used validation function in activities.\n",
    "\n",
    "We'll learn how to use most used following functions for `list()` validation:\n",
    "\n",
    "1. `assert_list_variable_equals_variable(student_variable_name, expected_variable_name)`\n",
    "2. `assert_list_variable_equals_json(student_variable_name, json_file_name)`\n",
    "3. `assert_list_variable_equals_pickle(student_variable_name, pickle_file_name)`\n",
    "\n",
    "We'll learn how to use most used following functions for `tuple()` validation:\n",
    "\n",
    "1. `assert_tuple_variable_equals_variable(student_variable_name, expected_variable_name)`\n",
    "2. `assert_tuple_variable_equals_json(student_variable_name, json_file_name)`\n",
    "3. `assert_tuple_variable_equals_pickle(student_variable_name, pickle_file_name)`\n",
    "\n",
    "We'll learn how to use most used following functions for `dict()` validation:\n",
    "\n",
    "1. `assert_dict_variable_equals_variable(student_variable_name, expected_variable_name)`\n",
    "2. `assert_dict_variable_equals_json(student_variable_name, json_file_name)`\n",
    "3. `assert_dict_variable_equals_pickle(student_variable_name, pickle_file_name)`"
   ]
  },
  {
   "cell_type": "markdown",
   "metadata": {},
   "source": [
    "### 1. `assert_list_variable_equals_variable(student_variable_name, expected_variable_name)`"
   ]
  },
  {
   "cell_type": "markdown",
   "metadata": {},
   "source": [
    "Let's understand with simple activity example.\n",
    "\n",
    "##### Activity 1. Create a list of alphabets.\n",
    "\n",
    "Create a list of alphabets and assign it to a variable `alphabets`."
   ]
  },
  {
   "cell_type": "code",
   "execution_count": null,
   "metadata": {},
   "outputs": [],
   "source": []
  },
  {
   "cell_type": "markdown",
   "metadata": {},
   "source": [
    "Solution:"
   ]
  },
  {
   "cell_type": "code",
   "execution_count": 1,
   "metadata": {},
   "outputs": [
    {
     "name": "stdout",
     "output_type": "stream",
     "text": [
      "Alphabet: ['a', 'b', 'c', 'd', 'e', 'f', 'g', 'h', 'i', 'j', 'k', 'l', 'm', 'n', 'o', 'p', 'q', 'r', 's', 't', 'u', 'v', 'w', 'x', 'y', 'z']\n"
     ]
    }
   ],
   "source": [
    "alphabet = [chr(i) for i in range(97, 123)]\n",
    "print(f\"Alphabet: {alphabet}\")"
   ]
  },
  {
   "cell_type": "markdown",
   "metadata": {},
   "source": [
    "Here we have created a list of alphabets and assigned it to a variable `alphabets`. This is the solution of the activity."
   ]
  },
  {
   "cell_type": "markdown",
   "metadata": {},
   "source": [
    "Assertions:"
   ]
  },
  {
   "cell_type": "markdown",
   "metadata": {},
   "source": [
    "Now, we'll write the assertions to validate the solution. We'll use `assert_list_variable_equals_variable()` function to validate the solution."
   ]
  },
  {
   "cell_type": "code",
   "execution_count": 4,
   "metadata": {},
   "outputs": [],
   "source": [
    "expected_alphabet = ['a', 'b', 'c', 'd', 'e', 'f', 'g', 'h', 'i', 'j', 'k', 'l', 'm', 'n', 'o', 'p', 'q', 'r', 's', 't', 'u', 'v', 'w', 'x', 'y', 'z']\n",
    "assert_list_variable_equals_variable('alphabet', 'expected_alphabet')"
   ]
  },
  {
   "cell_type": "markdown",
   "metadata": {},
   "source": [
    "In this we first hardcode the expected value of the variable `alphabets` in the variable `expected_alphabets` and then we'll use `assert_list_variable_equals_variable()` function to validate the solution.\n",
    "\n",
    "You noticed that we passed the variable name `alphabets` and `expected_alphabets` in the function `assert_list_variable_equals_variable()` as a string, not as a variable. This is because we also check weather student has defined the variable `alphabets` or not in the global workspace means in project notebook."
   ]
  },
  {
   "cell_type": "markdown",
   "metadata": {},
   "source": [
    "### 2. `assert_list_variable_equals_json(student_variable_name, json_file_name)`"
   ]
  },
  {
   "cell_type": "markdown",
   "metadata": {},
   "source": [
    "We use this function when we have large list of values and we don't want to write it in the code. We can store the expected value in a json file and pass the json file name in the function.\n",
    "\n",
    "Let's understand with simple activity example."
   ]
  },
  {
   "cell_type": "markdown",
   "metadata": {},
   "source": [
    "##### Activity 2. Create a list 10000 prime numbers.\n",
    "\n",
    "Create a list of 10000 prime numbers and assign it to a variable `prime_numbers`."
   ]
  },
  {
   "cell_type": "code",
   "execution_count": null,
   "metadata": {},
   "outputs": [],
   "source": []
  },
  {
   "cell_type": "markdown",
   "metadata": {},
   "source": [
    "Solution:"
   ]
  },
  {
   "cell_type": "code",
   "execution_count": 6,
   "metadata": {},
   "outputs": [
    {
     "name": "stdout",
     "output_type": "stream",
     "text": [
      "First 10,000 prime numbers: [2, 3, 5, 7, 11, 13, 17, 19, 23, 29]\n"
     ]
    }
   ],
   "source": [
    "# Create a list of the first 10000 prime numbers\n",
    "primes = []\n",
    "n = 2\n",
    "\n",
    "def is_prime(n):\n",
    "    for i in range(2, int(n ** 0.5) + 1):\n",
    "        if n % i == 0:\n",
    "            return False\n",
    "    return True\n",
    "\n",
    "while len(primes) < 10000:\n",
    "    if is_prime(n):\n",
    "        primes.append(n)\n",
    "    n += 1\n",
    "print(f\"First 10,000 prime numbers: {primes[:10]}\")"
   ]
  },
  {
   "cell_type": "markdown",
   "metadata": {},
   "source": [
    "Assertions:"
   ]
  },
  {
   "cell_type": "markdown",
   "metadata": {},
   "source": [
    "Now, we'll write the assertions to validate the solution. We'll use `assert_list_variable_equals_json()` function to validate the solution.\n",
    "\n",
    "We'll save the expected value of the variable `prime_numbers` in a json file `prime_numbers.json` and then we'll use `assert_list_variable_equals_json()` function to validate the solution."
   ]
  },
  {
   "cell_type": "code",
   "execution_count": 9,
   "metadata": {},
   "outputs": [],
   "source": [
    "# save the first 10,000 prime numbers in a `prime_numbers.json` file\n",
    "import json\n",
    "with open('./activity_solutions_files/prime_numbers.json', 'w') as f:\n",
    "    json.dump(primes, f)"
   ]
  },
  {
   "cell_type": "markdown",
   "metadata": {},
   "source": [
    "We saved the expected value in a json file because we have large list of values and we don't want to write it in the hard code."
   ]
  },
  {
   "cell_type": "code",
   "execution_count": 10,
   "metadata": {},
   "outputs": [],
   "source": [
    "# assertions\n",
    "assert_list_variable_equals_json('primes', 'prime_numbers.json')"
   ]
  },
  {
   "cell_type": "markdown",
   "metadata": {},
   "source": [
    "### 3. `assert_list_variable_equals_pickle(student_variable_name, pickle_file_name)`"
   ]
  },
  {
   "cell_type": "markdown",
   "metadata": {},
   "source": [
    "We introduced the pickle file based validation because tuple are not supported in json file. So, we can store the expected value in a pickle file and pass the pickle file name in the function."
   ]
  },
  {
   "cell_type": "markdown",
   "metadata": {},
   "source": [
    "Uses of this function is similar to `assert_list_variable_equals_json()` function. Only difference is that we store the expected value in a pickle file instead of json file. Here is how we store the expected value in a pickle file.\n",
    "\n",
    "```python\n",
    "import pickle\n",
    "\n",
    "expected_value = [1, 2, 3, 4, 5]\n",
    "pickle.dump(expected_value, open(\"./activity_solutions_files/expected_value.pkl\", \"wb\"))\n",
    "```\n",
    "\n",
    "We can save pickle file either using `.pkl` or `.pickle` extension."
   ]
  },
  {
   "cell_type": "markdown",
   "metadata": {},
   "source": [
    "### Rest of the functions\n",
    "\n",
    "Rest of the functions are similar to the above functions. Only difference is that they are used for `tuple()` and `dict()` validation."
   ]
  }
 ],
 "metadata": {
  "kernelspec": {
   "display_name": "labs",
   "language": "python",
   "name": "python3"
  },
  "language_info": {
   "codemirror_mode": {
    "name": "ipython",
    "version": 3
   },
   "file_extension": ".py",
   "mimetype": "text/x-python",
   "name": "python",
   "nbconvert_exporter": "python",
   "pygments_lexer": "ipython3",
   "version": "3.10.14"
  }
 },
 "nbformat": 4,
 "nbformat_minor": 2
}
