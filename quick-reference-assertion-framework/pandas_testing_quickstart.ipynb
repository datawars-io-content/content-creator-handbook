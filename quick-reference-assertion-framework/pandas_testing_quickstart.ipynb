{
 "cells": [
  {
   "cell_type": "markdown",
   "metadata": {},
   "source": [
    "# Pandas Quick Start Guide"
   ]
  },
  {
   "cell_type": "code",
   "execution_count": 2,
   "metadata": {},
   "outputs": [],
   "source": [
    "exec(open(\"./utils.py\").read())"
   ]
  },
  {
   "cell_type": "markdown",
   "metadata": {},
   "source": [
    "In this pandas testing quickstart, we will learn how to write assertions/checks for activities on pandas skill track.\n",
    "\n",
    "This quickstart will cover the following most used functions:"
   ]
  },
  {
   "cell_type": "markdown",
   "metadata": {},
   "source": [
    "### 1. `assert_pd_dataframe_variable_column_equals_csv()`\n",
    "\n",
    "This function only checks if the column in the student's dataframe is equal to the column in the csv file. It does not check the other columns in the dataframe."
   ]
  },
  {
   "cell_type": "markdown",
   "metadata": {},
   "source": [
    "In the lab, [Mastering DataFrame Mutations with Hollywood data](https://app.datawars.io/project/48fad618-b0c9-4098-b0d0-b9327762ea94?page=1), for 1st activity we used `assert_pd_dataframe_variable_column_equals_csv` function to check if the student's has correctly created new column in the dataframe or not.\n",
    "\n",
    "Activity asked to create a new column named `revenue` to the dataframe `df`. This new column should reflect the difference between the values in the `gross` and `budget` columns which are already present in the dataframe.\n",
    "\n",
    "The solution code for this activity is as follows:\n",
    "\n",
    "```python\n",
    "df['revenue'] = df['gross'] - df['budget']\n",
    "```\n",
    "\n",
    "For the assertion, we first save the updated dataframe `df` in a csv file `activity_01.csv`(name of updated csv file which contains the new column).\n",
    "\n",
    "```python\n",
    "df.to_csv('activity_01.csv', index=False)\n",
    "```\n",
    "\n",
    "Then we use the `assert_pd_dataframe_variable_column_equals_csv` function to check if the student's dataframe has the new column `revenue` or not.\n",
    "\n",
    "```python\n",
    "assert_pd_dataframe_variable_column_equals_csv('df', 'revenue', 'activity_01.csv')\n",
    "```"
   ]
  },
  {
   "cell_type": "markdown",
   "metadata": {},
   "source": [
    "### 2. `assert_pd_dataframe_variable_equals_csv()`\n",
    "\n",
    "This function checks all column names and all values in the student's dataframe with the csv file."
   ]
  },
  {
   "cell_type": "markdown",
   "metadata": {},
   "source": [
    "In the same lab, 8th activity asked to drop some rows from the dataframe `df` based on some conditions.\n",
    "\n",
    "After writing solution code, we save the updated dataframe `df` in a csv file `activity_08.csv`(name of updated csv file which contains the updated dataframe).\n",
    "\n",
    "```python\n",
    "df.to_csv('activity_08.csv', index=False)\n",
    "```\n",
    "\n",
    "Then we use the `assert_pd_dataframe_variable_equals_csv` function to check if the student's dataframe is updated correctly or not.\n",
    "\n",
    "```python\n",
    "assert_pd_dataframe_variable_equals_csv('df', 'activity_08.csv')\n",
    "```"
   ]
  },
  {
   "cell_type": "markdown",
   "metadata": {},
   "source": [
    "### Other functions\n",
    "\n",
    "There are other functions available in the `pandas_testing` module which can be used to write assertions for pandas activities but they are not covered in this quickstart as they are not used much."
   ]
  }
 ],
 "metadata": {
  "kernelspec": {
   "display_name": "labs",
   "language": "python",
   "name": "python3"
  },
  "language_info": {
   "codemirror_mode": {
    "name": "ipython",
    "version": 3
   },
   "file_extension": ".py",
   "mimetype": "text/x-python",
   "name": "python",
   "nbconvert_exporter": "python",
   "pygments_lexer": "ipython3",
   "version": "3.10.14"
  }
 },
 "nbformat": 4,
 "nbformat_minor": 2
}
