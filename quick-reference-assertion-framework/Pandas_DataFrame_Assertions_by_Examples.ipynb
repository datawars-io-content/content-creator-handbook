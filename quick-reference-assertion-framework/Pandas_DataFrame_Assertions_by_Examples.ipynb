{
 "cells": [
  {
   "cell_type": "markdown",
   "metadata": {},
   "source": [
    "In this notebook, I've covered most used Pandas Dataframe assertion functions. Below are these functions:\n",
    "\n",
    "1. `assert_pd_dataframe_variable_column_equals_csv()`\n",
    "2. `assert_pd_dataframe_variable_equals_csv()`\n",
    "3. `assert_pd_dataframe_variable_equals_variable()`\n",
    "4. `assert_pd_dataframe_csv_equals_csv()`"
   ]
  },
  {
   "cell_type": "code",
   "execution_count": 2,
   "metadata": {
    "tags": []
   },
   "outputs": [],
   "source": [
    "exec(open(\"utils.py\").read())"
   ]
  },
  {
   "cell_type": "markdown",
   "metadata": {},
   "source": [
    "### Import the libraries and load the dataset"
   ]
  },
  {
   "cell_type": "code",
   "execution_count": 3,
   "metadata": {
    "tags": []
   },
   "outputs": [],
   "source": [
    "import pandas as pd\n",
    "\n",
    "df = pd.read_csv('Best_Books_Ever.csv')"
   ]
  },
  {
   "cell_type": "markdown",
   "metadata": {},
   "source": [
    "### Activities"
   ]
  },
  {
   "cell_type": "markdown",
   "metadata": {},
   "source": [
    "##### Activity 1. Calculating the Price-to-Rating Ratio\n",
    "\n",
    "Create a new column `Price-to-Rating Ratio` in the DataFrame that calculates the price-to-rating ratio for each book. This ratio will help us understand how the price of a book relates to its average rating."
   ]
  },
  {
   "cell_type": "code",
   "execution_count": null,
   "metadata": {},
   "outputs": [],
   "source": []
  },
  {
   "cell_type": "markdown",
   "metadata": {},
   "source": [
    "Solution:"
   ]
  },
  {
   "cell_type": "code",
   "execution_count": 8,
   "metadata": {
    "tags": []
   },
   "outputs": [],
   "source": [
    "df['price_to_rating'] = df['price'] / df['rating']"
   ]
  },
  {
   "cell_type": "code",
   "execution_count": null,
   "metadata": {},
   "outputs": [],
   "source": [
    "# save the dataframe to a new csv file\n",
    "df.to_csv('activity_solutions_files/sol_01.csv', index=True)"
   ]
  },
  {
   "cell_type": "markdown",
   "metadata": {},
   "source": [
    "Assertions:"
   ]
  },
  {
   "cell_type": "code",
   "execution_count": 9,
   "metadata": {
    "tags": []
   },
   "outputs": [],
   "source": [
    "assert_pd_dataframe_variable_column_equals_csv('df', 'price_to_rating', 'sol_01.csv')"
   ]
  },
  {
   "cell_type": "markdown",
   "metadata": {},
   "source": [
    "##### Activity 2. Remove the \"isbn\" Column\n",
    "\n",
    "The \"isbn\" column is not needed for our analysis. Write a script to remove this column from the dataframe."
   ]
  },
  {
   "cell_type": "code",
   "execution_count": null,
   "metadata": {},
   "outputs": [],
   "source": []
  },
  {
   "cell_type": "markdown",
   "metadata": {},
   "source": [
    "Solution:"
   ]
  },
  {
   "cell_type": "code",
   "execution_count": 10,
   "metadata": {
    "tags": []
   },
   "outputs": [],
   "source": [
    "df.drop(columns='isbn', inplace=True)"
   ]
  },
  {
   "cell_type": "code",
   "execution_count": 11,
   "metadata": {
    "tags": []
   },
   "outputs": [],
   "source": [
    "# save the dataframe to a new csv file\n",
    "df.to_csv('activity_solutions_files/sol_02.csv', index=True)"
   ]
  },
  {
   "cell_type": "markdown",
   "metadata": {},
   "source": [
    "Assertions:"
   ]
  },
  {
   "cell_type": "code",
   "execution_count": 12,
   "metadata": {
    "tags": []
   },
   "outputs": [],
   "source": [
    "assert_pd_dataframe_variable_equals_csv('df', 'sol_02.csv')"
   ]
  },
  {
   "cell_type": "markdown",
   "metadata": {},
   "source": [
    "##### Activity 3. Remove the Rows with Missing Values\n",
    "\n",
    "Write a script to extract the publication year from the `publishDate` column and create a new column named `YearPublished` in the dataframe."
   ]
  },
  {
   "cell_type": "code",
   "execution_count": null,
   "metadata": {},
   "outputs": [],
   "source": []
  },
  {
   "cell_type": "markdown",
   "metadata": {},
   "source": [
    "Solution:"
   ]
  },
  {
   "cell_type": "code",
   "execution_count": 87,
   "metadata": {},
   "outputs": [],
   "source": [
    "df['YearPublished'] = df['publishDate'].str.extract(r'(\\d{4})')"
   ]
  },
  {
   "cell_type": "code",
   "execution_count": null,
   "metadata": {},
   "outputs": [],
   "source": [
    "# save the dataframe to a new csv file\n",
    "df.to_csv('activity_solutions_files/sol_03.csv', index=True)"
   ]
  },
  {
   "cell_type": "markdown",
   "metadata": {},
   "source": [
    "Assertions:"
   ]
  },
  {
   "cell_type": "code",
   "execution_count": null,
   "metadata": {},
   "outputs": [],
   "source": [
    "read_csv_kwargs = {'index_col': 0, 'dtype': {'YearPublished': 'int32'}}\n",
    "assert_pd_dataframe_variable_column_equals_csv('df', 'YearPublished', 'sol_03.csv', read_csv_kwargs=read_csv_kwargs)"
   ]
  },
  {
   "cell_type": "markdown",
   "metadata": {},
   "source": [
    "##### Activity 4. Filter Books with Ratings Above 4.5\n",
    "\n",
    "Create a new dataframe that only include books with ratings above 4.5. Name this new dataframe `best_books`."
   ]
  },
  {
   "cell_type": "code",
   "execution_count": null,
   "metadata": {},
   "outputs": [],
   "source": []
  },
  {
   "cell_type": "markdown",
   "metadata": {},
   "source": [
    "Solution:"
   ]
  },
  {
   "cell_type": "code",
   "execution_count": 88,
   "metadata": {},
   "outputs": [],
   "source": [
    "best_books = df[df['rating'] >= 4.5]"
   ]
  },
  {
   "cell_type": "code",
   "execution_count": null,
   "metadata": {},
   "outputs": [],
   "source": [
    "# save the dataframe to a new csv file\n",
    "best_books.to_csv('activity_solutions_files/sol_04.csv', index=True)"
   ]
  },
  {
   "cell_type": "markdown",
   "metadata": {},
   "source": [
    "Assertions:"
   ]
  },
  {
   "cell_type": "code",
   "execution_count": null,
   "metadata": {},
   "outputs": [],
   "source": [
    "read_csv_kwargs = {'index_col': 0, 'dtype': {'YearPublished': 'int32'}}\n",
    "assert_pd_dataframe_variable_equals_csv('best_books', 'sol_04.csv', read_csv_kwargs=read_csv_kwargs)"
   ]
  },
  {
   "cell_type": "markdown",
   "metadata": {},
   "source": [
    "##### Activity 5. Drop Books with Fewer than 100 Pages\n",
    "\n",
    "Some entries in the dataset might represent short stories or other short works. For this activity, remove all rows from the dataframe where the number of pages is less than 100."
   ]
  },
  {
   "cell_type": "code",
   "execution_count": null,
   "metadata": {},
   "outputs": [],
   "source": []
  },
  {
   "cell_type": "markdown",
   "metadata": {},
   "source": [
    "Solution:"
   ]
  },
  {
   "cell_type": "code",
   "execution_count": 93,
   "metadata": {},
   "outputs": [],
   "source": [
    "df = df[df['pages'] >= 100]"
   ]
  },
  {
   "cell_type": "markdown",
   "metadata": {},
   "source": [
    "This line of code removes all rows from the dataframe where the number of pages is less than 100."
   ]
  },
  {
   "cell_type": "code",
   "execution_count": null,
   "metadata": {},
   "outputs": [],
   "source": [
    "# save the dataframe to a new csv file\n",
    "df.to_csv('activity_solutions_files/sol_05.csv', index=True)"
   ]
  },
  {
   "cell_type": "markdown",
   "metadata": {},
   "source": [
    "Assertions:"
   ]
  },
  {
   "cell_type": "code",
   "execution_count": null,
   "metadata": {},
   "outputs": [],
   "source": [
    "read_csv_kwargs = {'index_col': 0, 'dtype': {'YearPublished': 'int32'}}\n",
    "assert_pd_dataframe_variable_equals_csv('df', 'sol_05.csv', read_csv_kwargs=read_csv_kwargs)"
   ]
  },
  {
   "cell_type": "markdown",
   "metadata": {},
   "source": [
    "##### Activity 6. Flag Books with multiple Awards\n",
    "\n",
    "Create a new column `MultipleAwards` that flags books that have won multiple awards. If a book has won more than one award, set the value of `MultipleAwards` to `True`; otherwise, set it to `False`."
   ]
  },
  {
   "cell_type": "code",
   "execution_count": null,
   "metadata": {},
   "outputs": [],
   "source": []
  },
  {
   "cell_type": "markdown",
   "metadata": {},
   "source": [
    "Solution:"
   ]
  },
  {
   "cell_type": "code",
   "execution_count": 95,
   "metadata": {},
   "outputs": [],
   "source": [
    "df['MultipleAwards'] = df['awards'].apply(lambda x: len(eval(x)) > 1)"
   ]
  },
  {
   "cell_type": "code",
   "execution_count": null,
   "metadata": {},
   "outputs": [],
   "source": [
    "# save the dataframe to a new csv file\n",
    "df.to_csv('activity_solutions_files/sol_06.csv', index=True)"
   ]
  },
  {
   "cell_type": "markdown",
   "metadata": {},
   "source": [
    "Assertions:"
   ]
  },
  {
   "cell_type": "code",
   "execution_count": null,
   "metadata": {},
   "outputs": [],
   "source": [
    "read_csv_kwargs = {'index_col': 0}\n",
    "assert_pd_dataframe_variable_column_equals_csv('df', 'MultipleAwards', 'sol_06.csv', read_csv_kwargs=read_csv_kwargs)"
   ]
  },
  {
   "cell_type": "markdown",
   "metadata": {},
   "source": [
    "##### Activity 7. Adding a New Book Entry\n",
    "\n",
    "Add a new book entry to the dataframe with the following details:\n",
    "\n",
    "```python\n",
    "new_boos = {\n",
    "    \"bookID\": 10000,\n",
    "    \"title\": \"The Great Gatsby\",\n",
    "    \"author\": \"F. Scott Fitzgerald\",\n",
    "    \"rating\": 3.9,\n",
    "    \"pages\": 180,\n",
    "    \"publishDate\": \"2003-09-30\",\n",
    "    \"publisher\": \"Scribner\",\n",
    "    \"price\": 7.99,\n",
    "    \"genres\": \"['Fiction', 'Classics']\",\n",
    "    \"YearPublished\": 2003,\n",
    "    \"GenreCount\": 2,\n",
    "    \"FirstName\": \"F.\",\n",
    "    \"LastName\": \"Fitzgerald\",\n",
    "    \"PrimaryGenre\": \"Fiction\",\n",
    "    \"MultipleAwards\": False,\n",
    "    \"ReadingTimeHours\": 9.0,\n",
    "    \"Published21stCentury\": True\n",
    "}\n",
    "```\n",
    "\n",
    "> Add this new entry to the index `len(df)`."
   ]
  },
  {
   "cell_type": "code",
   "execution_count": null,
   "metadata": {},
   "outputs": [],
   "source": []
  },
  {
   "cell_type": "markdown",
   "metadata": {},
   "source": [
    "Solution:"
   ]
  },
  {
   "cell_type": "code",
   "execution_count": 104,
   "metadata": {},
   "outputs": [],
   "source": [
    "new_book = {\n",
    "    \"bookID\": 10000,\n",
    "    \"title\": \"The Great Gatsby\",\n",
    "    \"author\": \"F. Scott Fitzgerald\",\n",
    "    \"rating\": 3.9,\n",
    "    \"pages\": 180,\n",
    "    \"publishDate\": \"2003-09-30\",\n",
    "    \"publisher\": \"Scribner\",\n",
    "    \"price\": 7.99,\n",
    "    \"genres\": \"['Fiction', 'Classics']\",\n",
    "    \"YearPublished\": 2003,\n",
    "    \"GenreCount\": 2,\n",
    "    \"FirstName\": \"F.\",\n",
    "    \"LastName\": \"Fitzgerald\",\n",
    "    \"PrimaryGenre\": \"Fiction\",\n",
    "    \"MultipleAwards\": False,\n",
    "    \"ReadingTimeHours\": 9.0,\n",
    "    \"Published21stCentury\": True\n",
    "}\n",
    "new_df = pd.DataFrame(new_book, index=[len(df)])\n",
    "df = pd.concat([df, new_df])    "
   ]
  },
  {
   "cell_type": "code",
   "execution_count": null,
   "metadata": {},
   "outputs": [],
   "source": [
    "# save the dataframe to a new csv file\n",
    "df.to_csv('activity_solutions_files/sol_07.csv', index=True)"
   ]
  },
  {
   "cell_type": "markdown",
   "metadata": {},
   "source": [
    "Assertions:"
   ]
  },
  {
   "cell_type": "code",
   "execution_count": null,
   "metadata": {},
   "outputs": [],
   "source": [
    "read_csv_kwargs = {'index_col': 0}\n",
    "assert_pd_dataframe_variable_equals_csv('df', 'sol_07.csv', read_csv_kwargs=read_csv_kwargs)"
   ]
  },
  {
   "cell_type": "markdown",
   "metadata": {},
   "source": [
    "##### Activity 8. Save the updated dataframe in new CSV file\n",
    "\n",
    "Save the updated dataframe `df` in a new CSV file named `updated_best_book.csv`. Save this file in current directory only. \n",
    "\n",
    "> Make sure not to reset the index"
   ]
  },
  {
   "cell_type": "code",
   "execution_count": null,
   "metadata": {},
   "outputs": [],
   "source": []
  },
  {
   "cell_type": "markdown",
   "metadata": {},
   "source": [
    "Solution:"
   ]
  },
  {
   "cell_type": "code",
   "execution_count": 14,
   "metadata": {
    "tags": []
   },
   "outputs": [],
   "source": [
    "# save the dataframe to a new csv file\n",
    "df.to_csv('updated_best_book.csv', index=False)"
   ]
  },
  {
   "cell_type": "code",
   "execution_count": 17,
   "metadata": {
    "tags": []
   },
   "outputs": [],
   "source": [
    "# save the dataframe to a new csv file\n",
    "df.to_csv('activity_solutions_files/sol_08.csv', index=False)"
   ]
  },
  {
   "cell_type": "markdown",
   "metadata": {},
   "source": [
    "Assertions:"
   ]
  },
  {
   "cell_type": "code",
   "execution_count": 18,
   "metadata": {
    "tags": []
   },
   "outputs": [],
   "source": [
    "read_csv_kwargs = {'index_col': 0}\n",
    "assert_pd_dataframe_csv_equals_csv('updated_best_book.csv', 'sol_08.csv', read_csv_kwargs=read_csv_kwargs)"
   ]
  },
  {
   "cell_type": "markdown",
   "metadata": {},
   "source": [
    "##### Activity 9. Save the dataframe in CSV file.\n",
    "\n",
    "Use the below dictionary and first convert this dictionary into dataframe and store it in a dataframe `student_df` and then save this dataframe in a CSV file called `student_data.csv`.\n",
    "\n",
    "```python\n",
    "student_dict = {\n",
    "    'Name': ['Alice', 'Bob', 'Charlie', 'David', 'Eva'],\n",
    "    'Age': [18, 17, 19, 18, 17],\n",
    "    'Grade': ['A', 'B', 'A', 'B', 'A']\n",
    "}\n",
    "```"
   ]
  },
  {
   "cell_type": "code",
   "execution_count": null,
   "metadata": {},
   "outputs": [],
   "source": []
  },
  {
   "cell_type": "markdown",
   "metadata": {},
   "source": [
    "Solution:"
   ]
  },
  {
   "cell_type": "code",
   "execution_count": 20,
   "metadata": {
    "tags": []
   },
   "outputs": [],
   "source": [
    "import pandas as pd\n",
    "\n",
    "# Step 1: Given dictionary\n",
    "student_dict = {\n",
    "    'Name': ['Alice', 'Bob', 'Charlie', 'David', 'Eva'],\n",
    "    'Age': [18, 17, 19, 18, 17],\n",
    "    'Grade': ['A', 'B', 'A', 'B', 'A']\n",
    "}\n",
    "\n",
    "# Step 2: Convert the dictionary into a DataFrame\n",
    "student_df = pd.DataFrame(student_dict)\n",
    "\n",
    "# Step 3: Save the DataFrame to a CSV file\n",
    "student_df.to_csv('student_data.csv', index=False)\n"
   ]
  },
  {
   "cell_type": "code",
   "execution_count": 21,
   "metadata": {
    "tags": []
   },
   "outputs": [],
   "source": [
    "student_df.to_csv('activity_solutions_files/sol_09.csv', index=False)"
   ]
  },
  {
   "cell_type": "markdown",
   "metadata": {},
   "source": [
    "Assertions:"
   ]
  },
  {
   "cell_type": "code",
   "execution_count": 23,
   "metadata": {
    "tags": []
   },
   "outputs": [],
   "source": [
    "student_dict = {\n",
    "    'Name': ['Alice', 'Bob', 'Charlie', 'David', 'Eva'],\n",
    "    'Age': [18, 17, 19, 18, 17],\n",
    "    'Grade': ['A', 'B', 'A', 'B', 'A']\n",
    "}\n",
    "\n",
    "expected_student_df = pd.DataFrame(student_dict)\n",
    "assert_pd_dataframe_variable_equals_variable('student_df', 'expected_student_df', delete_afterwards=True)\n",
    "\n",
    "assert_pd_dataframe_csv_equals_csv('student_data.csv', 'sol_09.csv')"
   ]
  },
  {
   "cell_type": "markdown",
   "metadata": {},
   "source": [
    "### The End!"
   ]
  }
 ],
 "metadata": {
  "kernelspec": {
   "display_name": "Python 3 (ipykernel)",
   "language": "python",
   "name": "python3"
  },
  "language_info": {
   "codemirror_mode": {
    "name": "ipython",
    "version": 3
   },
   "file_extension": ".py",
   "mimetype": "text/x-python",
   "name": "python",
   "nbconvert_exporter": "python",
   "pygments_lexer": "ipython3",
   "version": "3.11.0"
  }
 },
 "nbformat": 4,
 "nbformat_minor": 4
}
