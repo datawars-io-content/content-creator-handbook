{
 "cells": [
  {
   "cell_type": "markdown",
   "metadata": {},
   "source": [
    "In this notebook, I've covered most used Functions checking assertion functions. Below are the functions that I've covered in this notebook.\n",
    "\n",
    "1. `assert_student_function_name_equals()`\n",
    "2. `assert_student_function_test_cases()`"
   ]
  },
  {
   "cell_type": "code",
   "execution_count": null,
   "metadata": {},
   "outputs": [],
   "source": [
    "exec(open(\"utils.py\").read())"
   ]
  },
  {
   "cell_type": "markdown",
   "metadata": {},
   "source": [
    "### Activities"
   ]
  },
  {
   "cell_type": "markdown",
   "metadata": {},
   "source": [
    "##### Activity 1. Create a function `add()`.\n",
    "\n",
    "Create a functions `add()` that takes two arguments and returns the sum of the two arguments."
   ]
  },
  {
   "cell_type": "code",
   "execution_count": null,
   "metadata": {},
   "outputs": [],
   "source": [
    "def add(a, b):\n",
    "    pass"
   ]
  },
  {
   "cell_type": "markdown",
   "metadata": {},
   "source": [
    "Solution:"
   ]
  },
  {
   "cell_type": "code",
   "execution_count": null,
   "metadata": {},
   "outputs": [],
   "source": [
    "def add(a, b):\n",
    "    return a + b"
   ]
  },
  {
   "cell_type": "markdown",
   "metadata": {},
   "source": [
    "Assertions:"
   ]
  },
  {
   "cell_type": "code",
   "execution_count": null,
   "metadata": {},
   "outputs": [],
   "source": [
    "assert_function_name_equals('add', (2, 6), expected_value=8)"
   ]
  },
  {
   "cell_type": "markdown",
   "metadata": {},
   "source": [
    "##### Activity 2. Implement a Function to Define a Movie Dictionary"
   ]
  },
  {
   "cell_type": "code",
   "execution_count": null,
   "metadata": {},
   "outputs": [],
   "source": [
    "movies = {}"
   ]
  },
  {
   "cell_type": "code",
   "execution_count": null,
   "metadata": {},
   "outputs": [],
   "source": [
    "def define_movies(dictionary, id, name, year, rank):\n",
    "    # Your code goes here\n",
    "    return dictionary"
   ]
  },
  {
   "cell_type": "code",
   "execution_count": null,
   "metadata": {},
   "outputs": [],
   "source": [
    "# Insert Values in movies dictionary using above created function"
   ]
  },
  {
   "cell_type": "markdown",
   "metadata": {},
   "source": [
    "Solution:"
   ]
  },
  {
   "cell_type": "code",
   "execution_count": null,
   "metadata": {},
   "outputs": [],
   "source": [
    "def define_movies(dictionary, id, name, year, rank):\n",
    "    dictionary[id] = {\n",
    "        'name': name,\n",
    "        'year': year,\n",
    "        'rank': rank\n",
    "    }\n",
    "    return dictionary"
   ]
  },
  {
   "cell_type": "code",
   "execution_count": null,
   "metadata": {},
   "outputs": [],
   "source": [
    "define_movies(movies, 0, 'Carmencita', 1894, 5.6)"
   ]
  },
  {
   "cell_type": "markdown",
   "metadata": {},
   "source": [
    "Assertions:"
   ]
  },
  {
   "cell_type": "code",
   "execution_count": null,
   "metadata": {},
   "outputs": [],
   "source": [
    "# new assertions\n",
    "# For the function `define_movies()`\n",
    "expedted_movies_1 = {}\n",
    "expedted_movies_2 = {}\n",
    "\n",
    "assert_student_function_test_cases(\n",
    "    \"define_movies\",\n",
    "    [\n",
    "    student_function_test_case((expedted_movies_1, 0, 'Carmencita', 1894, 5.6), expected_value={0: {'name': 'Carmencita', 'year': 1894, 'rank': 5.6}}),\n",
    "    student_function_test_case((expedted_movies_2, 0, 'Carmencita', 1894, 5.6), expected_value={0: {'name': 'Carmencita', 'year': 1894, 'rank': 5.6}}),\n",
    "     \n",
    "    #  Add one more in expected_movies_1\n",
    "    student_function_test_case((expedted_movies_1, 1, 'Carmencita', 1894, 5.6), expected_value={0: {'name': 'Carmencita', 'year': 1894, 'rank': 5.6}, 1: {'name': 'Carmencita', 'year': 1894, 'rank': 5.6}}),\n",
    "    ]\n",
    ")"
   ]
  },
  {
   "cell_type": "markdown",
   "metadata": {},
   "source": [
    "##### Activity 3. Define a function `define_roles`"
   ]
  },
  {
   "cell_type": "code",
   "execution_count": null,
   "metadata": {},
   "outputs": [],
   "source": [
    "roles = {}\n",
    "\n",
    "def define_roles(dictionary, actor_id, role):\n",
    "    # Your code goes here\n",
    "    return dictionary"
   ]
  },
  {
   "cell_type": "code",
   "execution_count": null,
   "metadata": {},
   "outputs": [],
   "source": [
    "# Insert the data into `roles` dictionary"
   ]
  },
  {
   "cell_type": "markdown",
   "metadata": {},
   "source": [
    "Solution:"
   ]
  },
  {
   "cell_type": "code",
   "execution_count": null,
   "metadata": {},
   "outputs": [],
   "source": [
    "def define_roles(dictionary, actor_id, role):\n",
    "    if actor_id in dictionary:\n",
    "        dictionary[actor_id]['role'].append(role)\n",
    "    else:\n",
    "        dictionary[actor_id] = {\n",
    "            'role': [role]\n",
    "        }\n",
    "    return dictionary"
   ]
  },
  {
   "cell_type": "code",
   "execution_count": null,
   "metadata": {},
   "outputs": [],
   "source": [
    "define_roles(roles, 4, 'Actor')\n",
    "define_roles(roles, 4, 'Singer')\n",
    "define_roles(roles, 3, 'Actor')"
   ]
  },
  {
   "cell_type": "markdown",
   "metadata": {},
   "source": [
    "Assertions:"
   ]
  },
  {
   "cell_type": "code",
   "execution_count": null,
   "metadata": {},
   "outputs": [],
   "source": [
    "# For the function `define_roles()`\n",
    "expedted_roles_1 = {}\n",
    "expedted_roles_2 = {}\n",
    "\n",
    "assert_student_function_test_cases(\n",
    "    \"define_roles\",\n",
    "    [\n",
    "    student_function_test_case((expedted_roles_1, 4, 'Actor'), expected_value={4: {'role': ['Actor']}}),\n",
    "    student_function_test_case((expedted_roles_2, 4, 'Actor'), expected_value={4: {'role': ['Actor']}}),\n",
    "     \n",
    "    #  Add one more in expeted_roles_1\n",
    "    student_function_test_case((expedted_roles_1, 4, 'Singer'), expected_value={4: {'role': ['Actor', 'Singer']}}),\n",
    "    ]\n",
    ")"
   ]
  },
  {
   "cell_type": "markdown",
   "metadata": {},
   "source": [
    "##### Activity 4. Define a function `define_movies_generes`"
   ]
  },
  {
   "cell_type": "code",
   "execution_count": null,
   "metadata": {},
   "outputs": [],
   "source": [
    "movies_genres = {}\n",
    "\n",
    "def define_movies_genres(dictionary, movie_id, genre):\n",
    "    # Your code goes here\n",
    "    return dictionary"
   ]
  },
  {
   "cell_type": "code",
   "execution_count": null,
   "metadata": {},
   "outputs": [],
   "source": [
    "# Insert the data into `movies_genres` dictionary using function `define_movies_genres()`"
   ]
  },
  {
   "cell_type": "markdown",
   "metadata": {},
   "source": [
    "Solution:"
   ]
  },
  {
   "cell_type": "code",
   "execution_count": null,
   "metadata": {},
   "outputs": [],
   "source": [
    "def define_movies_genres(dictionary, movie_id, genre):\n",
    "    if movie_id in dictionary:\n",
    "        dictionary[movie_id]['genre'].append(genre)\n",
    "    else:\n",
    "        dictionary[movie_id] = {\n",
    "            'genre': [genre]\n",
    "        }\n",
    "    return dictionary"
   ]
  },
  {
   "cell_type": "code",
   "execution_count": null,
   "metadata": {},
   "outputs": [],
   "source": [
    "define_movies_genres(movies_genres, 1, 'Short')\n",
    "define_movies_genres(movies_genres, 2, 'Short')"
   ]
  },
  {
   "cell_type": "markdown",
   "metadata": {},
   "source": [
    "Assertions:"
   ]
  },
  {
   "cell_type": "code",
   "execution_count": null,
   "metadata": {},
   "outputs": [],
   "source": [
    "# new assertions\n",
    "\n",
    "# For the function `define_movies_genres()`\n",
    "expedted_movies_genres_1 = {}\n",
    "expedted_movies_genres_2 = {}\n",
    "\n",
    "assert_student_function_test_cases(\n",
    "    \"define_movies_genres\",\n",
    "    [\n",
    "    student_function_test_case((expedted_movies_genres_1, 1, 'Short'), expected_value={1: {'genre': ['Short']}}),\n",
    "    student_function_test_case((expedted_movies_genres_2, 1, 'Short'), expected_value={1: {'genre': ['Short']}}),\n",
    "     \n",
    "    #  Add one more in expeted_movies_genres_1\n",
    "    student_function_test_case((expedted_movies_genres_1, 1, 'Comedy'), expected_value={1: {'genre': ['Short', 'Comedy']}}),\n",
    "    ]\n",
    ")"
   ]
  },
  {
   "cell_type": "markdown",
   "metadata": {},
   "source": [
    "### The End!"
   ]
  }
 ],
 "metadata": {
  "kernelspec": {
   "display_name": "base",
   "language": "python",
   "name": "python3"
  },
  "language_info": {
   "codemirror_mode": {
    "name": "ipython",
    "version": 3
   },
   "file_extension": ".py",
   "mimetype": "text/x-python",
   "name": "python",
   "nbconvert_exporter": "python",
   "pygments_lexer": "ipython3",
   "version": "3.10.4"
  },
  "orig_nbformat": 4
 },
 "nbformat": 4,
 "nbformat_minor": 2
}
