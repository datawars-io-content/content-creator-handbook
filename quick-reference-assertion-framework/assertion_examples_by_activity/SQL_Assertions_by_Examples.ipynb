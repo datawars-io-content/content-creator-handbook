{
 "cells": [
  {
   "cell_type": "markdown",
   "metadata": {},
   "source": [
    "In this notebook, I've covered most used SQL assertion functions. Below are the functions that I've covered in this notebook.\n",
    "\n",
    "1. `assert_sqlite_student_query_equals_expected_query(SQLITE_TRAVEL, SOLUTION_QUERY)`\n",
    "2. `assert_mysql_student_query_equals_expected_query('sakila', SOLUTION_QUERY)`\n",
    "3. `assert_postgresql_student_query_equals_expected_query('dvdrental', SOLUTION_QUERY)`"
   ]
  },
  {
   "cell_type": "markdown",
   "metadata": {},
   "source": [
    "### Activities"
   ]
  },
  {
   "cell_type": "markdown",
   "metadata": {},
   "source": [
    "##### Activity 1. Find the First Country\n",
    "\n",
    "Write a query to retrieve the first country from the `country` table. Rename the column to `First Country`. Use `IndepYear` to determine the first country."
   ]
  },
  {
   "cell_type": "code",
   "execution_count": null,
   "metadata": {},
   "outputs": [],
   "source": [
    "STUDENT_QUERY = '''\n",
    "{{ code_answer | safe }}\n",
    "'''\n",
    "SOLUTION_QUERY = '''\n",
    "# paste the solution from the project author here\n",
    "'''\n",
    "\n",
    "# SQLite:\n",
    "# assert_sqlite_student_query_equals_expected_query(SQLITE_TRAVEL, SOLUTION_QUERY)\n",
    "# MySQL\n",
    "# assert_mysql_student_query_equals_expected_query('sakila', SOLUTION_QUERY)\n",
    "# PostgreSQL\n",
    "# assert_postgresql_student_query_equals_expected_query('dvdrental', SOLUTION_QUERY)"
   ]
  },
  {
   "cell_type": "markdown",
   "metadata": {},
   "source": [
    "There are 3 SQL engine available, use the appropriate assertion function to check your query result with the expected result of the `SOLUTION_QUERY`."
   ]
  },
  {
   "cell_type": "markdown",
   "metadata": {},
   "source": [
    "### The End!"
   ]
  }
 ],
 "metadata": {
  "language_info": {
   "name": "python"
  }
 },
 "nbformat": 4,
 "nbformat_minor": 2
}
