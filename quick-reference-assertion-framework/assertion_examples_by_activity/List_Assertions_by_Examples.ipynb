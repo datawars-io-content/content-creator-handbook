{
 "cells": [
  {
   "cell_type": "markdown",
   "metadata": {},
   "source": [
    "In this notebook, I've covered most used List assertion functions. Below are these functions:\n",
    "\n",
    "1. `assert_list_variable_equals_variable(student_variable_name, expected_variable_name, delete_afterwards=True)`\n",
    "2. `assert_list_variable_equals_json(student_variable_name, json_file_name)`\n",
    "3. `assert_list_variable_equals_pickle(student_variable_name, pickle_file_name)`"
   ]
  },
  {
   "cell_type": "code",
   "execution_count": null,
   "metadata": {},
   "outputs": [],
   "source": [
    "exec(open(\"utils.py\").read())"
   ]
  },
  {
   "cell_type": "markdown",
   "metadata": {},
   "source": [
    "### Student Data Activities"
   ]
  },
  {
   "cell_type": "code",
   "execution_count": null,
   "metadata": {},
   "outputs": [],
   "source": [
    "# Import the data from the text file into a list\n",
    "student_list = []\n",
    "with open(\"student.txt\", \"r\") as file:\n",
    "    for line in file:\n",
    "        student = line.strip().split(',')\n",
    "        student_list.append(student)\n",
    "\n",
    "# Print the first 5 students\n",
    "student_list[:5]"
   ]
  },
  {
   "cell_type": "markdown",
   "metadata": {},
   "source": [
    "#### 1. Put the students from the index 98 to 214 into the list `best_students`\n",
    "\n",
    "Create a list `select_student` from the original list(`student_list`), starting at index 98 up to, but not including, index 214.\n",
    "\n",
    "> Make sure to not change the order of the students."
   ]
  },
  {
   "cell_type": "code",
   "execution_count": null,
   "metadata": {},
   "outputs": [],
   "source": [
    "select_student = ..."
   ]
  },
  {
   "cell_type": "markdown",
   "metadata": {},
   "source": [
    "Solutions:"
   ]
  },
  {
   "cell_type": "code",
   "execution_count": null,
   "metadata": {},
   "outputs": [],
   "source": [
    "select_student = student_list[98:214]\n",
    "select_student"
   ]
  },
  {
   "cell_type": "code",
   "execution_count": null,
   "metadata": {},
   "outputs": [],
   "source": [
    "# save json file\n",
    "import json\n",
    "with open('activity_solutions_files/solution_01.json', 'w') as f:\n",
    "    json.dump(select_student, f)"
   ]
  },
  {
   "cell_type": "markdown",
   "metadata": {},
   "source": [
    "Assertion:"
   ]
  },
  {
   "cell_type": "code",
   "execution_count": null,
   "metadata": {},
   "outputs": [],
   "source": [
    "# new assertions\n",
    "assert_list_variable_equals_json(\"select_student\", \"solution_01.json\")"
   ]
  },
  {
   "cell_type": "markdown",
   "metadata": {},
   "source": [
    "##### 2. Find the ` name, age, grade, subject` of the last student from our `select_students` list.\n",
    "\n",
    "From the previous activity, we have the list `select_student` which contains the students from the index 98 to 214. Now we need to find the `name, age, grade, subject` of the last student from our `select_student` list. Store the values in the variables `name, age, grade, and subject` respectively."
   ]
  },
  {
   "cell_type": "code",
   "execution_count": null,
   "metadata": {},
   "outputs": [],
   "source": [
    "name = ...\n",
    "age = ...\n",
    "grade = ...\n",
    "subject = ..."
   ]
  },
  {
   "cell_type": "markdown",
   "metadata": {},
   "source": [
    "Solutions:"
   ]
  },
  {
   "cell_type": "code",
   "execution_count": null,
   "metadata": {},
   "outputs": [],
   "source": [
    "name = select_student[-1][0]\n",
    "age = select_student[-1][2]\n",
    "grade = select_student[-1][3]\n",
    "subject = select_student[-1][4]\n",
    "\n",
    "print(f\"name: {name} age: {age} grade: {grade} & subject: {subject}\")"
   ]
  },
  {
   "cell_type": "markdown",
   "metadata": {},
   "source": [
    "Assertion:"
   ]
  },
  {
   "cell_type": "code",
   "execution_count": null,
   "metadata": {},
   "outputs": [],
   "source": [
    "# new assertions\n",
    "expected_name = \"Audrey\"\n",
    "expected_age = \"17\"\n",
    "expected_grade = \"E\"\n",
    "expected_subject = \"History\"\n",
    "assert_variable_equals_variable(\"name\", \"expected_name\")\n",
    "assert_variable_equals_variable(\"age\", \"expected_age\")\n",
    "assert_variable_equals_variable(\"grade\", \"expected_grade\")\n",
    "assert_variable_equals_variable(\"subject\", \"expected_subject\")"
   ]
  },
  {
   "cell_type": "markdown",
   "metadata": {},
   "source": [
    "## List Iteration with Conditional Statements"
   ]
  },
  {
   "cell_type": "markdown",
   "metadata": {},
   "source": [
    "##### 3. Get the ages of each student and store it in the list `students_age`\n",
    "\n",
    "> Convert the ages into `int` as currently they are type `str` (string).\n",
    "\n",
    "Loop through the list `student_list`, access the age, cast it to int, and append it to the new list variable `students_age`."
   ]
  },
  {
   "cell_type": "code",
   "execution_count": null,
   "metadata": {},
   "outputs": [],
   "source": [
    "students_age = ..."
   ]
  },
  {
   "cell_type": "markdown",
   "metadata": {},
   "source": [
    "Solutions:"
   ]
  },
  {
   "cell_type": "code",
   "execution_count": null,
   "metadata": {},
   "outputs": [],
   "source": [
    "students_age = []\n",
    "for student in student_list:\n",
    "    student_age = int(student[2])\n",
    "    students_age.append(student_age)\n",
    "\n",
    "students_age"
   ]
  },
  {
   "cell_type": "code",
   "execution_count": null,
   "metadata": {},
   "outputs": [],
   "source": [
    "len(students_age)"
   ]
  },
  {
   "cell_type": "code",
   "execution_count": null,
   "metadata": {},
   "outputs": [],
   "source": [
    "# save json file\n",
    "import json\n",
    "with open('activity_solutions_files/solution_03.json', 'w') as f:\n",
    "    json.dump(students_age, f)"
   ]
  },
  {
   "cell_type": "markdown",
   "metadata": {},
   "source": [
    "Assertion:"
   ]
  },
  {
   "cell_type": "code",
   "execution_count": null,
   "metadata": {},
   "outputs": [],
   "source": [
    "# new assertions\n",
    "assert_list_variable_equals_json(\"students_age\", \"solution_03.json\")"
   ]
  },
  {
   "cell_type": "markdown",
   "metadata": {},
   "source": [
    "##### 4. How many students have `History` as their favorite subject, how many have `English` and how many have `Math`.\n",
    "\n",
    "Iterate through the list `student_list` and check for each of these subjects, incrementing each time the variable for the corresponding subject and store the result in the variables `history_lovers`, `english_lovers` and `maths_lovers` respectively."
   ]
  },
  {
   "cell_type": "code",
   "execution_count": null,
   "metadata": {},
   "outputs": [],
   "source": [
    "history_lovers = ...\n",
    "maths_lovers = ...\n",
    "english_lovers = ..."
   ]
  },
  {
   "cell_type": "markdown",
   "metadata": {},
   "source": [
    "Solutions:"
   ]
  },
  {
   "cell_type": "code",
   "execution_count": null,
   "metadata": {},
   "outputs": [],
   "source": [
    "history_lovers_student = []\n",
    "english_lovers_student = []\n",
    "maths_lovers_student = []\n",
    "\n",
    "for student in student_list:\n",
    "    if \"History\" in student[4]:\n",
    "        if student[0] not in history_lovers_student:\n",
    "            history_lovers_student.append(student[0])\n",
    "    if \"English\" in student[4]:\n",
    "        if student[0] not in english_lovers_student:\n",
    "            english_lovers_student.append(student[0])\n",
    "    if \"Math\" in student[4]:\n",
    "        if student[0] not in maths_lovers_student:\n",
    "            maths_lovers_student.append(student[0])\n",
    "\n",
    "history_lovers = len(history_lovers_student)\n",
    "english_lovers = len(english_lovers_student)\n",
    "maths_lovers = len(maths_lovers_student)\n",
    "\n",
    "print(f\"History lovers: {history_lovers}\")\n",
    "print(f\"English lovers: {english_lovers}\")\n",
    "print(f\"Maths lovers: {maths_lovers}\")\n"
   ]
  },
  {
   "cell_type": "markdown",
   "metadata": {},
   "source": [
    "Assertions:"
   ]
  },
  {
   "cell_type": "code",
   "execution_count": null,
   "metadata": {},
   "outputs": [],
   "source": [
    "# new assertions\n",
    "expected_history_lovers = 52\n",
    "expected_english_lovers = 49\n",
    "expected_maths_lovers = 63\n",
    "assert_variable_equals_variable(\"history_lovers\", \"expected_history_lovers\")\n",
    "assert_variable_equals_variable(\"english_lovers\", \"expected_english_lovers\")\n",
    "assert_variable_equals_variable(\"maths_lovers\", \"expected_maths_lovers\")"
   ]
  },
  {
   "cell_type": "markdown",
   "metadata": {},
   "source": [
    "##### 5. Separate all `A` graders and all `B` graders from the list `student_list`.\n",
    "\n",
    "\n",
    "Create two lists `a_graders` and `b_graders` with the name, age, grade, and favorite subject of the students. Put students with `A` grades to the list `a_graders` and students with `B` graders to the list `b_graders`\n",
    "\n",
    "Expected output for `a_graders`:\n",
    "\n",
    "```python\n",
    "[['Luna', '18', 'A', 'English'],\n",
    " ['Anthony', '18', 'A', 'Math'],\n",
    " ['Bella', '17', 'A', 'History'],\n",
    " ['Lucy', '17', 'A', 'History'],\n",
    " ['Brooklyn', '18', 'A', 'History'],\n",
    " ['Ava', '18', 'A', 'Art'],\n",
    " ['Riley', '17', 'A', 'Math'],\n",
    " ...\n",
    "]\n",
    "```"
   ]
  },
  {
   "cell_type": "code",
   "execution_count": null,
   "metadata": {},
   "outputs": [],
   "source": [
    "a_graders = ...\n",
    "b_graders = ..."
   ]
  },
  {
   "cell_type": "markdown",
   "metadata": {},
   "source": [
    "Solutions:"
   ]
  },
  {
   "cell_type": "code",
   "execution_count": null,
   "metadata": {},
   "outputs": [],
   "source": [
    "a_graders = []\n",
    "b_graders = []\n",
    "\n",
    "for student in student_list:\n",
    "    if student[3]=='A':\n",
    "        student_name = student[0]\n",
    "        student_age = student[2]\n",
    "        student_grade = student[3]\n",
    "        student_subject = student[4]\n",
    "        a_graders.append([student_name,student_age,student_grade,student_subject])\n",
    "    if student[3]=='B':\n",
    "        student_name = student[0]\n",
    "        student_age = student[2]\n",
    "        student_grade = student[3]\n",
    "        student_subject = student[4]\n",
    "        b_graders.append([student_name,student_age,student_grade, student_subject])\n",
    "\n",
    "print(f\"len a {len(a_graders)}, len b: {len(b_graders)}\")\n"
   ]
  },
  {
   "cell_type": "code",
   "execution_count": null,
   "metadata": {},
   "outputs": [],
   "source": [
    "a_graders"
   ]
  },
  {
   "cell_type": "code",
   "execution_count": null,
   "metadata": {},
   "outputs": [],
   "source": [
    "# save json file\n",
    "import json\n",
    "with open('activity_solutions_files/solution_04_a.json', 'w') as f:\n",
    "    json.dump(a_graders, f)\n",
    "\n",
    "with open('activity_solutions_files/solution_04_b.json', 'w') as f:\n",
    "    json.dump(b_graders, f)"
   ]
  },
  {
   "cell_type": "markdown",
   "metadata": {},
   "source": [
    "Assertions:"
   ]
  },
  {
   "cell_type": "code",
   "execution_count": null,
   "metadata": {},
   "outputs": [],
   "source": [
    "# new assertions\n",
    "assert_list_variable_equals_json(\"a_graders\", \"solution_04_a.json\")\n",
    "assert_list_variable_equals_json(\"b_graders\", \"solution_04_b.json\")"
   ]
  },
  {
   "cell_type": "markdown",
   "metadata": {},
   "source": [
    "##### 6. Remove the student `['Luna', '18', 'E', 'Geography']` from the list `student_list`.\n",
    "\n",
    "Remove the student whose name is `Luna`, age is `18`, grade is `E` and subject is `Geography` from the list `student_list`. If there are multiple students with the same name, age, grade, and subject, remove all of them.\n"
   ]
  },
  {
   "cell_type": "code",
   "execution_count": null,
   "metadata": {},
   "outputs": [],
   "source": [
    "# Try your code here"
   ]
  },
  {
   "cell_type": "markdown",
   "metadata": {},
   "source": [
    "Solutions:"
   ]
  },
  {
   "cell_type": "code",
   "execution_count": null,
   "metadata": {},
   "outputs": [],
   "source": [
    "student_to_remove = ['Luna', '18', 'E', 'Geography']\n",
    "\n",
    "students_to_remove = []\n",
    "\n",
    "for student in student_list:\n",
    "    if student[0] == student_to_remove[0] and student[2] == student_to_remove[1] and student[3] == student_to_remove[2] and student[4] == student_to_remove[3]:\n",
    "        students_to_remove.append(student)\n",
    "\n",
    "print(students_to_remove)\n",
    "\n",
    "for student in students_to_remove:\n",
    "    student_list.remove(student)"
   ]
  },
  {
   "cell_type": "code",
   "execution_count": null,
   "metadata": {},
   "outputs": [],
   "source": [
    "# save json file\n",
    "with open('activity_solutions_files/solution_05.json', 'w') as f:\n",
    "    json.dump(student_list, f)"
   ]
  },
  {
   "cell_type": "markdown",
   "metadata": {},
   "source": [
    "Assertions:"
   ]
  },
  {
   "cell_type": "code",
   "execution_count": null,
   "metadata": {},
   "outputs": [],
   "source": [
    "# new assertions\n",
    "assert_list_variable_equals_json(\"student_list\", \"solution_05.json\")"
   ]
  },
  {
   "cell_type": "markdown",
   "metadata": {},
   "source": [
    "##### 6. Convert the `student_list` into list of tuples.\n",
    "\n",
    "Given the list `student_list` is a list of lists. Convert it into a list of tuples and store it in the variable `student_list_tuple`.\n",
    "\n",
    "Expected output:\n",
    "\n",
    "```python\n",
    "[('Luna', '18', 'A', 'English'),\n",
    " ('Anthony', '18', 'A', 'Math'),\n",
    " ('Bella', '17', 'A', 'History'),\n",
    " ('Lucy', '17', 'A', 'History'),\n",
    " ('Brooklyn', '18', 'A', 'History'),\n",
    " ('Ava', '18', 'A', 'Art'),\n",
    " ('Riley', '17', 'A', 'Math'),\n",
    " ...\n",
    "]\n",
    "```\n",
    "\n",
    "> This is just a simple conversion from list of lists to list of tuples. Expected output is different from above example list of tuples."
   ]
  },
  {
   "cell_type": "code",
   "execution_count": null,
   "metadata": {},
   "outputs": [],
   "source": [
    "# Try your code here\n",
    "student_list_tuple = ..."
   ]
  },
  {
   "cell_type": "markdown",
   "metadata": {},
   "source": [
    "Solution:"
   ]
  },
  {
   "cell_type": "code",
   "execution_count": null,
   "metadata": {},
   "outputs": [],
   "source": [
    "student_list_tuple = []\n",
    "\n",
    "for student in student_list:\n",
    "    student_list_tuple.append(tuple(student))\n",
    "    \n",
    "student_list_tuple[:5]"
   ]
  },
  {
   "cell_type": "code",
   "execution_count": null,
   "metadata": {},
   "outputs": [],
   "source": [
    "# save in a pickle file\n",
    "import pickle\n",
    "\n",
    "with open('activity_solutions_files/solution_06.pkl', 'wb') as f:\n",
    "    pickle.dump(student_list_tuple, f)"
   ]
  },
  {
   "cell_type": "markdown",
   "metadata": {},
   "source": [
    "Assertions:"
   ]
  },
  {
   "cell_type": "code",
   "execution_count": null,
   "metadata": {},
   "outputs": [],
   "source": [
    "# new assertions\n",
    "assert_list_variable_equals_pickle(\"student_list_tuple\", \"solution_06.pkl\")"
   ]
  },
  {
   "cell_type": "markdown",
   "metadata": {},
   "source": [
    "### The End!"
   ]
  }
 ],
 "metadata": {
  "kernelspec": {
   "display_name": "Python 3 (ipykernel)",
   "language": "python",
   "name": "python3"
  },
  "language_info": {
   "codemirror_mode": {
    "name": "ipython",
    "version": 3
   },
   "file_extension": ".py",
   "mimetype": "text/x-python",
   "name": "python",
   "nbconvert_exporter": "python",
   "pygments_lexer": "ipython3",
   "version": "3.8.18"
  }
 },
 "nbformat": 4,
 "nbformat_minor": 4
}
