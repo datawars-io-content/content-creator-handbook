{
 "cells": [
  {
   "cell_type": "markdown",
   "metadata": {},
   "source": [
    "In this notebook, I've covered most used Dictionary assertion functions. Below are these functions:\n",
    "\n",
    "1. `assert_dict_variable_equals_variable(student_variable_name, expected_variable_name, delete_afterwards=True)`\n",
    "2. `assert_dict_variable_equals_json(student_variable_name, json_file_name)`\n",
    "3. `assert_dict_variable_equals_pickle(student_variable_name, pickle_file_name)`"
   ]
  },
  {
   "cell_type": "code",
   "execution_count": null,
   "metadata": {},
   "outputs": [],
   "source": [
    "exec(open(\"utils.py\").read())"
   ]
  },
  {
   "cell_type": "markdown",
   "metadata": {},
   "source": [
    "### Activities"
   ]
  },
  {
   "cell_type": "code",
   "execution_count": null,
   "metadata": {},
   "outputs": [],
   "source": [
    "fruits_data = [('apple', 'red', 0.99), ('banana', 'yellow', 0.59), ('orange', 'orange', 0.79), ('grape', 'purple', 1.29), ('kiwi', 'green', 1.09), ('pineapple', 'yellow', 1.99), ('strawberry', 'red', 0.69), ('watermelon', 'green', 2.49), ('mango', 'orange', 1.49), ('peach', 'orange', 1.79), ('pear', 'green', 0.89), ('plum', 'purple', 0.79), ('raspberry', 'red', 2.99), ('blueberry', 'blue', 3.99), ('blackberry', 'black', 4.99)]\n",
    "fruits_data"
   ]
  },
  {
   "cell_type": "markdown",
   "metadata": {},
   "source": [
    "##### Activity 1. Create a fruits dictionary"
   ]
  },
  {
   "cell_type": "code",
   "execution_count": null,
   "metadata": {},
   "outputs": [],
   "source": [
    "# Try your solution here\n",
    "fruits = ..."
   ]
  },
  {
   "cell_type": "markdown",
   "metadata": {},
   "source": [
    "Solution:"
   ]
  },
  {
   "cell_type": "code",
   "execution_count": null,
   "metadata": {},
   "outputs": [],
   "source": [
    "fruits = {}\n",
    "for fruit in fruits_data:\n",
    "    name = fruit[0]\n",
    "    color = fruit[1]\n",
    "    price = fruit[2]\n",
    "    fruits[name] = {'color': color, 'price': price}\n",
    "\n",
    "fruits"
   ]
  },
  {
   "cell_type": "code",
   "execution_count": null,
   "metadata": {},
   "outputs": [],
   "source": [
    "# save json file\n",
    "import json\n",
    "with open('activity_solutions_files/solution_01.json', 'w') as f:\n",
    "    json.dump(fruits, f)"
   ]
  },
  {
   "cell_type": "markdown",
   "metadata": {},
   "source": [
    "Assertions:"
   ]
  },
  {
   "cell_type": "code",
   "execution_count": null,
   "metadata": {},
   "outputs": [],
   "source": [
    "# new assertions\n",
    "assert_dict_variable_equals_json('fruits', 'solution_01.json')"
   ]
  },
  {
   "cell_type": "markdown",
   "metadata": {},
   "source": [
    "##### Activity 2. Create a Dictionary of Colors and Fruits"
   ]
  },
  {
   "cell_type": "code",
   "execution_count": null,
   "metadata": {},
   "outputs": [],
   "source": [
    "# Try your solution here\n",
    "colors = ..."
   ]
  },
  {
   "cell_type": "markdown",
   "metadata": {},
   "source": [
    "Solution:"
   ]
  },
  {
   "cell_type": "code",
   "execution_count": null,
   "metadata": {},
   "outputs": [],
   "source": [
    "colors = {}\n",
    "\n",
    "for fruit in fruits:\n",
    "    name = fruit\n",
    "    colors.setdefault(fruits[name]['color'], []).append(name)\n",
    "\n",
    "colors"
   ]
  },
  {
   "cell_type": "code",
   "execution_count": null,
   "metadata": {},
   "outputs": [],
   "source": [
    "# save json file\n",
    "with open('activity_solutions_files/solution_02.json', 'w') as f:\n",
    "    json.dump(colors, f)"
   ]
  },
  {
   "cell_type": "markdown",
   "metadata": {},
   "source": [
    "Assertions:"
   ]
  },
  {
   "cell_type": "code",
   "execution_count": null,
   "metadata": {},
   "outputs": [],
   "source": [
    "# new assertions\n",
    "assert_dict_variable_equals_json('colors', 'solution_02.json')"
   ]
  },
  {
   "cell_type": "markdown",
   "metadata": {},
   "source": [
    "##### Activity 3. Create a Dictionary of only red color fruits\n",
    "\n",
    "Store the result in a variable `red_fruits`."
   ]
  },
  {
   "cell_type": "code",
   "execution_count": null,
   "metadata": {},
   "outputs": [],
   "source": [
    "# Try your solution here\n",
    "red_fruits = ..."
   ]
  },
  {
   "cell_type": "markdown",
   "metadata": {},
   "source": [
    "Solution:"
   ]
  },
  {
   "cell_type": "code",
   "execution_count": null,
   "metadata": {},
   "outputs": [],
   "source": [
    "red_fruits = {}\n",
    "\n",
    "for fruit in fruits:\n",
    "    name = fruit\n",
    "    if fruits[name]['color'] == 'red':\n",
    "        red_fruits[name] = fruits[name]\n",
    "        \n",
    "red_fruits"
   ]
  },
  {
   "cell_type": "markdown",
   "metadata": {},
   "source": [
    "Assertions:"
   ]
  },
  {
   "cell_type": "code",
   "execution_count": null,
   "metadata": {},
   "outputs": [],
   "source": [
    "expected_red_fruits = {'apple': {'color': 'red', 'price': 0.99},\n",
    " 'strawberry': {'color': 'red', 'price': 0.69},\n",
    " 'raspberry': {'color': 'red', 'price': 2.99}}\n",
    "assert_dict_variable_equals_variable('red_fruits', 'expected_red_fruits')"
   ]
  },
  {
   "cell_type": "markdown",
   "metadata": {},
   "source": [
    "##### Activity 4. Create a Dictionary of only red and blue color fruits\n",
    "\n",
    "Store the result in a variable `red_blue_fruits`, here the key is the color and value is the tuple containing two values - color and its price."
   ]
  },
  {
   "cell_type": "code",
   "execution_count": null,
   "metadata": {},
   "outputs": [],
   "source": [
    "# Write your solution here\n",
    "red_blue_fruits = ..."
   ]
  },
  {
   "cell_type": "markdown",
   "metadata": {},
   "source": [
    "Solution:"
   ]
  },
  {
   "cell_type": "code",
   "execution_count": 10,
   "metadata": {},
   "outputs": [
    {
     "data": {
      "text/plain": [
       "{'apple': ('red', 0.99),\n",
       " 'strawberry': ('red', 0.69),\n",
       " 'raspberry': ('red', 2.99),\n",
       " 'blueberry': ('blue', 3.99)}"
      ]
     },
     "execution_count": 10,
     "metadata": {},
     "output_type": "execute_result"
    }
   ],
   "source": [
    "red_blue_fruits = {}\n",
    "\n",
    "for fruit in fruits:\n",
    "    name = fruit\n",
    "    if fruits[name]['color'] == 'red' or fruits[name]['color'] == 'blue':\n",
    "        red_blue_fruits[name] = tuple(fruits[name].values())\n",
    "        \n",
    "red_blue_fruits"
   ]
  },
  {
   "cell_type": "code",
   "execution_count": null,
   "metadata": {},
   "outputs": [],
   "source": [
    "# save in pickle file\n",
    "import pickle\n",
    "with open('activity_solutions_files/solution_04.pkl', 'wb') as f:\n",
    "    pickle.dump(red_blue_fruits, f)"
   ]
  },
  {
   "cell_type": "markdown",
   "metadata": {},
   "source": [
    "Assertions:"
   ]
  },
  {
   "cell_type": "code",
   "execution_count": null,
   "metadata": {},
   "outputs": [],
   "source": [
    "# new assertions\n",
    "assert_dict_variable_equals_pickle('red_blue_fruits', 'solution_04.pkl')"
   ]
  },
  {
   "cell_type": "markdown",
   "metadata": {},
   "source": [
    "### The End!"
   ]
  }
 ],
 "metadata": {
  "kernelspec": {
   "display_name": "base",
   "language": "python",
   "name": "python3"
  },
  "language_info": {
   "codemirror_mode": {
    "name": "ipython",
    "version": 3
   },
   "file_extension": ".py",
   "mimetype": "text/x-python",
   "name": "python",
   "nbconvert_exporter": "python",
   "pygments_lexer": "ipython3",
   "version": "3.10.14"
  },
  "orig_nbformat": 4
 },
 "nbformat": 4,
 "nbformat_minor": 2
}
