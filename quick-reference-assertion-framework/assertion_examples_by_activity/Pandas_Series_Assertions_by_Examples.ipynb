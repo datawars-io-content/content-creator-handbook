{
 "cells": [
  {
   "cell_type": "markdown",
   "id": "b439e6eb",
   "metadata": {},
   "source": [
    "In this notebook, I've covered most used Pandas Series assertion functions. Below are the functions that I've covered in this notebook.\n",
    "\n",
    "1. `assert_pd_series_variable_equals_csv()`"
   ]
  },
  {
   "cell_type": "code",
   "execution_count": null,
   "id": "9e482f75-39ed-4e9d-a76f-27d34f43db6c",
   "metadata": {},
   "outputs": [],
   "source": [
    "exec(open('utils.py').read())"
   ]
  },
  {
   "cell_type": "code",
   "execution_count": null,
   "id": "cb211347",
   "metadata": {},
   "outputs": [],
   "source": [
    "import pandas as pd"
   ]
  },
  {
   "cell_type": "code",
   "execution_count": null,
   "id": "fcfa694f",
   "metadata": {},
   "outputs": [],
   "source": [
    "df = pd.read_csv('nba_player_stats_1985.csv', index_col='Player')"
   ]
  },
  {
   "cell_type": "code",
   "execution_count": null,
   "id": "5ea54b21",
   "metadata": {},
   "outputs": [],
   "source": [
    "df.head()"
   ]
  },
  {
   "cell_type": "code",
   "execution_count": null,
   "id": "abb00690",
   "metadata": {},
   "outputs": [],
   "source": [
    "# Game info\n",
    "games_played = df['G']\n",
    "minutes_played = df['MP']\n",
    "\n",
    "# Field Goals info\n",
    "field_goals = df['FG']\n",
    "field_goals_attempts = df['FGA']\n",
    "\n",
    "# Free Throws info\n",
    "free_throws = df['FT']\n",
    "free_throws_attempts = df['FTA']"
   ]
  },
  {
   "cell_type": "markdown",
   "id": "2cfa0e9e",
   "metadata": {},
   "source": [
    "### Activities"
   ]
  },
  {
   "cell_type": "markdown",
   "id": "bc857747",
   "metadata": {},
   "source": [
    "##### Activity 1. Calculate field goal accuracy"
   ]
  },
  {
   "cell_type": "code",
   "execution_count": null,
   "id": "6a24cf78",
   "metadata": {},
   "outputs": [],
   "source": [
    "field_goal_perc = ..."
   ]
  },
  {
   "cell_type": "markdown",
   "id": "94f5a6c1-3fd7-44b4-a7a9-0dbc70c65e9e",
   "metadata": {},
   "source": [
    "Solution:"
   ]
  },
  {
   "cell_type": "code",
   "execution_count": null,
   "id": "9ab9c165-d407-4a88-b548-48673bd6bfd9",
   "metadata": {
    "scrolled": true
   },
   "outputs": [],
   "source": [
    "field_goal_perc = (field_goals / field_goals_attempts) * 100\n",
    "field_goal_perc.head()"
   ]
  },
  {
   "cell_type": "code",
   "execution_count": null,
   "id": "e1ea43df-5cef-42b2-bcff-70ce2e224b29",
   "metadata": {},
   "outputs": [],
   "source": [
    "field_goal_perc.to_csv('activity_solutions_files/activity_1.csv',)"
   ]
  },
  {
   "cell_type": "markdown",
   "id": "e220a5ce-468c-4376-8684-82b0317caf59",
   "metadata": {},
   "source": [
    "Assertions:"
   ]
  },
  {
   "cell_type": "code",
   "execution_count": null,
   "id": "4a646fa8-52a7-4c18-b917-c3c673864a7a",
   "metadata": {},
   "outputs": [],
   "source": [
    "assert_pd_series_variable_equals_csv('field_goal_perc', 'activity_1.csv')"
   ]
  },
  {
   "cell_type": "markdown",
   "id": "cc22fead",
   "metadata": {},
   "source": [
    "##### 2. Field goals per Game"
   ]
  },
  {
   "cell_type": "code",
   "execution_count": null,
   "id": "0dbedf90",
   "metadata": {},
   "outputs": [],
   "source": [
    "field_goals_per_game = ..."
   ]
  },
  {
   "cell_type": "markdown",
   "id": "9cf846d5-cb2b-4f9a-a5a9-2784764ca9e3",
   "metadata": {},
   "source": [
    "Solution:"
   ]
  },
  {
   "cell_type": "code",
   "execution_count": null,
   "id": "65dd7608-99a4-48dd-b8b3-92f990584029",
   "metadata": {},
   "outputs": [],
   "source": [
    "field_goals_per_game = field_goals / games_played"
   ]
  },
  {
   "cell_type": "code",
   "execution_count": null,
   "id": "f939ad2a-6b85-4379-b0bb-68dc8ce39f50",
   "metadata": {},
   "outputs": [],
   "source": [
    "field_goals_per_game.to_csv('activity_solutions_files/activity_2.csv',)"
   ]
  },
  {
   "cell_type": "markdown",
   "id": "f065eaaa-43e9-4d46-a67c-f58ecece19b9",
   "metadata": {},
   "source": [
    "Assertions:"
   ]
  },
  {
   "cell_type": "code",
   "execution_count": null,
   "id": "8fcccddb-c33c-4949-b5f6-710cad418097",
   "metadata": {},
   "outputs": [],
   "source": [
    "assert_pd_series_variable_equals_csv('field_goals_per_game', 'activity_2.csv')"
   ]
  },
  {
   "cell_type": "markdown",
   "id": "3db6d1ce",
   "metadata": {},
   "source": [
    "##### 3. Calculate \"Total Points\""
   ]
  },
  {
   "cell_type": "code",
   "execution_count": null,
   "id": "1b880151",
   "metadata": {},
   "outputs": [],
   "source": [
    "total_points = ..."
   ]
  },
  {
   "cell_type": "markdown",
   "id": "cac2769f-a93d-404c-ae08-be770293dcbd",
   "metadata": {},
   "source": [
    "Solution:"
   ]
  },
  {
   "cell_type": "code",
   "execution_count": null,
   "id": "b34e48e5-20b7-4c8d-8fa3-b6036f5042d6",
   "metadata": {},
   "outputs": [],
   "source": [
    "total_points = (field_goals * 2) + free_throws"
   ]
  },
  {
   "cell_type": "code",
   "execution_count": null,
   "id": "7df55f22-489f-435f-a1e5-2babc0a5cd23",
   "metadata": {},
   "outputs": [],
   "source": [
    "total_points.to_csv('activity_solutions_files/activity_3.csv',)"
   ]
  },
  {
   "cell_type": "markdown",
   "id": "3f4c89ad-f26a-4c16-b6ce-524c8f6ad97f",
   "metadata": {},
   "source": [
    "Assertions:"
   ]
  },
  {
   "cell_type": "code",
   "execution_count": null,
   "id": "5b566d86-5ab2-4543-80bc-f1366d96d5d9",
   "metadata": {},
   "outputs": [],
   "source": [
    "assert_pd_series_variable_equals_csv('total_points', 'activity_3.csv')"
   ]
  },
  {
   "attachments": {},
   "cell_type": "markdown",
   "id": "6664f7d8",
   "metadata": {},
   "source": [
    "### The End!"
   ]
  }
 ],
 "metadata": {
  "kernelspec": {
   "display_name": "Python 3 (ipykernel)",
   "language": "python",
   "name": "python3"
  },
  "language_info": {
   "codemirror_mode": {
    "name": "ipython",
    "version": 3
   },
   "file_extension": ".py",
   "mimetype": "text/x-python",
   "name": "python",
   "nbconvert_exporter": "python",
   "pygments_lexer": "ipython3",
   "version": "3.8.0"
  }
 },
 "nbformat": 4,
 "nbformat_minor": 5
}
