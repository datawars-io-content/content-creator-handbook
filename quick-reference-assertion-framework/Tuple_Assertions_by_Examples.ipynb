{
 "cells": [
  {
   "cell_type": "markdown",
   "id": "369d3d75",
   "metadata": {},
   "source": [
    "In this notebook, I've covered most used Tuple assertion functions. Below are these functions:\n",
    "\n",
    "1. `assert_tuple_variable_equals_variable(student_variable_name, expected_variable_name, delete_afterwards=True)`\n",
    "2. `assert_tuple_variable_equals_pickle(student_variable_name, pickle_file_name)`"
   ]
  },
  {
   "cell_type": "code",
   "execution_count": null,
   "id": "28248c24",
   "metadata": {},
   "outputs": [],
   "source": [
    "exec(open(\"utils.py\").read())"
   ]
  },
  {
   "cell_type": "markdown",
   "id": "bdb8460f",
   "metadata": {},
   "source": [
    "### Read the dataset"
   ]
  },
  {
   "cell_type": "code",
   "execution_count": null,
   "id": "6e165453",
   "metadata": {},
   "outputs": [],
   "source": [
    "# lets get our dataset of Fibonacci Sequence\n",
    "import pandas as pd\n",
    "fibo_seq = tuple(pd.read_csv('./fibonacci_sequence.txt').squeeze('columns').values)\n",
    "\n",
    "# checking first 10 fruits\n",
    "fibo_seq[:10]"
   ]
  },
  {
   "attachments": {},
   "cell_type": "markdown",
   "id": "b4d70642",
   "metadata": {},
   "source": [
    "##### Activity 1. Slice the tuple `fibo_seq` from 4th index to 34th index"
   ]
  },
  {
   "cell_type": "code",
   "execution_count": null,
   "id": "d4cfe498",
   "metadata": {},
   "outputs": [],
   "source": [
    "# Try your code here\n",
    "thirty_step = ..."
   ]
  },
  {
   "attachments": {},
   "cell_type": "markdown",
   "id": "57526a8e",
   "metadata": {},
   "source": [
    "Solution:"
   ]
  },
  {
   "cell_type": "code",
   "execution_count": null,
   "id": "bd812b14",
   "metadata": {},
   "outputs": [],
   "source": [
    "thirty_step = fibo_seq[4:34]\n",
    "thirty_step\n",
    "# len(thirty_step)"
   ]
  },
  {
   "cell_type": "code",
   "execution_count": null,
   "id": "d4ca9fd6",
   "metadata": {},
   "outputs": [],
   "source": [
    "# save pickle file\n",
    "import pickle\n",
    "with open('activity_solutions_files/solution_01.pkl', 'wb') as f:\n",
    "    pickle.dump(thirty_step, f)"
   ]
  },
  {
   "attachments": {},
   "cell_type": "markdown",
   "id": "7ec0751a",
   "metadata": {},
   "source": [
    "Assertions:"
   ]
  },
  {
   "cell_type": "code",
   "execution_count": null,
   "id": "804ee640",
   "metadata": {},
   "outputs": [],
   "source": [
    "# new assertions\n",
    "assert_tuple_variable_equals_pickle('thirty_step', 'solution_01.pkl')"
   ]
  },
  {
   "cell_type": "markdown",
   "id": "ace4edb7",
   "metadata": {},
   "source": [
    "### Students Records Data"
   ]
  },
  {
   "attachments": {},
   "cell_type": "markdown",
   "id": "9c72ac51",
   "metadata": {},
   "source": [
    "**Below are two tuples having students records of two cohorts for Computer Science course this semester, each cohort has 30 students**\n",
    "\n",
    "Each tuple is as `(student_name, overall_grade)`."
   ]
  },
  {
   "cell_type": "code",
   "execution_count": null,
   "id": "616ce3ea",
   "metadata": {},
   "outputs": [],
   "source": [
    "student_data_a = (\n",
    "    (\"John\", 85), (\"Emily\", 92), (\"Michael\", 78), (\"Sophia\", 95),\n",
    "    (\"Jacob\", 88), (\"Emma\", 90), (\"Joshua\", 81), (\"Olivia\", 87),\n",
    "    (\"Daniel\", 93), (\"Ava\", 89), (\"Matthew\", 77), (\"Isabella\", 94),\n",
    "    (\"Ethan\", 83), (\"Mia\", 91), (\"Alexander\", 86), (\"Charlotte\", 84),\n",
    "    (\"William\", 82), (\"Amelia\", 96), (\"James\", 79), (\"Liam\", 97),\n",
    "    (\"Abigail\", 80), (\"Benjamin\", 85), (\"Harper\", 88), (\"Henry\", 92),\n",
    "    (\"Ella\", 89), (\"Samuel\", 83), (\"Sofia\", 90), (\"David\", 94),\n",
    "    (\"Victoria\", 87), (\"Joseph\", 91)\n",
    ")\n"
   ]
  },
  {
   "cell_type": "code",
   "execution_count": null,
   "id": "ceafee47",
   "metadata": {},
   "outputs": [],
   "source": [
    "student_data_b = (\n",
    "    (\"Lily\", 88), (\"Christopher\", 94), (\"Grace\", 79), (\"Andrew\", 91),\n",
    "    (\"Samantha\", 85), (\"Jack\", 90), (\"Avery\", 82), (\"Daniel\", 96),\n",
    "    (\"Madison\", 89), (\"Ryan\", 77), (\"Evelyn\", 93), (\"Nicholas\", 84),\n",
    "    (\"Chloe\", 92), (\"Joshua\", 81), (\"Zoe\", 95), (\"Luke\", 86),\n",
    "    (\"Hannah\", 83), (\"Gabriel\", 90), (\"Aria\", 87), (\"Caleb\", 78),\n",
    "    (\"Lillian\", 94), (\"Isaac\", 84), (\"Audrey\", 91), (\"Owen\", 89),\n",
    "    (\"Brooklyn\", 82), (\"Nathan\", 95), (\"Elizabeth\", 88), (\"Elijah\", 93),\n",
    "    (\"Scarlett\", 86), (\"David\", 90)\n",
    ")"
   ]
  },
  {
   "attachments": {},
   "cell_type": "markdown",
   "id": "4adbe279",
   "metadata": {},
   "source": [
    "##### Activity 2. Concatenate the records of both collections into one tuple"
   ]
  },
  {
   "cell_type": "code",
   "execution_count": null,
   "id": "dc990c4e",
   "metadata": {},
   "outputs": [],
   "source": [
    "# Try your code here\n",
    "combined = ..."
   ]
  },
  {
   "attachments": {},
   "cell_type": "markdown",
   "id": "d2ed5b6d",
   "metadata": {},
   "source": [
    "Solution:"
   ]
  },
  {
   "cell_type": "code",
   "execution_count": null,
   "id": "72dfe690",
   "metadata": {},
   "outputs": [],
   "source": [
    "combined = student_data_a + student_data_b\n",
    "combined[0:5]"
   ]
  },
  {
   "cell_type": "code",
   "execution_count": null,
   "id": "5b440a85",
   "metadata": {},
   "outputs": [],
   "source": [
    "# save pickle file\n",
    "with open('activity_solutions_files/solution_02.pkl', 'wb') as f:\n",
    "    pickle.dump(combined, f)"
   ]
  },
  {
   "cell_type": "markdown",
   "id": "5d0b9dee",
   "metadata": {},
   "source": [
    "Assertions:"
   ]
  },
  {
   "cell_type": "code",
   "execution_count": null,
   "id": "730a97cc",
   "metadata": {},
   "outputs": [],
   "source": [
    "# new assertions\n",
    "assert_tuple_variable_equals_pickle('combined', 'solution_02.pkl')"
   ]
  },
  {
   "attachments": {},
   "cell_type": "markdown",
   "id": "951bb7d1",
   "metadata": {},
   "source": [
    "##### Activity 3. Sort the `combined` tuple so that we will have names in alphabetic order** "
   ]
  },
  {
   "cell_type": "code",
   "execution_count": null,
   "id": "7c382b81",
   "metadata": {},
   "outputs": [],
   "source": [
    "# Try your code here\n",
    "sorted_combine = ..."
   ]
  },
  {
   "attachments": {},
   "cell_type": "markdown",
   "id": "3cdf9de9",
   "metadata": {},
   "source": [
    "Solution:"
   ]
  },
  {
   "cell_type": "code",
   "execution_count": null,
   "id": "e42d1dfb",
   "metadata": {},
   "outputs": [],
   "source": [
    "sorted_combine = tuple(sorted(combined))\n",
    "sorted_combine"
   ]
  },
  {
   "cell_type": "code",
   "execution_count": null,
   "id": "ed42c70c",
   "metadata": {},
   "outputs": [],
   "source": [
    "# save pickle file\n",
    "with open('activity_solutions_files/solution_3.pkl', 'wb') as f:\n",
    "    pickle.dump(sorted_combine, f)"
   ]
  },
  {
   "attachments": {},
   "cell_type": "markdown",
   "id": "92726596",
   "metadata": {},
   "source": [
    "Assertions:"
   ]
  },
  {
   "cell_type": "code",
   "execution_count": null,
   "id": "f5864e27",
   "metadata": {},
   "outputs": [],
   "source": [
    "# new assertions\n",
    "assert_tuple_variable_equals_pickle('sorted_combine', 'solution_3.pkl')"
   ]
  },
  {
   "cell_type": "markdown",
   "id": "eb91374e",
   "metadata": {},
   "source": [
    "##### Activity 4. Find the student with the highest grade\n",
    "\n",
    "First, find the highest grade and then find the student with that grade then store the details in a tuple named `top_student`."
   ]
  },
  {
   "cell_type": "code",
   "execution_count": null,
   "id": "71c7f6c8",
   "metadata": {},
   "outputs": [],
   "source": [
    "# Try your code here\n",
    "top_student = ..."
   ]
  },
  {
   "cell_type": "markdown",
   "id": "ec4e5203",
   "metadata": {},
   "source": [
    "Solution:"
   ]
  },
  {
   "cell_type": "code",
   "execution_count": null,
   "id": "056d71cd",
   "metadata": {},
   "outputs": [],
   "source": [
    "top_student = sorted_combine[-1]"
   ]
  },
  {
   "cell_type": "code",
   "execution_count": null,
   "id": "f643fad9",
   "metadata": {},
   "outputs": [],
   "source": [
    "top_student"
   ]
  },
  {
   "cell_type": "markdown",
   "id": "2142bff6",
   "metadata": {},
   "source": [
    "Assertions:"
   ]
  },
  {
   "cell_type": "code",
   "execution_count": null,
   "id": "13acbbe6",
   "metadata": {},
   "outputs": [],
   "source": [
    "# new assertions\n",
    "expected_top_student = ('Zoa', 95)\n",
    "assert_tuple_variable_equals_variable('top_student', 'expected_top_student')"
   ]
  },
  {
   "cell_type": "markdown",
   "id": "61ec54be",
   "metadata": {},
   "source": [
    "### The End!"
   ]
  }
 ],
 "metadata": {
  "kernelspec": {
   "display_name": "Python 3 (ipykernel)",
   "language": "python",
   "name": "python3"
  },
  "language_info": {
   "codemirror_mode": {
    "name": "ipython",
    "version": 3
   },
   "file_extension": ".py",
   "mimetype": "text/x-python",
   "name": "python",
   "nbconvert_exporter": "python",
   "pygments_lexer": "ipython3",
   "version": "3.10.14"
  }
 },
 "nbformat": 4,
 "nbformat_minor": 5
}
