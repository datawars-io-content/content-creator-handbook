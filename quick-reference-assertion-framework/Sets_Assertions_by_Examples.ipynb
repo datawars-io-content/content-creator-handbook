{
 "cells": [
  {
   "cell_type": "markdown",
   "metadata": {},
   "source": [
    "In this notebook, I've covered most used Sets assertion functions. Below are these functions:\n",
    "\n",
    "1. `assert_set_variable_equals_variable(student_variable_name, expected_variable_name, delete_afterwards=True)`\n",
    "2. `assert_set_variable_equals_json(student_variable_name, json_file_name)`\n",
    "3. `assert_set_variable_equals_pickle(student_variable_name, pickle_file_name)`"
   ]
  },
  {
   "cell_type": "code",
   "execution_count": null,
   "metadata": {},
   "outputs": [],
   "source": [
    "exec(open(\"utils.py\").read())"
   ]
  },
  {
   "cell_type": "markdown",
   "metadata": {},
   "source": [
    "### Warm Up Activities"
   ]
  },
  {
   "cell_type": "markdown",
   "metadata": {},
   "source": [
    "##### Activity 1. Course Enrollments and Common Students"
   ]
  },
  {
   "cell_type": "code",
   "execution_count": null,
   "metadata": {},
   "outputs": [],
   "source": [
    "# Try your solution here"
   ]
  },
  {
   "cell_type": "markdown",
   "metadata": {},
   "source": [
    "Solution:"
   ]
  },
  {
   "cell_type": "code",
   "execution_count": null,
   "metadata": {},
   "outputs": [],
   "source": [
    "course_a_students = {\"Alice\", \"Bob\", \"Carol\", \"David\"}\n",
    "course_b_students = {\"Bob\", \"David\", \"Eve\", \"Frank\"}\n",
    "common_students = course_a_students.intersection(course_b_students)"
   ]
  },
  {
   "cell_type": "code",
   "execution_count": null,
   "metadata": {},
   "outputs": [],
   "source": [
    "common_students"
   ]
  },
  {
   "cell_type": "markdown",
   "metadata": {},
   "source": [
    "Assertions:"
   ]
  },
  {
   "cell_type": "code",
   "execution_count": null,
   "metadata": {},
   "outputs": [],
   "source": [
    "# new assertions\n",
    "expected_common_students = {\"Bob\", \"David\"}\n",
    "assert_set_variable_equals_variable(\"common_students\", \"expected_common_students\")"
   ]
  },
  {
   "cell_type": "markdown",
   "metadata": {},
   "source": [
    "##### Activity 2. Unique Keywords in Articles"
   ]
  },
  {
   "cell_type": "code",
   "execution_count": null,
   "metadata": {},
   "outputs": [],
   "source": [
    "# Try your solution here"
   ]
  },
  {
   "cell_type": "markdown",
   "metadata": {},
   "source": [
    "Solution:"
   ]
  },
  {
   "cell_type": "code",
   "execution_count": null,
   "metadata": {},
   "outputs": [],
   "source": [
    "article1_keywords = {\"data\", \"analysis\", \"Python\", \"statistics\"}\n",
    "article2_keywords = {\"machine learning\", \"Python\", \"data\", \"programming\"}\n",
    "unique_keywords = article1_keywords.symmetric_difference(article2_keywords)"
   ]
  },
  {
   "cell_type": "code",
   "execution_count": null,
   "metadata": {},
   "outputs": [],
   "source": [
    "unique_keywords"
   ]
  },
  {
   "cell_type": "markdown",
   "metadata": {},
   "source": [
    "Assertions:"
   ]
  },
  {
   "cell_type": "code",
   "execution_count": null,
   "metadata": {},
   "outputs": [],
   "source": [
    "# new assertions\n",
    "expected_unique_keywords = {\"analysis\", \"machine learning\", \"programming\", \"statistics\"}\n",
    "assert_set_variable_equals_variable(\"unique_keywords\", \"expected_unique_keywords\")"
   ]
  },
  {
   "cell_type": "markdown",
   "metadata": {},
   "source": [
    "### Activities on Badge Data"
   ]
  },
  {
   "cell_type": "code",
   "execution_count": null,
   "metadata": {},
   "outputs": [],
   "source": [
    "import json\n",
    "\n",
    "# Load badge details from the JSON file\n",
    "with open(\"badge_details.json\", \"r\") as json_file:\n",
    "    badge_details = json.load(json_file)\n",
    "\n",
    "# Recreate badge sets from the loaded data\n",
    "data_novice_badge = set(badge_details[\"Data Novice\"])\n",
    "data_explorer_badge = set(badge_details[\"Data Explorer\"])\n",
    "analytics_enthusiast_badge = set(badge_details[\"Analytics Enthusiast\"])\n",
    "\n",
    "# Display the first 5 details of each badge\n",
    "print(\"Data Novice:\", list(data_novice_badge)[:5])\n",
    "print(\"Data Explorer:\", list(data_explorer_badge)[:5])\n",
    "print(\"Analytics Enthusiast:\", list(analytics_enthusiast_badge)[:5])"
   ]
  },
  {
   "cell_type": "markdown",
   "metadata": {},
   "source": [
    "Above, we display as python lists because sets are not subscriptable."
   ]
  },
  {
   "cell_type": "markdown",
   "metadata": {},
   "source": [
    "##### Activity 3. Add New Student to Data Novice Badge\n",
    "\n",
    "Incorporate the new student named Sam into the Data Novice badge group."
   ]
  },
  {
   "cell_type": "code",
   "execution_count": null,
   "metadata": {},
   "outputs": [],
   "source": [
    "# Try your solution here"
   ]
  },
  {
   "cell_type": "markdown",
   "metadata": {},
   "source": [
    "Solution:"
   ]
  },
  {
   "cell_type": "code",
   "execution_count": null,
   "metadata": {},
   "outputs": [],
   "source": [
    "data_novice_badge.add(\"Sam\")"
   ]
  },
  {
   "cell_type": "code",
   "execution_count": null,
   "metadata": {},
   "outputs": [],
   "source": [
    "# save in pickle\n",
    "import pickle\n",
    "with open(\"activity_solutions_files/solution_03.pickle\", \"wb\") as pickle_file:\n",
    "    pickle.dump(data_novice_badge, pickle_file)"
   ]
  },
  {
   "cell_type": "markdown",
   "metadata": {},
   "source": [
    "Assertions:"
   ]
  },
  {
   "cell_type": "code",
   "execution_count": null,
   "metadata": {},
   "outputs": [],
   "source": [
    "# new assertions\n",
    "assert_set_variable_equals_pickle(\"data_novice_badge\", \"solution_03.pickle\")"
   ]
  },
  {
   "cell_type": "markdown",
   "metadata": {},
   "source": [
    "##### Activity 4. Find the union of 'Data Explorer' and 'Analytics Enthusiast' badge sets."
   ]
  },
  {
   "cell_type": "code",
   "execution_count": null,
   "metadata": {},
   "outputs": [],
   "source": [
    "# Try your solution here\n",
    "union_de_ae = ..."
   ]
  },
  {
   "cell_type": "markdown",
   "metadata": {},
   "source": [
    "Solution:"
   ]
  },
  {
   "cell_type": "code",
   "execution_count": null,
   "metadata": {},
   "outputs": [],
   "source": [
    "union_de_ae = data_explorer_badge.union(analytics_enthusiast_badge)"
   ]
  },
  {
   "cell_type": "code",
   "execution_count": null,
   "metadata": {},
   "outputs": [],
   "source": [
    "union_de_ae"
   ]
  },
  {
   "cell_type": "code",
   "execution_count": null,
   "metadata": {},
   "outputs": [],
   "source": [
    "# save in pickle\n",
    "import pickle\n",
    "with open(\"activity_solutions_files/solution_04.pickle\", \"wb\") as pickle_file:\n",
    "    pickle.dump(union_de_ae, pickle_file)"
   ]
  },
  {
   "cell_type": "markdown",
   "metadata": {},
   "source": [
    "Assertions:"
   ]
  },
  {
   "cell_type": "code",
   "execution_count": null,
   "metadata": {},
   "outputs": [],
   "source": [
    "# new assertions\n",
    "assert_set_variable_equals_pickle(\"union_de_ae\", \"solution_04.pickle\")"
   ]
  },
  {
   "cell_type": "markdown",
   "metadata": {},
   "source": [
    "### The End!"
   ]
  }
 ],
 "metadata": {
  "kernelspec": {
   "display_name": "base",
   "language": "python",
   "name": "python3"
  },
  "language_info": {
   "codemirror_mode": {
    "name": "ipython",
    "version": 3
   },
   "file_extension": ".py",
   "mimetype": "text/x-python",
   "name": "python",
   "nbconvert_exporter": "python",
   "pygments_lexer": "ipython3",
   "version": "3.8.18"
  },
  "orig_nbformat": 4
 },
 "nbformat": 4,
 "nbformat_minor": 2
}
