{
 "cells": [
  {
   "cell_type": "code",
   "execution_count": 29,
   "metadata": {},
   "outputs": [],
   "source": [
    "exec(open(\"../code-activity-templates/utils.py\").read())"
   ]
  },
  {
   "cell_type": "code",
   "execution_count": 30,
   "metadata": {},
   "outputs": [],
   "source": [
    "import numpy as np\n",
    "import pandas as pd"
   ]
  },
  {
   "cell_type": "markdown",
   "metadata": {},
   "source": [
    "### 1. `assert_pd_series_equal()` function"
   ]
  },
  {
   "cell_type": "markdown",
   "metadata": {},
   "source": [
    "If we asked to student create/compute a pandas series and we want to test if the student's series is correct, we can use the `assert_pd_series_equal()` function to compare the student's series with the correct series."
   ]
  },
  {
   "cell_type": "code",
   "execution_count": 31,
   "metadata": {},
   "outputs": [],
   "source": [
    "# Series 1\n",
    "series1 = pd.Series([1, 2, 3, 4, 5])\n",
    "\n",
    "# Series 2\n",
    "series2 = pd.Series([6, 7, 8, 9, 10])"
   ]
  },
  {
   "cell_type": "code",
   "execution_count": 32,
   "metadata": {},
   "outputs": [],
   "source": [
    "# assertions\n",
    "assert_pd_series_equal(series1, pd.Series([1, 2, 3, 4, 5]))\n",
    "\n",
    "expected_series2 = pd.Series([6, 7, 8, 9, 10])\n",
    "assert_pd_series_equal(series2, expected_series2)"
   ]
  },
  {
   "cell_type": "code",
   "execution_count": 33,
   "metadata": {},
   "outputs": [],
   "source": [
    "# Add the two series together\n",
    "sum_series = series1 + series2\n",
    "\n",
    "# assertions\n",
    "expected_sum_series = pd.Series([7, 9, 11, 13, 15])\n",
    "assert_pd_series_equal(sum_series, expected_sum_series)"
   ]
  },
  {
   "cell_type": "markdown",
   "metadata": {},
   "source": [
    "### 2. `assert_pd_dataframe_equals()` function"
   ]
  },
  {
   "cell_type": "markdown",
   "metadata": {},
   "source": [
    "If we asked to student create/compute a pandas dataframe and we want to test if the student's dataframe is correct, we can use the `assert_pd_dataframe_equals()` function to compare the student's dataframe with the correct dataframe."
   ]
  },
  {
   "cell_type": "code",
   "execution_count": 34,
   "metadata": {},
   "outputs": [],
   "source": [
    "df1 = pd.DataFrame(\n",
    "    {\n",
    "        \"A\": [1, 2, 3, 4, 5],\n",
    "        \"B\": [6, 7, 8, 9, 10],\n",
    "    }\n",
    ")\n",
    "\n",
    "df2 = pd.DataFrame(\n",
    "    {\n",
    "        \"A\": [11, 12, 13, 14, 15],\n",
    "        \"B\": [16, 17, 18, 19, 20],\n",
    "    }\n",
    ")"
   ]
  },
  {
   "cell_type": "code",
   "execution_count": 35,
   "metadata": {},
   "outputs": [
    {
     "data": {
      "text/html": [
       "<div>\n",
       "<style scoped>\n",
       "    .dataframe tbody tr th:only-of-type {\n",
       "        vertical-align: middle;\n",
       "    }\n",
       "\n",
       "    .dataframe tbody tr th {\n",
       "        vertical-align: top;\n",
       "    }\n",
       "\n",
       "    .dataframe thead th {\n",
       "        text-align: right;\n",
       "    }\n",
       "</style>\n",
       "<table border=\"1\" class=\"dataframe\">\n",
       "  <thead>\n",
       "    <tr style=\"text-align: right;\">\n",
       "      <th></th>\n",
       "      <th>A</th>\n",
       "      <th>B</th>\n",
       "    </tr>\n",
       "  </thead>\n",
       "  <tbody>\n",
       "    <tr>\n",
       "      <th>0</th>\n",
       "      <td>1</td>\n",
       "      <td>6</td>\n",
       "    </tr>\n",
       "    <tr>\n",
       "      <th>1</th>\n",
       "      <td>2</td>\n",
       "      <td>7</td>\n",
       "    </tr>\n",
       "    <tr>\n",
       "      <th>2</th>\n",
       "      <td>3</td>\n",
       "      <td>8</td>\n",
       "    </tr>\n",
       "    <tr>\n",
       "      <th>3</th>\n",
       "      <td>4</td>\n",
       "      <td>9</td>\n",
       "    </tr>\n",
       "    <tr>\n",
       "      <th>4</th>\n",
       "      <td>5</td>\n",
       "      <td>10</td>\n",
       "    </tr>\n",
       "  </tbody>\n",
       "</table>\n",
       "</div>"
      ],
      "text/plain": [
       "   A   B\n",
       "0  1   6\n",
       "1  2   7\n",
       "2  3   8\n",
       "3  4   9\n",
       "4  5  10"
      ]
     },
     "execution_count": 35,
     "metadata": {},
     "output_type": "execute_result"
    }
   ],
   "source": [
    "df1"
   ]
  },
  {
   "cell_type": "code",
   "execution_count": 36,
   "metadata": {},
   "outputs": [
    {
     "data": {
      "text/html": [
       "<div>\n",
       "<style scoped>\n",
       "    .dataframe tbody tr th:only-of-type {\n",
       "        vertical-align: middle;\n",
       "    }\n",
       "\n",
       "    .dataframe tbody tr th {\n",
       "        vertical-align: top;\n",
       "    }\n",
       "\n",
       "    .dataframe thead th {\n",
       "        text-align: right;\n",
       "    }\n",
       "</style>\n",
       "<table border=\"1\" class=\"dataframe\">\n",
       "  <thead>\n",
       "    <tr style=\"text-align: right;\">\n",
       "      <th></th>\n",
       "      <th>A</th>\n",
       "      <th>B</th>\n",
       "    </tr>\n",
       "  </thead>\n",
       "  <tbody>\n",
       "    <tr>\n",
       "      <th>0</th>\n",
       "      <td>11</td>\n",
       "      <td>16</td>\n",
       "    </tr>\n",
       "    <tr>\n",
       "      <th>1</th>\n",
       "      <td>12</td>\n",
       "      <td>17</td>\n",
       "    </tr>\n",
       "    <tr>\n",
       "      <th>2</th>\n",
       "      <td>13</td>\n",
       "      <td>18</td>\n",
       "    </tr>\n",
       "    <tr>\n",
       "      <th>3</th>\n",
       "      <td>14</td>\n",
       "      <td>19</td>\n",
       "    </tr>\n",
       "    <tr>\n",
       "      <th>4</th>\n",
       "      <td>15</td>\n",
       "      <td>20</td>\n",
       "    </tr>\n",
       "  </tbody>\n",
       "</table>\n",
       "</div>"
      ],
      "text/plain": [
       "    A   B\n",
       "0  11  16\n",
       "1  12  17\n",
       "2  13  18\n",
       "3  14  19\n",
       "4  15  20"
      ]
     },
     "execution_count": 36,
     "metadata": {},
     "output_type": "execute_result"
    }
   ],
   "source": [
    "df2"
   ]
  },
  {
   "cell_type": "code",
   "execution_count": 37,
   "metadata": {},
   "outputs": [],
   "source": [
    "# assertions\n",
    "assert_pd_dataframe_equals(df1, pd.DataFrame({\"A\": [1, 2, 3, 4, 5], \"B\": [6, 7, 8, 9, 10]}))\n",
    "\n",
    "expected_df2 = pd.DataFrame({\"A\": [11, 12, 13, 14, 15], \"B\": [16, 17, 18, 19, 20]})\n",
    "assert_pd_dataframe_equals(df2, expected_df2)"
   ]
  },
  {
   "cell_type": "markdown",
   "metadata": {},
   "source": [
    "### 3. `assert_pd_series_variable_equals_variable()` function"
   ]
  },
  {
   "cell_type": "markdown",
   "metadata": {},
   "source": [
    "This function is similar to `assert_pd_series_equal()`, but this function also check the expected variable name and it's type (pandas series) along with the value."
   ]
  },
  {
   "cell_type": "code",
   "execution_count": 38,
   "metadata": {},
   "outputs": [],
   "source": [
    "# series1\n",
    "series1 = pd.Series([1, 2, 3, 4, 5])\n",
    "\n",
    "# series2\n",
    "series2 = pd.Series([6, 7, 8, 9, 10])\n",
    "\n",
    "# Add the two series together\n",
    "sum_series = series1 + series2\n",
    "\n",
    "# assertions\n",
    "expected_sum_series = pd.Series([7, 9, 11, 13, 15])\n",
    "assert_pd_series_variable_equals_variable('sum_series', 'expected_sum_series')"
   ]
  },
  {
   "cell_type": "markdown",
   "metadata": {},
   "source": [
    "If the dtype of the expected variable is not pandas series, it will raise an error. Ex:"
   ]
  },
  {
   "cell_type": "code",
   "execution_count": 39,
   "metadata": {},
   "outputs": [
    {
     "ename": "AssertionError",
     "evalue": "Your Series doesn't match what's expected: Series Expected type <class 'pandas.core.series.Series'>, found <class 'list'> instead",
     "output_type": "error",
     "traceback": [
      "\u001b[0;31m---------------------------------------------------------------------------\u001b[0m",
      "\u001b[0;31mAssertionError\u001b[0m                            Traceback (most recent call last)",
      "File \u001b[0;32m<string>:444\u001b[0m, in \u001b[0;36massert_pd_series_equal\u001b[0;34m(student_series, expected_series, **series_testing_kwargs)\u001b[0m\n",
      "    \u001b[0;31m[... skipping hidden 1 frame]\u001b[0m\n",
      "File \u001b[0;32m~/anaconda3/envs/labs/lib/python3.11/site-packages/pandas/_testing/asserters.py:169\u001b[0m, in \u001b[0;36m_check_isinstance\u001b[0;34m(left, right, cls)\u001b[0m\n\u001b[1;32m    168\u001b[0m \u001b[38;5;28;01mif\u001b[39;00m \u001b[38;5;129;01mnot\u001b[39;00m \u001b[38;5;28misinstance\u001b[39m(right, \u001b[38;5;28mcls\u001b[39m):\n\u001b[0;32m--> 169\u001b[0m     \u001b[38;5;28;01mraise\u001b[39;00m \u001b[38;5;167;01mAssertionError\u001b[39;00m(\n\u001b[1;32m    170\u001b[0m         \u001b[38;5;124mf\u001b[39m\u001b[38;5;124m\"\u001b[39m\u001b[38;5;132;01m{\u001b[39;00mcls_name\u001b[38;5;132;01m}\u001b[39;00m\u001b[38;5;124m Expected type \u001b[39m\u001b[38;5;132;01m{\u001b[39;00m\u001b[38;5;28mcls\u001b[39m\u001b[38;5;132;01m}\u001b[39;00m\u001b[38;5;124m, found \u001b[39m\u001b[38;5;132;01m{\u001b[39;00m\u001b[38;5;28mtype\u001b[39m(right)\u001b[38;5;132;01m}\u001b[39;00m\u001b[38;5;124m instead\u001b[39m\u001b[38;5;124m\"\u001b[39m\n\u001b[1;32m    171\u001b[0m     )\n",
      "\u001b[0;31mAssertionError\u001b[0m: Series Expected type <class 'pandas.core.series.Series'>, found <class 'list'> instead",
      "\nDuring handling of the above exception, another exception occurred:\n",
      "\u001b[0;31mAssertionError\u001b[0m                            Traceback (most recent call last)",
      "Cell \u001b[0;32mIn[39], line 4\u001b[0m\n\u001b[1;32m      2\u001b[0m not_pandas_series \u001b[38;5;241m=\u001b[39m [\u001b[38;5;241m7\u001b[39m, \u001b[38;5;241m9\u001b[39m, \u001b[38;5;241m11\u001b[39m, \u001b[38;5;241m13\u001b[39m, \u001b[38;5;241m15\u001b[39m]\n\u001b[1;32m      3\u001b[0m expected_pandas_series \u001b[38;5;241m=\u001b[39m pd\u001b[38;5;241m.\u001b[39mSeries(not_pandas_series)\n\u001b[0;32m----> 4\u001b[0m assert_pd_series_variable_equals_variable(\u001b[38;5;124m'\u001b[39m\u001b[38;5;124msum_series\u001b[39m\u001b[38;5;124m'\u001b[39m, \u001b[38;5;124m'\u001b[39m\u001b[38;5;124mnot_pandas_series\u001b[39m\u001b[38;5;124m'\u001b[39m)\n",
      "File \u001b[0;32m<string>:479\u001b[0m, in \u001b[0;36massert_pd_series_variable_equals_variable\u001b[0;34m(student_variable_name, expected_variable_name, delete_afterwards)\u001b[0m\n",
      "File \u001b[0;32m<string>:446\u001b[0m, in \u001b[0;36massert_pd_series_equal\u001b[0;34m(student_series, expected_series, **series_testing_kwargs)\u001b[0m\n",
      "\u001b[0;31mAssertionError\u001b[0m: Your Series doesn't match what's expected: Series Expected type <class 'pandas.core.series.Series'>, found <class 'list'> instead"
     ]
    }
   ],
   "source": [
    "# Expected is not a series\n",
    "not_pandas_series = [7, 9, 11, 13, 15]\n",
    "expected_pandas_series = pd.Series(not_pandas_series)\n",
    "assert_pd_series_variable_equals_variable('sum_series', 'not_pandas_series')"
   ]
  },
  {
   "cell_type": "markdown",
   "metadata": {},
   "source": [
    "This raises an error of type `AssertionError`: `Your Series doesn't match what's expected: Series Expected type <class 'pandas.core.series.Series'>, found <class 'list'> instead`"
   ]
  },
  {
   "cell_type": "markdown",
   "metadata": {},
   "source": [
    "### 4. `assert_pd_series_equals_csv()` function"
   ]
  },
  {
   "cell_type": "markdown",
   "metadata": {},
   "source": [
    "If we asked to student create/compute a large pandas series and for which we can't create a expected variable to compare with the student's series, we can use the `assert_pd_series_equals_csv()` function to compare the student's series with the correct series stored in a csv file."
   ]
  },
  {
   "cell_type": "code",
   "execution_count": 40,
   "metadata": {},
   "outputs": [],
   "source": [
    "# Pandas series\n",
    "pandas_series = pd.Series([7, 9, 11, 13, 15])\n",
    "\n",
    "# Expected csv file name\n",
    "expected_csv_file_name = 'sum_series.csv'"
   ]
  },
  {
   "cell_type": "code",
   "execution_count": 43,
   "metadata": {},
   "outputs": [],
   "source": [
    "# assertions\n",
    "assert_pd_series_equals_csv(pandas_series, expected_csv_file_name)\n",
    "# or\n",
    "assert_pd_series_equals_csv(pandas_series, 'sum_series.csv')"
   ]
  },
  {
   "cell_type": "markdown",
   "metadata": {},
   "source": [
    "### 5. `assert_pd_series_variable_equals_csv()` function"
   ]
  },
  {
   "cell_type": "markdown",
   "metadata": {},
   "source": [
    "`assert_pd_series_variable_equals_csv()` function is similar to `assert_pd_series_equals_csv()`, but this function also check the expected variable name and it's type (pandas series) along with the value."
   ]
  },
  {
   "cell_type": "code",
   "execution_count": 44,
   "metadata": {},
   "outputs": [],
   "source": [
    "# taking above variables and csv file\n",
    "assert_pd_series_variable_equals_csv('pandas_series', 'sum_series.csv')\n",
    "# or\n",
    "assert_pd_series_variable_equals_csv('pandas_series', expected_csv_file_name)"
   ]
  },
  {
   "cell_type": "markdown",
   "metadata": {},
   "source": [
    "### 6. `assert_pd_dataframe_equals_csv()` function"
   ]
  },
  {
   "cell_type": "markdown",
   "metadata": {},
   "source": [
    "To compare the student's dataframe with the correct dataframe stored in a csv file, we can use the `assert_pd_dataframe_equals_csv()` function."
   ]
  },
  {
   "cell_type": "code",
   "execution_count": null,
   "metadata": {},
   "outputs": [],
   "source": [
    "# DataFrames\n",
    "df1 = pd.DataFrame(\n",
    "    {\n",
    "        \"A\": [1, 2, 3, 4, 5],\n",
    "        \"B\": [6, 7, 8, 9, 10],\n",
    "    }\n",
    ")"
   ]
  },
  {
   "cell_type": "code",
   "execution_count": 45,
   "metadata": {},
   "outputs": [],
   "source": [
    "# save the DataFrame to a csv file\n",
    "df1.to_csv('activity_solutions_files/df1.csv', index=False)"
   ]
  },
  {
   "cell_type": "code",
   "execution_count": 48,
   "metadata": {},
   "outputs": [],
   "source": [
    "# assertions\n",
    "read_csv_kwargs = {'index_col': None}\n",
    "\n",
    "assert_pd_dataframe_equals_csv(df1, 'df1.csv', read_csv_kwargs=read_csv_kwargs)"
   ]
  },
  {
   "cell_type": "markdown",
   "metadata": {},
   "source": [
    "we can also pass other parameters also like `index_col`, `usecols`, `squeeze`, `dtype`, `engine`, `true_values`, `false_values`, `skiprows`, `nrows`, `na_values`, `keep_default_na`, `thousands`, `comment`, `skipfooter`, `converters`, `verbose`, `encoding`, `memory_map`, `float_precision`, `storage_options` to the `assert_pd_dataframe_equals_csv()` function to read the csv file correctly."
   ]
  },
  {
   "cell_type": "markdown",
   "metadata": {},
   "source": [
    "### 7. `assert_pd_dataframe_variable_equals_csv()` function"
   ]
  },
  {
   "cell_type": "markdown",
   "metadata": {},
   "source": [
    "`assert_pd_dataframe_variable_equals_csv()` function is similar to `assert_pd_dataframe_equals_csv()`, but this function also check the expected variable name and it's type (pandas dataframe) along with the value."
   ]
  },
  {
   "cell_type": "code",
   "execution_count": 49,
   "metadata": {},
   "outputs": [],
   "source": [
    "# using above variables and csv file\n",
    "assert_pd_dataframe_variable_equals_csv('df1', 'df1.csv', read_csv_kwargs=read_csv_kwargs)"
   ]
  },
  {
   "cell_type": "markdown",
   "metadata": {},
   "source": [
    "### 8. `assert_pd_dataframe_equals_variable()` function"
   ]
  },
  {
   "cell_type": "markdown",
   "metadata": {},
   "source": [
    "This function is similar to `assert_pd_dataframe_equals()`, but this function also check the expected variable name and it's type (pandas dataframe) along with the value."
   ]
  },
  {
   "cell_type": "code",
   "execution_count": 50,
   "metadata": {},
   "outputs": [],
   "source": [
    "# DataFrames\n",
    "df1 = pd.DataFrame(\n",
    "    {\n",
    "        \"A\": [1, 2, 3, 4, 5],\n",
    "        \"B\": [6, 7, 8, 9, 10],\n",
    "    }\n",
    ")\n",
    "\n",
    "# assertions\n",
    "expected_df1 = pd.DataFrame({\"A\": [1, 2, 3, 4, 5], \"B\": [6, 7, 8, 9, 10]})\n",
    "assert_pd_dataframe_variable_equals_variable('df1', 'expected_df1')"
   ]
  },
  {
   "cell_type": "markdown",
   "metadata": {},
   "source": [
    "### 9. `assert_pd_dataframe_variable_equals_variable()` function"
   ]
  },
  {
   "cell_type": "markdown",
   "metadata": {},
   "source": [
    "This function is similar to `assert_pd_dataframe_equals_variable()`, but this function also deletes the expected variable after the comparison."
   ]
  },
  {
   "cell_type": "code",
   "execution_count": 51,
   "metadata": {},
   "outputs": [],
   "source": [
    "# DataFrames\n",
    "df1 = pd.DataFrame(\n",
    "    {\n",
    "        \"A\": [1, 2, 3, 4, 5],\n",
    "        \"B\": [6, 7, 8, 9, 10],\n",
    "    }\n",
    ")\n",
    "\n",
    "# assertions\n",
    "expected_df1 = pd.DataFrame({\"A\": [1, 2, 3, 4, 5], \"B\": [6, 7, 8, 9, 10]})\n",
    "assert_pd_dataframe_variable_equals_variable('df1', 'expected_df1')"
   ]
  },
  {
   "cell_type": "code",
   "execution_count": 53,
   "metadata": {},
   "outputs": [
    {
     "ename": "NameError",
     "evalue": "name 'expected_df1' is not defined",
     "output_type": "error",
     "traceback": [
      "\u001b[0;31m---------------------------------------------------------------------------\u001b[0m",
      "\u001b[0;31mNameError\u001b[0m                                 Traceback (most recent call last)",
      "Cell \u001b[0;32mIn[53], line 1\u001b[0m\n\u001b[0;32m----> 1\u001b[0m \u001b[38;5;28mprint\u001b[39m(expected_df1)\n",
      "\u001b[0;31mNameError\u001b[0m: name 'expected_df1' is not defined"
     ]
    }
   ],
   "source": [
    "print(expected_df1)"
   ]
  },
  {
   "cell_type": "markdown",
   "metadata": {},
   "source": [
    "You can see that the expected variable is deleted from the student's environment after the comparison."
   ]
  },
  {
   "cell_type": "markdown",
   "metadata": {},
   "source": [
    "### 10. `assert_pd_dataframe_csv_equals_csv()` function"
   ]
  },
  {
   "cell_type": "markdown",
   "metadata": {},
   "source": [
    "To compare the correct dataframe stored in a csv file with the correct dataframe stored in another csv file, we can use the `assert_pd_dataframe_csv_equals_csv()` function."
   ]
  },
  {
   "cell_type": "code",
   "execution_count": null,
   "metadata": {},
   "outputs": [],
   "source": [
    "# DataFrames\n"
   ]
  },
  {
   "cell_type": "markdown",
   "metadata": {},
   "source": [
    "let's create a new csv file `correct.csv` with the following data:\n",
    "\n",
    "```\n",
    "A,B,C\n",
    "1,2,3\n",
    "4,5,6\n",
    "7,8,9\n",
    "```\n",
    "\n",
    "and then we can use the `assert_pd_dataframe_csv_equals_csv()` function to compare this csv file with the student's csv file."
   ]
  },
  {
   "cell_type": "code",
   "execution_count": 64,
   "metadata": {},
   "outputs": [],
   "source": [
    "student_dataframe = pd.DataFrame(\n",
    "    {\n",
    "        \"A\": [1, 4, 7],\n",
    "        \"B\": [2, 5, 8],\n",
    "        \"C\": [3, 6, 9],\n",
    "    }\n",
    ")\n",
    "\n",
    "# save the DataFrame to a csv file named 'student_dataframe.csv' and 'expected_student_dataframe.csv'\n",
    "student_dataframe.to_csv('student_dataframe.csv', index=True)\n",
    "student_dataframe.to_csv('activity_solutions_files/expected_student_dataframe.csv', index=True)\n",
    "\n"
   ]
  },
  {
   "cell_type": "code",
   "execution_count": 65,
   "metadata": {},
   "outputs": [],
   "source": [
    "# assertions\n",
    "\n",
    "assert_pd_dataframe_csv_equals_csv('student_dataframe.csv', 'expected_student_dataframe.csv')"
   ]
  },
  {
   "cell_type": "markdown",
   "metadata": {},
   "source": [
    "### 12. `assert_pd_dataframe_variable_column_equals_csv()` function"
   ]
  },
  {
   "cell_type": "markdown",
   "metadata": {},
   "source": [
    "If we asked to student to add a new column or manipulate the column to the dataframe and we want to test if the student's column is added/manipulated correctly, we can use the `assert_pd_dataframe_variable_column_equals_csv()` function to compare the student's dataframe with the correct dataframe."
   ]
  },
  {
   "cell_type": "code",
   "execution_count": 68,
   "metadata": {},
   "outputs": [],
   "source": [
    "# dataframes\n",
    "df1 = pd.DataFrame(\n",
    "    {\n",
    "        \"A\": [1, 2, 3, 4, 5],\n",
    "        \"B\": [6, 7, 8, 9, 10],\n",
    "    }\n",
    ")\n",
    "\n",
    "# student added a new column to the DataFrame by adding the two columns together\n",
    "df1['C'] = df1['A'] + df1['B']\n",
    "\n",
    "# save the DataFrame to a csv file named 'df1.csv'\n",
    "df1.to_csv('activity_solutions_files/column_check_df1.csv', index=True)"
   ]
  },
  {
   "cell_type": "code",
   "execution_count": 70,
   "metadata": {},
   "outputs": [],
   "source": [
    "# assertions\n",
    "read_csv_kwargs = {'index_col': None}\n",
    "assert_pd_dataframe_variable_column_equals_csv('df1', 'C', 'column_check_df1.csv')"
   ]
  },
  {
   "cell_type": "code",
   "execution_count": null,
   "metadata": {},
   "outputs": [],
   "source": []
  }
 ],
 "metadata": {
  "kernelspec": {
   "display_name": "labs",
   "language": "python",
   "name": "python3"
  },
  "language_info": {
   "codemirror_mode": {
    "name": "ipython",
    "version": 3
   },
   "file_extension": ".py",
   "mimetype": "text/x-python",
   "name": "python",
   "nbconvert_exporter": "python",
   "pygments_lexer": "ipython3",
   "version": "3.11.8"
  }
 },
 "nbformat": 4,
 "nbformat_minor": 2
}
