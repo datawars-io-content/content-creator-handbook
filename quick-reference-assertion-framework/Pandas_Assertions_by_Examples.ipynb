{
 "cells": [
  {
   "cell_type": "markdown",
   "metadata": {},
   "source": [
    "### **Note**: The original dataset at location `/data/goodreads-best-book-ever-dataset/Best_Books_Ever.csv` contains null and invalid values. Since this project activity is part of the `DataFrame Mutations in Intro to Data Analysis Track`, and students at this level may not have knowledge of null and invalid values, the original dataset has been transformed to `Best_Books_Ever.csv`, which is used in this POC notebook."
   ]
  },
  {
   "cell_type": "code",
   "execution_count": 2,
   "metadata": {
    "tags": []
   },
   "outputs": [],
   "source": [
    "exec(open(\"utils.py\").read())"
   ]
  },
  {
   "cell_type": "markdown",
   "metadata": {},
   "source": [
    "### Introduction"
   ]
  },
  {
   "cell_type": "markdown",
   "metadata": {},
   "source": [
    "In this coding lab, you will learn about creating new columns, deleting rows and columns, modifying the structure of a dataframe, adding new rows, and using the `inplace` parameter. We will work with the \"Best Books Ever\" dataset from the GoodReads BBE Dataset repository, which contains detailed information on books listed as the best on Goodreads. This dataset includes fields such as book identifiers, titles, authors, publication years, ratings, and more, making it an invaluable resource for academic and research projects focused on analyzing literature trends, reader preferences, and book metadata for various applications in data science and literary studies.\n",
    "\n",
    "By engaging with this project, you will gain practical experience in data manipulation and analysis using the pandas library. You will learn how to create new columns, delete rows and columns, modify the dataframe structure, add new rows, and use the `inplace` parameter.\n",
    "\n",
    "> **Important Note**: Some of these activities will involve modifying the original dataframe through mutable operations. It is important to note that once data has been mutated, reverting to a previous state is not possible. If an error is made, you may need to start over from the beginning. Although mutable operations are generally not recommended due to their irreversible nature, this project aims to expose you to these \"bad practices\" that are still prevalent in the industry. By requiring the use of mutable operations, your notebook will need to be exceptionally clean and organized, as you may need to restart everything from scratch (from Cell 1, reading data, all the way down) if mistakes are made.\n",
    "\n",
    "This project has been thoroughly tested and is functional. If your solution does not work, it is likely due to a mistake in one of your previous steps."
   ]
  },
  {
   "cell_type": "markdown",
   "metadata": {},
   "source": [
    "### Import the libraries and load the dataset"
   ]
  },
  {
   "cell_type": "code",
   "execution_count": 3,
   "metadata": {
    "tags": []
   },
   "outputs": [],
   "source": [
    "import pandas as pd\n",
    "\n",
    "df = pd.read_csv('Best_Books_Ever.csv')"
   ]
  },
  {
   "cell_type": "code",
   "execution_count": 4,
   "metadata": {
    "tags": []
   },
   "outputs": [
    {
     "data": {
      "text/html": [
       "<div>\n",
       "<style scoped>\n",
       "    .dataframe tbody tr th:only-of-type {\n",
       "        vertical-align: middle;\n",
       "    }\n",
       "\n",
       "    .dataframe tbody tr th {\n",
       "        vertical-align: top;\n",
       "    }\n",
       "\n",
       "    .dataframe thead th {\n",
       "        text-align: right;\n",
       "    }\n",
       "</style>\n",
       "<table border=\"1\" class=\"dataframe\">\n",
       "  <thead>\n",
       "    <tr style=\"text-align: right;\">\n",
       "      <th></th>\n",
       "      <th>bookId</th>\n",
       "      <th>title</th>\n",
       "      <th>series</th>\n",
       "      <th>author</th>\n",
       "      <th>rating</th>\n",
       "      <th>description</th>\n",
       "      <th>language</th>\n",
       "      <th>isbn</th>\n",
       "      <th>genres</th>\n",
       "      <th>characters</th>\n",
       "      <th>...</th>\n",
       "      <th>firstPublishDate</th>\n",
       "      <th>awards</th>\n",
       "      <th>numRatings</th>\n",
       "      <th>ratingsByStars</th>\n",
       "      <th>likedPercent</th>\n",
       "      <th>setting</th>\n",
       "      <th>coverImg</th>\n",
       "      <th>bbeScore</th>\n",
       "      <th>bbeVotes</th>\n",
       "      <th>price</th>\n",
       "    </tr>\n",
       "  </thead>\n",
       "  <tbody>\n",
       "    <tr>\n",
       "      <th>0</th>\n",
       "      <td>2.Harry_Potter_and_the_Order_of_the_Phoenix</td>\n",
       "      <td>Harry Potter and the Order of the Phoenix</td>\n",
       "      <td>Harry Potter #5</td>\n",
       "      <td>J.K. Rowling, Mary GrandPré (Illustrator)</td>\n",
       "      <td>4.50</td>\n",
       "      <td>There is a door at the end of a silent corrido...</td>\n",
       "      <td>English</td>\n",
       "      <td>9780439358071</td>\n",
       "      <td>['Fantasy', 'Young Adult', 'Fiction', 'Magic',...</td>\n",
       "      <td>['Sirius Black', 'Draco Malfoy', 'Ron Weasley'...</td>\n",
       "      <td>...</td>\n",
       "      <td>2003-06-21</td>\n",
       "      <td>['Bram Stoker Award for Works for Young Reader...</td>\n",
       "      <td>2507623</td>\n",
       "      <td>['1593642', '637516', '222366', '39573', '14526']</td>\n",
       "      <td>98.0</td>\n",
       "      <td>['Hogwarts School of Witchcraft and Wizardry (...</td>\n",
       "      <td>https://i.gr-assets.com/images/S/compressed.ph...</td>\n",
       "      <td>2632233</td>\n",
       "      <td>26923</td>\n",
       "      <td>7.38</td>\n",
       "    </tr>\n",
       "    <tr>\n",
       "      <th>1</th>\n",
       "      <td>30.J_R_R_Tolkien_4_Book_Boxed_Set</td>\n",
       "      <td>J.R.R. Tolkien 4-Book Boxed Set: The Hobbit an...</td>\n",
       "      <td>The Lord of the Rings #0-3</td>\n",
       "      <td>J.R.R. Tolkien</td>\n",
       "      <td>4.60</td>\n",
       "      <td>This four-volume, boxed set contains J.R.R. To...</td>\n",
       "      <td>English</td>\n",
       "      <td>9780345538376</td>\n",
       "      <td>['Fantasy', 'Fiction', 'Classics', 'Adventure'...</td>\n",
       "      <td>['Frodo Baggins', 'Gandalf', 'Bilbo Baggins', ...</td>\n",
       "      <td>...</td>\n",
       "      <td>2055-10-20</td>\n",
       "      <td>[]</td>\n",
       "      <td>110146</td>\n",
       "      <td>['78217', '22857', '6628', '1477', '967']</td>\n",
       "      <td>98.0</td>\n",
       "      <td>['Middle-earth']</td>\n",
       "      <td>https://i.gr-assets.com/images/S/compressed.ph...</td>\n",
       "      <td>1159802</td>\n",
       "      <td>12111</td>\n",
       "      <td>21.15</td>\n",
       "    </tr>\n",
       "    <tr>\n",
       "      <th>2</th>\n",
       "      <td>375802.Ender_s_Game</td>\n",
       "      <td>Ender's Game</td>\n",
       "      <td>Ender's Saga #1</td>\n",
       "      <td>Orson Scott Card, Stefan Rudnicki (Narrator), ...</td>\n",
       "      <td>4.30</td>\n",
       "      <td>Andrew \"Ender\" Wiggin thinks he is playing com...</td>\n",
       "      <td>English</td>\n",
       "      <td>9780812550702</td>\n",
       "      <td>['Science Fiction', 'Fiction', 'Young Adult', ...</td>\n",
       "      <td>['Dink', 'Bernard', 'Valentine Wiggin', 'Peter...</td>\n",
       "      <td>...</td>\n",
       "      <td>1985-10-28</td>\n",
       "      <td>['Hugo Award for Best Novel (1986)', 'Nebula A...</td>\n",
       "      <td>1131303</td>\n",
       "      <td>['603209', '339819', '132305', '35667', '20303']</td>\n",
       "      <td>95.0</td>\n",
       "      <td>[]</td>\n",
       "      <td>https://i.gr-assets.com/images/S/compressed.ph...</td>\n",
       "      <td>720651</td>\n",
       "      <td>7515</td>\n",
       "      <td>4.60</td>\n",
       "    </tr>\n",
       "    <tr>\n",
       "      <th>3</th>\n",
       "      <td>17245.Dracula</td>\n",
       "      <td>Dracula</td>\n",
       "      <td>Dracula #1</td>\n",
       "      <td>Bram Stoker, Nina Auerbach (Editor), David J. ...</td>\n",
       "      <td>4.00</td>\n",
       "      <td>You can find an alternative cover edition for ...</td>\n",
       "      <td>English</td>\n",
       "      <td>9780393970128</td>\n",
       "      <td>['Classics', 'Horror', 'Fiction', 'Fantasy', '...</td>\n",
       "      <td>['Jonathan Harker', 'Lucy Westenra', 'Abraham ...</td>\n",
       "      <td>...</td>\n",
       "      <td>1997-05-26</td>\n",
       "      <td>[]</td>\n",
       "      <td>938325</td>\n",
       "      <td>['345260', '329217', '197206', '48642', '18000']</td>\n",
       "      <td>93.0</td>\n",
       "      <td>['Transylvania (Romania)', 'Budapest (Hungary)...</td>\n",
       "      <td>https://i.gr-assets.com/images/S/compressed.ph...</td>\n",
       "      <td>646782</td>\n",
       "      <td>6988</td>\n",
       "      <td>4.55</td>\n",
       "    </tr>\n",
       "    <tr>\n",
       "      <th>4</th>\n",
       "      <td>28187.The_Lightning_Thief</td>\n",
       "      <td>The Lightning Thief</td>\n",
       "      <td>Percy Jackson and the Olympians #1</td>\n",
       "      <td>Rick Riordan (Goodreads Author)</td>\n",
       "      <td>4.26</td>\n",
       "      <td>Alternate cover for this ISBN can be found her...</td>\n",
       "      <td>English</td>\n",
       "      <td>9780786838653</td>\n",
       "      <td>['Fantasy', 'Young Adult', 'Mythology', 'Ficti...</td>\n",
       "      <td>['Annabeth Chase', 'Grover Underwood', 'Luke C...</td>\n",
       "      <td>...</td>\n",
       "      <td>2005-06-28</td>\n",
       "      <td>[\"Young Readers' Choice Award (2008)\", 'Books ...</td>\n",
       "      <td>1992300</td>\n",
       "      <td>['1006885', '604999', '289310', '64014', '27092']</td>\n",
       "      <td>95.0</td>\n",
       "      <td>['New York City, New York (United States)', 'M...</td>\n",
       "      <td>https://i.gr-assets.com/images/S/compressed.ph...</td>\n",
       "      <td>597132</td>\n",
       "      <td>6370</td>\n",
       "      <td>1.79</td>\n",
       "    </tr>\n",
       "  </tbody>\n",
       "</table>\n",
       "<p>5 rows × 25 columns</p>\n",
       "</div>"
      ],
      "text/plain": [
       "                                        bookId   \n",
       "0  2.Harry_Potter_and_the_Order_of_the_Phoenix  \\\n",
       "1            30.J_R_R_Tolkien_4_Book_Boxed_Set   \n",
       "2                          375802.Ender_s_Game   \n",
       "3                                17245.Dracula   \n",
       "4                    28187.The_Lightning_Thief   \n",
       "\n",
       "                                               title   \n",
       "0          Harry Potter and the Order of the Phoenix  \\\n",
       "1  J.R.R. Tolkien 4-Book Boxed Set: The Hobbit an...   \n",
       "2                                       Ender's Game   \n",
       "3                                            Dracula   \n",
       "4                                The Lightning Thief   \n",
       "\n",
       "                               series   \n",
       "0                     Harry Potter #5  \\\n",
       "1          The Lord of the Rings #0-3   \n",
       "2                     Ender's Saga #1   \n",
       "3                          Dracula #1   \n",
       "4  Percy Jackson and the Olympians #1   \n",
       "\n",
       "                                              author  rating   \n",
       "0          J.K. Rowling, Mary GrandPré (Illustrator)    4.50  \\\n",
       "1                                     J.R.R. Tolkien    4.60   \n",
       "2  Orson Scott Card, Stefan Rudnicki (Narrator), ...    4.30   \n",
       "3  Bram Stoker, Nina Auerbach (Editor), David J. ...    4.00   \n",
       "4                    Rick Riordan (Goodreads Author)    4.26   \n",
       "\n",
       "                                         description language           isbn   \n",
       "0  There is a door at the end of a silent corrido...  English  9780439358071  \\\n",
       "1  This four-volume, boxed set contains J.R.R. To...  English  9780345538376   \n",
       "2  Andrew \"Ender\" Wiggin thinks he is playing com...  English  9780812550702   \n",
       "3  You can find an alternative cover edition for ...  English  9780393970128   \n",
       "4  Alternate cover for this ISBN can be found her...  English  9780786838653   \n",
       "\n",
       "                                              genres   \n",
       "0  ['Fantasy', 'Young Adult', 'Fiction', 'Magic',...  \\\n",
       "1  ['Fantasy', 'Fiction', 'Classics', 'Adventure'...   \n",
       "2  ['Science Fiction', 'Fiction', 'Young Adult', ...   \n",
       "3  ['Classics', 'Horror', 'Fiction', 'Fantasy', '...   \n",
       "4  ['Fantasy', 'Young Adult', 'Mythology', 'Ficti...   \n",
       "\n",
       "                                          characters  ... firstPublishDate   \n",
       "0  ['Sirius Black', 'Draco Malfoy', 'Ron Weasley'...  ...       2003-06-21  \\\n",
       "1  ['Frodo Baggins', 'Gandalf', 'Bilbo Baggins', ...  ...       2055-10-20   \n",
       "2  ['Dink', 'Bernard', 'Valentine Wiggin', 'Peter...  ...       1985-10-28   \n",
       "3  ['Jonathan Harker', 'Lucy Westenra', 'Abraham ...  ...       1997-05-26   \n",
       "4  ['Annabeth Chase', 'Grover Underwood', 'Luke C...  ...       2005-06-28   \n",
       "\n",
       "                                              awards  numRatings   \n",
       "0  ['Bram Stoker Award for Works for Young Reader...     2507623  \\\n",
       "1                                                 []      110146   \n",
       "2  ['Hugo Award for Best Novel (1986)', 'Nebula A...     1131303   \n",
       "3                                                 []      938325   \n",
       "4  [\"Young Readers' Choice Award (2008)\", 'Books ...     1992300   \n",
       "\n",
       "                                      ratingsByStars likedPercent   \n",
       "0  ['1593642', '637516', '222366', '39573', '14526']         98.0  \\\n",
       "1          ['78217', '22857', '6628', '1477', '967']         98.0   \n",
       "2   ['603209', '339819', '132305', '35667', '20303']         95.0   \n",
       "3   ['345260', '329217', '197206', '48642', '18000']         93.0   \n",
       "4  ['1006885', '604999', '289310', '64014', '27092']         95.0   \n",
       "\n",
       "                                             setting   \n",
       "0  ['Hogwarts School of Witchcraft and Wizardry (...  \\\n",
       "1                                   ['Middle-earth']   \n",
       "2                                                 []   \n",
       "3  ['Transylvania (Romania)', 'Budapest (Hungary)...   \n",
       "4  ['New York City, New York (United States)', 'M...   \n",
       "\n",
       "                                            coverImg  bbeScore bbeVotes  price  \n",
       "0  https://i.gr-assets.com/images/S/compressed.ph...   2632233    26923   7.38  \n",
       "1  https://i.gr-assets.com/images/S/compressed.ph...   1159802    12111  21.15  \n",
       "2  https://i.gr-assets.com/images/S/compressed.ph...    720651     7515   4.60  \n",
       "3  https://i.gr-assets.com/images/S/compressed.ph...    646782     6988   4.55  \n",
       "4  https://i.gr-assets.com/images/S/compressed.ph...    597132     6370   1.79  \n",
       "\n",
       "[5 rows x 25 columns]"
      ]
     },
     "execution_count": 4,
     "metadata": {},
     "output_type": "execute_result"
    }
   ],
   "source": [
    "df.head()"
   ]
  },
  {
   "cell_type": "code",
   "execution_count": 5,
   "metadata": {
    "tags": []
   },
   "outputs": [
    {
     "data": {
      "text/plain": [
       "(794, 25)"
      ]
     },
     "execution_count": 5,
     "metadata": {},
     "output_type": "execute_result"
    }
   ],
   "source": [
    "df.shape"
   ]
  },
  {
   "cell_type": "code",
   "execution_count": 6,
   "metadata": {
    "tags": []
   },
   "outputs": [
    {
     "name": "stdout",
     "output_type": "stream",
     "text": [
      "<class 'pandas.core.frame.DataFrame'>\n",
      "RangeIndex: 794 entries, 0 to 793\n",
      "Data columns (total 25 columns):\n",
      " #   Column            Non-Null Count  Dtype  \n",
      "---  ------            --------------  -----  \n",
      " 0   bookId            794 non-null    object \n",
      " 1   title             794 non-null    object \n",
      " 2   series            794 non-null    object \n",
      " 3   author            794 non-null    object \n",
      " 4   rating            794 non-null    float64\n",
      " 5   description       794 non-null    object \n",
      " 6   language          794 non-null    object \n",
      " 7   isbn              794 non-null    int64  \n",
      " 8   genres            794 non-null    object \n",
      " 9   characters        794 non-null    object \n",
      " 10  bookFormat        794 non-null    object \n",
      " 11  edition           794 non-null    object \n",
      " 12  pages             794 non-null    int64  \n",
      " 13  publisher         794 non-null    object \n",
      " 14  publishDate       794 non-null    object \n",
      " 15  firstPublishDate  794 non-null    object \n",
      " 16  awards            794 non-null    object \n",
      " 17  numRatings        794 non-null    int64  \n",
      " 18  ratingsByStars    794 non-null    object \n",
      " 19  likedPercent      794 non-null    float64\n",
      " 20  setting           794 non-null    object \n",
      " 21  coverImg          794 non-null    object \n",
      " 22  bbeScore          794 non-null    int64  \n",
      " 23  bbeVotes          794 non-null    int64  \n",
      " 24  price             794 non-null    float64\n",
      "dtypes: float64(3), int64(5), object(17)\n",
      "memory usage: 155.2+ KB\n"
     ]
    }
   ],
   "source": [
    "df.info()"
   ]
  },
  {
   "cell_type": "markdown",
   "metadata": {},
   "source": [
    "### Activities"
   ]
  },
  {
   "cell_type": "markdown",
   "metadata": {},
   "source": [
    "##### Activity 1. Calculating the Price-to-Rating Ratio\n",
    "\n",
    "Create a new column `Price-to-Rating Ratio` in the DataFrame that calculates the price-to-rating ratio for each book. This ratio will help us understand how the price of a book relates to its average rating.\n",
    "\n",
    "**Hint**: You can create a new column by assigning the result of dividing the `price` column by the `rating` column."
   ]
  },
  {
   "cell_type": "code",
   "execution_count": null,
   "metadata": {},
   "outputs": [],
   "source": []
  },
  {
   "cell_type": "markdown",
   "metadata": {},
   "source": [
    "Solution:"
   ]
  },
  {
   "cell_type": "code",
   "execution_count": 8,
   "metadata": {
    "tags": []
   },
   "outputs": [],
   "source": [
    "df['price_to_rating'] = df['price'] / df['rating']"
   ]
  },
  {
   "cell_type": "markdown",
   "metadata": {},
   "source": [
    "This activity demonstrates how to create new columns in a DataFrame, a fundamental data manipulation task. It also introduces the concept of deriving new insights from existing data."
   ]
  },
  {
   "cell_type": "code",
   "execution_count": null,
   "metadata": {},
   "outputs": [],
   "source": [
    "# save the dataframe to a new csv file\n",
    "df.to_csv('activity_solutions_files/sol_01.csv', index=True)"
   ]
  },
  {
   "cell_type": "markdown",
   "metadata": {},
   "source": [
    "Assertions:"
   ]
  },
  {
   "cell_type": "code",
   "execution_count": 9,
   "metadata": {
    "tags": []
   },
   "outputs": [],
   "source": [
    "assert_pd_dataframe_variable_column_equals_csv('df', 'price_to_rating', 'sol_01.csv')"
   ]
  },
  {
   "cell_type": "markdown",
   "metadata": {},
   "source": [
    "##### Activity 2. Remove the \"isbn\" Column\n",
    "\n",
    "The \"isbn\" column is not needed for our analysis. Write a script to remove this column from the dataframe.\n",
    "\n",
    "**Hint**: You can remove a column from a DataFrame using the `drop` method."
   ]
  },
  {
   "cell_type": "code",
   "execution_count": null,
   "metadata": {},
   "outputs": [],
   "source": []
  },
  {
   "cell_type": "markdown",
   "metadata": {},
   "source": [
    "Solution:"
   ]
  },
  {
   "cell_type": "code",
   "execution_count": 10,
   "metadata": {
    "tags": []
   },
   "outputs": [],
   "source": [
    "df.drop(columns='isbn', inplace=True)"
   ]
  },
  {
   "cell_type": "markdown",
   "metadata": {},
   "source": [
    "This line of code removes the `isbn` column from the dataframe and applies the change directly to the dataframe by using `inplace=True`."
   ]
  },
  {
   "cell_type": "code",
   "execution_count": 11,
   "metadata": {
    "tags": []
   },
   "outputs": [],
   "source": [
    "# save the dataframe to a new csv file\n",
    "df.to_csv('activity_solutions_files/sol_02.csv', index=True)"
   ]
  },
  {
   "cell_type": "code",
   "execution_count": 12,
   "metadata": {
    "tags": []
   },
   "outputs": [],
   "source": [
    "# save the dataframe to a new csv file\n",
    "df.to_csv('activity_solutions_files/sol_02.csv', index=True)"
   ]
  },
  {
   "cell_type": "markdown",
   "metadata": {},
   "source": [
    "##### Activity 3. Remove the Rows with Missing Values\n",
    "\n",
    "Write a script to extract the publication year from the `publishDate` column and create a new column named `YearPublished` in the dataframe.\n",
    "\n",
    "**Hint**: Use the `.str.extract()` method with a regular expression to extract the year from the `publishDate` column."
   ]
  },
  {
   "cell_type": "code",
   "execution_count": null,
   "metadata": {},
   "outputs": [],
   "source": []
  },
  {
   "cell_type": "markdown",
   "metadata": {},
   "source": [
    "Solution:"
   ]
  },
  {
   "cell_type": "code",
   "execution_count": 87,
   "metadata": {},
   "outputs": [],
   "source": [
    "df['YearPublished'] = df['publishDate'].str.extract(r'(\\d{4})')"
   ]
  },
  {
   "cell_type": "code",
   "execution_count": null,
   "metadata": {},
   "outputs": [],
   "source": [
    "# save the dataframe to a new csv file\n",
    "df.to_csv('activity_solutions_files/sol_03.csv', index=True)"
   ]
  },
  {
   "cell_type": "markdown",
   "metadata": {},
   "source": [
    "Assertions:"
   ]
  },
  {
   "cell_type": "code",
   "execution_count": null,
   "metadata": {},
   "outputs": [],
   "source": [
    "read_csv_kwargs = {'index_col': 0, 'dtype': {'YearPublished': 'int32'}}\n",
    "assert_pd_dataframe_variable_column_equals_csv('df', 'YearPublished', 'sol_03.csv', read_csv_kwargs=read_csv_kwargs)"
   ]
  },
  {
   "cell_type": "markdown",
   "metadata": {},
   "source": [
    "##### Activity 4. Filter Books with Ratings Above 4.5\n",
    "\n",
    "Create a new dataframe that only include books with ratings above 4.5. Name this new dataframe `best_books`.\n",
    "\n",
    "**Hint**: Use boolean mask to filter the rows with ratings above 4.5."
   ]
  },
  {
   "cell_type": "code",
   "execution_count": null,
   "metadata": {},
   "outputs": [],
   "source": []
  },
  {
   "cell_type": "markdown",
   "metadata": {},
   "source": [
    "Solution:"
   ]
  },
  {
   "cell_type": "code",
   "execution_count": 88,
   "metadata": {},
   "outputs": [],
   "source": [
    "best_books = df[df['rating'] >= 4.5]"
   ]
  },
  {
   "cell_type": "markdown",
   "metadata": {},
   "source": [
    "This line of code creates a new dataframe `best_books` that only includes books with ratings above 4.5."
   ]
  },
  {
   "cell_type": "code",
   "execution_count": 89,
   "metadata": {},
   "outputs": [
    {
     "data": {
      "text/plain": [
       "(24, 26)"
      ]
     },
     "execution_count": 89,
     "metadata": {},
     "output_type": "execute_result"
    }
   ],
   "source": [
    "best_books.shape"
   ]
  },
  {
   "cell_type": "code",
   "execution_count": null,
   "metadata": {},
   "outputs": [],
   "source": [
    "# save the dataframe to a new csv file\n",
    "best_books.to_csv('activity_solutions_files/sol_04.csv', index=True)"
   ]
  },
  {
   "cell_type": "markdown",
   "metadata": {},
   "source": [
    "Assertions:"
   ]
  },
  {
   "cell_type": "code",
   "execution_count": null,
   "metadata": {},
   "outputs": [],
   "source": [
    "read_csv_kwargs = {'index_col': 0, 'dtype': {'YearPublished': 'int32'}}\n",
    "assert_pd_dataframe_variable_equals_csv('best_books', 'sol_04.csv', read_csv_kwargs=read_csv_kwargs)"
   ]
  },
  {
   "cell_type": "markdown",
   "metadata": {},
   "source": [
    "##### Activity 5. Count and Add the Number of Genres\n",
    "\n",
    "Each book is associated with multiple genres in the form of list of strings. Create a new column `GenreCount` that stores the number of genres associated with each book.\n",
    "\n",
    "**Hint**: Use the `apply` method with a custom lambda function to count the number of genres for each book."
   ]
  },
  {
   "cell_type": "code",
   "execution_count": null,
   "metadata": {},
   "outputs": [],
   "source": []
  },
  {
   "cell_type": "markdown",
   "metadata": {},
   "source": [
    "Solution:"
   ]
  },
  {
   "cell_type": "code",
   "execution_count": 90,
   "metadata": {},
   "outputs": [],
   "source": [
    "df['GenreCount'] = df['genres'].apply(lambda x: len(eval(x)))"
   ]
  },
  {
   "cell_type": "markdown",
   "metadata": {},
   "source": [
    "This solution first evaluates the string representation of the list in the `genres` column back into a list (assuming the `genres` column contains string representations of lists) and then counts the number of elements (genres) in each list, storing this count in a new column `GenreCount`."
   ]
  },
  {
   "cell_type": "code",
   "execution_count": null,
   "metadata": {},
   "outputs": [],
   "source": [
    "# save the dataframe to a new csv file\n",
    "df.to_csv('activity_solutions_files/sol_05.csv', index=True)"
   ]
  },
  {
   "cell_type": "markdown",
   "metadata": {},
   "source": [
    "Assertions:"
   ]
  },
  {
   "cell_type": "code",
   "execution_count": null,
   "metadata": {},
   "outputs": [],
   "source": [
    "read_csv_kwargs = {'index_col': 0}\n",
    "assert_pd_dataframe_variable_column_equals_csv('df', 'GenreCount', 'sol_05.csv', read_csv_kwargs=read_csv_kwargs)"
   ]
  },
  {
   "cell_type": "markdown",
   "metadata": {},
   "source": [
    "##### Activity 6. Split Author Names into First and Last Name Columns\n",
    "\n",
    "Some analyses might require having the author's first and last names in separate columns. Write a script to create two new columns, `FirstName` and `LastName`, from the `author` column. For simplicity, assume the last word in the `author` field is the last name and everything before it is the first name.\n",
    "\n",
    "**Hint**:\n",
    "- Use the `str.split` method to split the `author` column into two columns.\n",
    "- You can also use `.str.rsplit()` to split the string from the right and use the `n=1` parameter to split the `author` column into two parts."
   ]
  },
  {
   "cell_type": "code",
   "execution_count": null,
   "metadata": {},
   "outputs": [],
   "source": []
  },
  {
   "cell_type": "markdown",
   "metadata": {},
   "source": [
    "Solution:"
   ]
  },
  {
   "cell_type": "code",
   "execution_count": 91,
   "metadata": {},
   "outputs": [],
   "source": [
    "df[['FirstName', 'LastName']] = df['author'].str.rsplit(' ', expand=True, n=1)"
   ]
  },
  {
   "cell_type": "markdown",
   "metadata": {},
   "source": [
    "This script splits the `author` column into two at the last occurrence of a space, assuming the format \"FirstName LastName\". It then assigns the resulting two columns to the dataframe, creating new columns for the first and last names."
   ]
  },
  {
   "cell_type": "code",
   "execution_count": null,
   "metadata": {},
   "outputs": [],
   "source": [
    "# save the dataframe to a new csv file\n",
    "df.to_csv('activity_solutions_files/sol_06.csv', index=True)"
   ]
  },
  {
   "cell_type": "markdown",
   "metadata": {},
   "source": [
    "Assertions:"
   ]
  },
  {
   "cell_type": "code",
   "execution_count": null,
   "metadata": {},
   "outputs": [],
   "source": [
    "read_csv_kwargs = {'index_col': 0, 'dtype': {'YearPublished': 'int32'}}\n",
    "assert_pd_dataframe_variable_equals_csv('df', 'sol_06.csv', read_csv_kwargs=read_csv_kwargs)"
   ]
  },
  {
   "cell_type": "markdown",
   "metadata": {},
   "source": [
    "##### Activity 7. Drop Books with Fewer than 100 Pages\n",
    "\n",
    "Some entries in the dataset might represent short stories or other short works. For this activity, remove all rows from the dataframe where the number of pages is less than 100.\n",
    "\n",
    "**Hint**: Use the `drop` method to remove rows from the dataframe."
   ]
  },
  {
   "cell_type": "code",
   "execution_count": null,
   "metadata": {},
   "outputs": [],
   "source": []
  },
  {
   "cell_type": "markdown",
   "metadata": {},
   "source": [
    "Solution:"
   ]
  },
  {
   "cell_type": "code",
   "execution_count": 93,
   "metadata": {},
   "outputs": [],
   "source": [
    "df = df[df['pages'] >= 100]"
   ]
  },
  {
   "cell_type": "markdown",
   "metadata": {},
   "source": [
    "This line of code removes all rows from the dataframe where the number of pages is less than 100."
   ]
  },
  {
   "cell_type": "code",
   "execution_count": null,
   "metadata": {},
   "outputs": [],
   "source": [
    "# save the dataframe to a new csv file\n",
    "df.to_csv('activity_solutions_files/sol_07.csv', index=True)"
   ]
  },
  {
   "cell_type": "markdown",
   "metadata": {},
   "source": [
    "Assertions:"
   ]
  },
  {
   "cell_type": "code",
   "execution_count": null,
   "metadata": {},
   "outputs": [],
   "source": [
    "read_csv_kwargs = {'index_col': 0, 'dtype': {'YearPublished': 'int32'}}\n",
    "assert_pd_dataframe_variable_equals_csv('df', 'sol_07.csv', read_csv_kwargs=read_csv_kwargs)"
   ]
  },
  {
   "cell_type": "markdown",
   "metadata": {},
   "source": [
    "##### Activity 8. Extract the Primary Genre\n",
    "\n",
    "Each book can belong to multiple genres. Create a new column `PrimaryGenre` that contains only the first genre listed for each book. Genre column contains a list of genres.\n",
    "\n",
    "**Hint**: As genres column contains a list of genres. Use the `.apply()` method with a lambda function to extract the first genre."
   ]
  },
  {
   "cell_type": "code",
   "execution_count": null,
   "metadata": {},
   "outputs": [],
   "source": []
  },
  {
   "cell_type": "markdown",
   "metadata": {},
   "source": [
    "Solution:"
   ]
  },
  {
   "cell_type": "code",
   "execution_count": 94,
   "metadata": {},
   "outputs": [],
   "source": [
    "df['PrimaryGenre'] = df['genres'].apply(lambda x: eval(x)[0] if len(eval(x)) > 0 else None)"
   ]
  },
  {
   "cell_type": "markdown",
   "metadata": {},
   "source": [
    "In this code snippet, the first genre in the `genres` column is extracted and stored in a new column `PrimaryGenre` using the `apply` method with a custom lambda function. We used `eval` to convert the string representation of the list in the `genres` column back into a list."
   ]
  },
  {
   "cell_type": "code",
   "execution_count": null,
   "metadata": {},
   "outputs": [],
   "source": [
    "# save the dataframe to a new csv file\n",
    "df.to_csv('activity_solutions_files/sol_08.csv', index=True)"
   ]
  },
  {
   "cell_type": "markdown",
   "metadata": {},
   "source": [
    "Assertions:"
   ]
  },
  {
   "cell_type": "code",
   "execution_count": null,
   "metadata": {},
   "outputs": [],
   "source": [
    "read_csv_kwargs = {'index_col': 0}\n",
    "assert_pd_dataframe_variable_column_equals_csv('df', 'PrimaryGenre', 'sol_08.csv', read_csv_kwargs=read_csv_kwargs)"
   ]
  },
  {
   "cell_type": "markdown",
   "metadata": {},
   "source": [
    "##### Activity 9. Flag Books with multiple Awards\n",
    "\n",
    "Create a new column `MultipleAwards` that flags books that have won multiple awards. If a book has won more than one award, set the value of `MultipleAwards` to `True`; otherwise, set it to `False`.\n",
    "\n",
    "**Hint**: Use the `apply` method with a custom lambda function to check if the length of the `awards` list is greater than 1."
   ]
  },
  {
   "cell_type": "code",
   "execution_count": null,
   "metadata": {},
   "outputs": [],
   "source": []
  },
  {
   "cell_type": "markdown",
   "metadata": {},
   "source": [
    "Solution:"
   ]
  },
  {
   "cell_type": "code",
   "execution_count": 95,
   "metadata": {},
   "outputs": [],
   "source": [
    "df['MultipleAwards'] = df['awards'].apply(lambda x: len(eval(x)) > 1)"
   ]
  },
  {
   "cell_type": "markdown",
   "metadata": {},
   "source": [
    "This line of code creates a new column `MultipleAwards` that flags books that have won multiple awards. If a book has won more than one award, the value of `MultipleAwards` is set to `True`; otherwise, it is set to `False`."
   ]
  },
  {
   "cell_type": "code",
   "execution_count": null,
   "metadata": {},
   "outputs": [],
   "source": [
    "# save the dataframe to a new csv file\n",
    "df.to_csv('activity_solutions_files/sol_09.csv', index=True)"
   ]
  },
  {
   "cell_type": "markdown",
   "metadata": {},
   "source": [
    "Assertions:"
   ]
  },
  {
   "cell_type": "code",
   "execution_count": null,
   "metadata": {},
   "outputs": [],
   "source": [
    "read_csv_kwargs = {'index_col': 0}\n",
    "assert_pd_dataframe_variable_column_equals_csv('df', 'MultipleAwards', 'sol_09.csv', read_csv_kwargs=read_csv_kwargs)"
   ]
  },
  {
   "cell_type": "markdown",
   "metadata": {},
   "source": [
    "##### Activity 10. Estimate Reading Time Based on Page Count\n",
    "\n",
    "Assuming an average reading speed of 250 words per minute and approximately 300 words per page, create a new column `ReadingTimeHours` that estimates the reading time in hours for each book.\n",
    "\n",
    "**Hint**: Calculate the reading time by multiplying the number of pages by the words per page, then divide by the words per minute, and finally divide by 60 to convert the reading time to hours."
   ]
  },
  {
   "cell_type": "code",
   "execution_count": null,
   "metadata": {},
   "outputs": [],
   "source": []
  },
  {
   "cell_type": "markdown",
   "metadata": {},
   "source": [
    "Solution:"
   ]
  },
  {
   "cell_type": "code",
   "execution_count": 97,
   "metadata": {},
   "outputs": [],
   "source": [
    "df['ReadingTimeHours'] = (df['pages'] * 300) / (250 * 60)"
   ]
  },
  {
   "cell_type": "markdown",
   "metadata": {},
   "source": [
    "Above code snippet calculates the reading time in hours for each book and stores the result in a new column `ReadingTimeHours`. The reading time is estimated based on the number of pages and an average reading speed of 250 words per minute. We assume approximately 300 words per page."
   ]
  },
  {
   "cell_type": "code",
   "execution_count": null,
   "metadata": {},
   "outputs": [],
   "source": [
    "# save the dataframe to a new csv file\n",
    "df.to_csv('activity_solutions_files/sol_10.csv', index=True)"
   ]
  },
  {
   "cell_type": "markdown",
   "metadata": {},
   "source": [
    "Assertions:"
   ]
  },
  {
   "cell_type": "code",
   "execution_count": null,
   "metadata": {},
   "outputs": [],
   "source": [
    "read_csv_kwargs = {'index_col': 0}\n",
    "assert_pd_dataframe_variable_column_equals_csv('df', 'ReadingTimeHours', 'sol_10.csv', read_csv_kwargs=read_csv_kwargs)"
   ]
  },
  {
   "cell_type": "markdown",
   "metadata": {},
   "source": [
    "##### Activity 11. Flag 21st Century Publications\n",
    "\n",
    "Create a new column `Published21stCentury` that flags (`True/False`) whether a book was published in the 21st century (year 2000 and onwards).\n",
    "\n",
    "**Hint**: Use a boolean condition based on the `YearPublished` column to check if the year is greater than or equal to 2000."
   ]
  },
  {
   "cell_type": "code",
   "execution_count": null,
   "metadata": {},
   "outputs": [],
   "source": []
  },
  {
   "cell_type": "markdown",
   "metadata": {},
   "source": [
    "Solution:"
   ]
  },
  {
   "cell_type": "code",
   "execution_count": 98,
   "metadata": {},
   "outputs": [],
   "source": [
    "df['Published21stCentury'] = df['YearPublished'].astype(float) >= 2000"
   ]
  },
  {
   "cell_type": "code",
   "execution_count": null,
   "metadata": {},
   "outputs": [],
   "source": [
    "# save the dataframe to a new csv file\n",
    "df.to_csv('activity_solutions_files/sol_11.csv', index=True)"
   ]
  },
  {
   "cell_type": "markdown",
   "metadata": {},
   "source": [
    "Assertions:"
   ]
  },
  {
   "cell_type": "code",
   "execution_count": null,
   "metadata": {},
   "outputs": [],
   "source": [
    "read_csv_kwargs = {'index_col': 0}\n",
    "assert_pd_dataframe_variable_column_equals_csv('df', 'Published21stCentury', 'sol_11.csv', read_csv_kwargs=read_csv_kwargs)"
   ]
  },
  {
   "cell_type": "markdown",
   "metadata": {},
   "source": [
    "##### Activity 12. Simplifying the DataFrame by Dropping Columns\n",
    "\n",
    "Drop the `coverImg`, `description`, and `ratingsByStars` columns from the dataframe as they will not be used in further analysis. Drop these columns permanently by setting the `inplace` parameter to `True`.\n",
    "\n",
    "**Hint**: Use the `drop` method to remove multiple columns from the dataframe."
   ]
  },
  {
   "cell_type": "code",
   "execution_count": null,
   "metadata": {},
   "outputs": [],
   "source": []
  },
  {
   "cell_type": "markdown",
   "metadata": {},
   "source": [
    "Solution:"
   ]
  },
  {
   "cell_type": "code",
   "execution_count": 100,
   "metadata": {},
   "outputs": [],
   "source": [
    "df.drop(columns=['coverImg', 'description', 'ratingsByStars'], inplace=True, axis=1)     "
   ]
  },
  {
   "cell_type": "code",
   "execution_count": null,
   "metadata": {},
   "outputs": [],
   "source": [
    "# save the dataframe to a new csv file\n",
    "df.to_csv('activity_solutions_files/sol_12.csv', index=True)"
   ]
  },
  {
   "cell_type": "markdown",
   "metadata": {},
   "source": [
    "Assertions:"
   ]
  },
  {
   "cell_type": "code",
   "execution_count": null,
   "metadata": {},
   "outputs": [],
   "source": [
    "read_csv_kwargs = {'index_col': 0, 'dtype': {'YearPublished': 'int32'}}\n",
    "assert_pd_dataframe_variable_equals_csv('df', 'sol_12.csv', read_csv_kwargs=read_csv_kwargs)"
   ]
  },
  {
   "cell_type": "markdown",
   "metadata": {},
   "source": [
    "##### Activity 13. Adding a New Book Entry\n",
    "\n",
    "Add a new book entry to the dataframe with the following details:\n",
    "\n",
    "```python\n",
    "new_boos = {\n",
    "    \"bookID\": 10000,\n",
    "    \"title\": \"The Great Gatsby\",\n",
    "    \"author\": \"F. Scott Fitzgerald\",\n",
    "    \"rating\": 3.9,\n",
    "    \"pages\": 180,\n",
    "    \"publishDate\": \"2003-09-30\",\n",
    "    \"publisher\": \"Scribner\",\n",
    "    \"price\": 7.99,\n",
    "    \"genres\": \"['Fiction', 'Classics']\",\n",
    "    \"YearPublished\": 2003,\n",
    "    \"GenreCount\": 2,\n",
    "    \"FirstName\": \"F.\",\n",
    "    \"LastName\": \"Fitzgerald\",\n",
    "    \"PrimaryGenre\": \"Fiction\",\n",
    "    \"MultipleAwards\": False,\n",
    "    \"ReadingTimeHours\": 9.0,\n",
    "    \"Published21stCentury\": True\n",
    "}\n",
    "```\n",
    "\n",
    "> Add this new entry to the index `len(df)`.\n",
    "\n",
    "**Hint**: Use the `.concat()` method to add a new row to the dataframe."
   ]
  },
  {
   "cell_type": "code",
   "execution_count": null,
   "metadata": {},
   "outputs": [],
   "source": []
  },
  {
   "cell_type": "markdown",
   "metadata": {},
   "source": [
    "Solution:"
   ]
  },
  {
   "cell_type": "code",
   "execution_count": 104,
   "metadata": {},
   "outputs": [],
   "source": [
    "new_book = {\n",
    "    \"bookID\": 10000,\n",
    "    \"title\": \"The Great Gatsby\",\n",
    "    \"author\": \"F. Scott Fitzgerald\",\n",
    "    \"rating\": 3.9,\n",
    "    \"pages\": 180,\n",
    "    \"publishDate\": \"2003-09-30\",\n",
    "    \"publisher\": \"Scribner\",\n",
    "    \"price\": 7.99,\n",
    "    \"genres\": \"['Fiction', 'Classics']\",\n",
    "    \"YearPublished\": 2003,\n",
    "    \"GenreCount\": 2,\n",
    "    \"FirstName\": \"F.\",\n",
    "    \"LastName\": \"Fitzgerald\",\n",
    "    \"PrimaryGenre\": \"Fiction\",\n",
    "    \"MultipleAwards\": False,\n",
    "    \"ReadingTimeHours\": 9.0,\n",
    "    \"Published21stCentury\": True\n",
    "}\n",
    "new_df = pd.DataFrame(new_book, index=[len(df)])\n",
    "df = pd.concat([df, new_df])    "
   ]
  },
  {
   "cell_type": "code",
   "execution_count": null,
   "metadata": {},
   "outputs": [],
   "source": [
    "# save the dataframe to a new csv file\n",
    "df.to_csv('activity_solutions_files/sol_13.csv', index=True)"
   ]
  },
  {
   "cell_type": "markdown",
   "metadata": {},
   "source": [
    "Assertions:"
   ]
  },
  {
   "cell_type": "code",
   "execution_count": null,
   "metadata": {},
   "outputs": [],
   "source": [
    "read_csv_kwargs = {'index_col': 0}\n",
    "assert_pd_dataframe_variable_equals_csv('df', 'sol_13.csv', read_csv_kwargs=read_csv_kwargs)"
   ]
  },
  {
   "cell_type": "markdown",
   "metadata": {},
   "source": [
    "##### Activity 14. Transforming Publish Dates into Datetime Format\n",
    "\n",
    "The `publishDate` and `firstPublishDate` columns contain dates in object(string) format. Convert these columns into datetime objects to enable more sophisticated date-based operations and analyses.\n",
    "\n",
    "> Use the format `\"%Y-%m-%d\"` to convert the string dates into datetime objects and also pass the `errors='coerce'` parameter to handle any errors that may occur during the conversion.\n",
    "\n",
    "**Hint**: Use the `pd.to_datetime()` function to convert the string dates into datetime objects. You can apply this function directly to the columns."
   ]
  },
  {
   "cell_type": "code",
   "execution_count": null,
   "metadata": {},
   "outputs": [],
   "source": []
  },
  {
   "cell_type": "markdown",
   "metadata": {},
   "source": [
    "Solution:"
   ]
  },
  {
   "cell_type": "code",
   "execution_count": 108,
   "metadata": {},
   "outputs": [],
   "source": [
    "# Convert 'publishDate' and 'firstPublishDate' columns to datetime\n",
    "df['publishDate'] = pd.to_datetime(df['publishDate'], errors='coerce', format='%Y-%m-%d')\n",
    "df['firstPublishDate'] = pd.to_datetime(df['firstPublishDate'], errors='coerce', format='%Y-%m-%d')"
   ]
  },
  {
   "cell_type": "code",
   "execution_count": null,
   "metadata": {},
   "outputs": [],
   "source": [
    "# save the dataframe to a new csv file\n",
    "df.to_csv('activity_solutions_files/sol_14.csv', index=True)"
   ]
  },
  {
   "cell_type": "markdown",
   "metadata": {},
   "source": [
    "Assertions:"
   ]
  },
  {
   "cell_type": "code",
   "execution_count": null,
   "metadata": {},
   "outputs": [],
   "source": [
    "read_csv_kwargs = {'index_col': 0, 'parse_dates': ['publishDate', 'firstPublishDate']}\n",
    "assert_pd_dataframe_variable_equals_csv('df', 'sol_14.csv', read_csv_kwargs=read_csv_kwargs)"
   ]
  },
  {
   "cell_type": "markdown",
   "metadata": {},
   "source": [
    "##### Activity 15. Bulk Adding New Book Entries to the DataFrame\n",
    "\n",
    "Add multiple new book entries to the DataFrame at once. This activity involves creating a list of dictionaries, where each dictionary represents a new book entry with values for all the relevant columns, and then appending this list to the existing DataFrame.\n",
    "\n",
    "Below are the details of the new book entries:\n",
    "\n",
    "```python\n",
    "new_books = [\n",
    "    {\n",
    "        \"bookID\": 10001,\n",
    "        \"title\": \"To Kill a Mockingbird\",\n",
    "        \"author\": \"Harper Lee\",\n",
    "        \"rating\": 4.3,\n",
    "        \"pages\": 281,\n",
    "        \"publishDate\": \"1960-07-11\",\n",
    "        \"publisher\": \"J.B. Lippincott & Co.\",\n",
    "        \"price\": 9.99,\n",
    "        \"genres\": \"['Fiction', 'Classics']\",\n",
    "        \"YearPublished\": 1960,\n",
    "        \"GenreCount\": 2,\n",
    "        \"FirstName\": \"Harper\",\n",
    "        \"LastName\": \"Lee\",\n",
    "        \"PrimaryGenre\": \"Fiction\",\n",
    "        \"MultipleAwards\": False,\n",
    "        \"ReadingTimeHours\": 11.24,\n",
    "        \"Published21stCentury\": False\n",
    "    },\n",
    "    {\n",
    "        \"bookID\": 10002,\n",
    "        \"title\": \"1984\",\n",
    "        \"author\": \"George Orwell\",\n",
    "        \"rating\": 4.2,\n",
    "        \"pages\": 328,\n",
    "        \"publishDate\": \"1949-06-08\",\n",
    "        \"publisher\": \"Secker & Warburg\",\n",
    "        \"price\": 12.99,\n",
    "        \"genres\": \"['Fiction', 'Classics']\",\n",
    "        \"YearPublished\": 1949,\n",
    "        \"GenreCount\": 2,\n",
    "        \"FirstName\": \"George\",\n",
    "        \"LastName\": \"Orwell\",\n",
    "        \"PrimaryGenre\": \"Fiction\",\n",
    "        \"MultipleAwards\": False,\n",
    "        \"ReadingTimeHours\": 13.12,\n",
    "        \"Published21stCentury\": False\n",
    "    }\n",
    "]\n",
    "```\n",
    "\n",
    "> Add these new entries to the dataframe at position `len(df)` and `len(df) + 1` respectively."
   ]
  },
  {
   "cell_type": "code",
   "execution_count": null,
   "metadata": {},
   "outputs": [],
   "source": []
  },
  {
   "cell_type": "markdown",
   "metadata": {},
   "source": [
    "Solution:"
   ]
  },
  {
   "cell_type": "code",
   "execution_count": 109,
   "metadata": {},
   "outputs": [],
   "source": [
    "new_books = [\n",
    "    {\n",
    "        \"bookID\": 10001,\n",
    "        \"title\": \"To Kill a Mockingbird\",\n",
    "        \"author\": \"Harper Lee\",\n",
    "        \"rating\": 4.3,\n",
    "        \"pages\": 281,\n",
    "        \"publishDate\": \"1960-07-11\",\n",
    "        \"publisher\": \"J.B. Lippincott & Co.\",\n",
    "        \"price\": 9.99,\n",
    "        \"genres\": \"['Fiction', 'Classics']\",\n",
    "        \"YearPublished\": 1960,\n",
    "        \"GenreCount\": 2,\n",
    "        \"FirstName\": \"Harper\",\n",
    "        \"LastName\": \"Lee\",\n",
    "        \"PrimaryGenre\": \"Fiction\",\n",
    "        \"MultipleAwards\": False,\n",
    "        \"ReadingTimeHours\": 11.24,\n",
    "        \"Published21stCentury\": False\n",
    "    },\n",
    "    {\n",
    "        \"bookID\": 10002,\n",
    "        \"title\": \"1984\",\n",
    "        \"author\": \"George Orwell\",\n",
    "        \"rating\": 4.2,\n",
    "        \"pages\": 328,\n",
    "        \"publishDate\": \"1949-06-08\",\n",
    "        \"publisher\": \"Secker & Warburg\",\n",
    "        \"price\": 12.99,\n",
    "        \"genres\": \"['Fiction', 'Classics']\",\n",
    "        \"YearPublished\": 1949,\n",
    "        \"GenreCount\": 2,\n",
    "        \"FirstName\": \"George\",\n",
    "        \"LastName\": \"Orwell\",\n",
    "        \"PrimaryGenre\": \"Fiction\",\n",
    "        \"MultipleAwards\": False,\n",
    "        \"ReadingTimeHours\": 13.12,\n",
    "        \"Published21stCentury\": False\n",
    "    }\n",
    "]\n",
    "\n",
    "new_books_df = pd.DataFrame(new_books)\n",
    "df = pd.concat([df, new_books_df], ignore_index=True)"
   ]
  },
  {
   "cell_type": "code",
   "execution_count": 110,
   "metadata": {},
   "outputs": [
    {
     "data": {
      "text/html": [
       "<div>\n",
       "<style scoped>\n",
       "    .dataframe tbody tr th:only-of-type {\n",
       "        vertical-align: middle;\n",
       "    }\n",
       "\n",
       "    .dataframe tbody tr th {\n",
       "        vertical-align: top;\n",
       "    }\n",
       "\n",
       "    .dataframe thead th {\n",
       "        text-align: right;\n",
       "    }\n",
       "</style>\n",
       "<table border=\"1\" class=\"dataframe\">\n",
       "  <thead>\n",
       "    <tr style=\"text-align: right;\">\n",
       "      <th></th>\n",
       "      <th>bookId</th>\n",
       "      <th>title</th>\n",
       "      <th>series</th>\n",
       "      <th>author</th>\n",
       "      <th>rating</th>\n",
       "      <th>language</th>\n",
       "      <th>genres</th>\n",
       "      <th>characters</th>\n",
       "      <th>bookFormat</th>\n",
       "      <th>edition</th>\n",
       "      <th>...</th>\n",
       "      <th>price_to_rating</th>\n",
       "      <th>YearPublished</th>\n",
       "      <th>GenreCount</th>\n",
       "      <th>FirstName</th>\n",
       "      <th>LastName</th>\n",
       "      <th>PrimaryGenre</th>\n",
       "      <th>MultipleAwards</th>\n",
       "      <th>ReadingTimeHours</th>\n",
       "      <th>Published21stCentury</th>\n",
       "      <th>bookID</th>\n",
       "    </tr>\n",
       "  </thead>\n",
       "  <tbody>\n",
       "    <tr>\n",
       "      <th>758</th>\n",
       "      <td>808853.The_Complete_Adventures_of_Curious_George</td>\n",
       "      <td>The Complete Adventures of Curious George</td>\n",
       "      <td>Curious George Original Adventures</td>\n",
       "      <td>Margret Rey, H.A. Rey</td>\n",
       "      <td>4.23</td>\n",
       "      <td>English</td>\n",
       "      <td>['Childrens', 'Picture Books', 'Fiction', 'Cla...</td>\n",
       "      <td>[]</td>\n",
       "      <td>Hardcover</td>\n",
       "      <td>70th Anniversary Edition</td>\n",
       "      <td>...</td>\n",
       "      <td>1.404255</td>\n",
       "      <td>2001</td>\n",
       "      <td>10</td>\n",
       "      <td>Margret Rey, H.A.</td>\n",
       "      <td>Rey</td>\n",
       "      <td>Childrens</td>\n",
       "      <td>False</td>\n",
       "      <td>8.64</td>\n",
       "      <td>True</td>\n",
       "      <td>NaN</td>\n",
       "    </tr>\n",
       "    <tr>\n",
       "      <th>759</th>\n",
       "      <td>7199219-ed-n</td>\n",
       "      <td>Edén</td>\n",
       "      <td>Edén #1</td>\n",
       "      <td>Kioskerman</td>\n",
       "      <td>3.97</td>\n",
       "      <td>Spanish</td>\n",
       "      <td>['Comics', 'Graphic Novels', 'Graphic Novels C...</td>\n",
       "      <td>[]</td>\n",
       "      <td>Paperback</td>\n",
       "      <td>Recopilatorio.</td>\n",
       "      <td>...</td>\n",
       "      <td>3.778338</td>\n",
       "      <td>2009</td>\n",
       "      <td>5</td>\n",
       "      <td>Kioskerman</td>\n",
       "      <td>None</td>\n",
       "      <td>Comics</td>\n",
       "      <td>False</td>\n",
       "      <td>2.40</td>\n",
       "      <td>True</td>\n",
       "      <td>NaN</td>\n",
       "    </tr>\n",
       "    <tr>\n",
       "      <th>760</th>\n",
       "      <td>NaN</td>\n",
       "      <td>The Great Gatsby</td>\n",
       "      <td>NaN</td>\n",
       "      <td>F. Scott Fitzgerald</td>\n",
       "      <td>3.90</td>\n",
       "      <td>NaN</td>\n",
       "      <td>['Fiction', 'Classics']</td>\n",
       "      <td>NaN</td>\n",
       "      <td>NaN</td>\n",
       "      <td>NaN</td>\n",
       "      <td>...</td>\n",
       "      <td>NaN</td>\n",
       "      <td>2003</td>\n",
       "      <td>2</td>\n",
       "      <td>F.</td>\n",
       "      <td>Fitzgerald</td>\n",
       "      <td>Fiction</td>\n",
       "      <td>False</td>\n",
       "      <td>9.00</td>\n",
       "      <td>True</td>\n",
       "      <td>10000.0</td>\n",
       "    </tr>\n",
       "    <tr>\n",
       "      <th>761</th>\n",
       "      <td>NaN</td>\n",
       "      <td>To Kill a Mockingbird</td>\n",
       "      <td>NaN</td>\n",
       "      <td>Harper Lee</td>\n",
       "      <td>4.30</td>\n",
       "      <td>NaN</td>\n",
       "      <td>['Fiction', 'Classics']</td>\n",
       "      <td>NaN</td>\n",
       "      <td>NaN</td>\n",
       "      <td>NaN</td>\n",
       "      <td>...</td>\n",
       "      <td>NaN</td>\n",
       "      <td>1960</td>\n",
       "      <td>2</td>\n",
       "      <td>Harper</td>\n",
       "      <td>Lee</td>\n",
       "      <td>Fiction</td>\n",
       "      <td>False</td>\n",
       "      <td>11.24</td>\n",
       "      <td>False</td>\n",
       "      <td>10001.0</td>\n",
       "    </tr>\n",
       "    <tr>\n",
       "      <th>762</th>\n",
       "      <td>NaN</td>\n",
       "      <td>1984</td>\n",
       "      <td>NaN</td>\n",
       "      <td>George Orwell</td>\n",
       "      <td>4.20</td>\n",
       "      <td>NaN</td>\n",
       "      <td>['Fiction', 'Classics']</td>\n",
       "      <td>NaN</td>\n",
       "      <td>NaN</td>\n",
       "      <td>NaN</td>\n",
       "      <td>...</td>\n",
       "      <td>NaN</td>\n",
       "      <td>1949</td>\n",
       "      <td>2</td>\n",
       "      <td>George</td>\n",
       "      <td>Orwell</td>\n",
       "      <td>Fiction</td>\n",
       "      <td>False</td>\n",
       "      <td>13.12</td>\n",
       "      <td>False</td>\n",
       "      <td>10002.0</td>\n",
       "    </tr>\n",
       "  </tbody>\n",
       "</table>\n",
       "<p>5 rows × 31 columns</p>\n",
       "</div>"
      ],
      "text/plain": [
       "                                               bookId  \\\n",
       "758  808853.The_Complete_Adventures_of_Curious_George   \n",
       "759                                      7199219-ed-n   \n",
       "760                                               NaN   \n",
       "761                                               NaN   \n",
       "762                                               NaN   \n",
       "\n",
       "                                         title  \\\n",
       "758  The Complete Adventures of Curious George   \n",
       "759                                       Edén   \n",
       "760                           The Great Gatsby   \n",
       "761                      To Kill a Mockingbird   \n",
       "762                                       1984   \n",
       "\n",
       "                                 series                 author  rating  \\\n",
       "758  Curious George Original Adventures  Margret Rey, H.A. Rey    4.23   \n",
       "759                             Edén #1             Kioskerman    3.97   \n",
       "760                                 NaN    F. Scott Fitzgerald    3.90   \n",
       "761                                 NaN             Harper Lee    4.30   \n",
       "762                                 NaN          George Orwell    4.20   \n",
       "\n",
       "    language                                             genres characters  \\\n",
       "758  English  ['Childrens', 'Picture Books', 'Fiction', 'Cla...         []   \n",
       "759  Spanish  ['Comics', 'Graphic Novels', 'Graphic Novels C...         []   \n",
       "760      NaN                            ['Fiction', 'Classics']        NaN   \n",
       "761      NaN                            ['Fiction', 'Classics']        NaN   \n",
       "762      NaN                            ['Fiction', 'Classics']        NaN   \n",
       "\n",
       "    bookFormat                   edition  ...  price_to_rating YearPublished  \\\n",
       "758  Hardcover  70th Anniversary Edition  ...         1.404255          2001   \n",
       "759  Paperback            Recopilatorio.  ...         3.778338          2009   \n",
       "760        NaN                       NaN  ...              NaN          2003   \n",
       "761        NaN                       NaN  ...              NaN          1960   \n",
       "762        NaN                       NaN  ...              NaN          1949   \n",
       "\n",
       "    GenreCount          FirstName    LastName  PrimaryGenre  MultipleAwards  \\\n",
       "758         10  Margret Rey, H.A.         Rey     Childrens           False   \n",
       "759          5         Kioskerman        None        Comics           False   \n",
       "760          2                 F.  Fitzgerald       Fiction           False   \n",
       "761          2             Harper         Lee       Fiction           False   \n",
       "762          2             George      Orwell       Fiction           False   \n",
       "\n",
       "    ReadingTimeHours  Published21stCentury   bookID  \n",
       "758             8.64                  True      NaN  \n",
       "759             2.40                  True      NaN  \n",
       "760             9.00                  True  10000.0  \n",
       "761            11.24                 False  10001.0  \n",
       "762            13.12                 False  10002.0  \n",
       "\n",
       "[5 rows x 31 columns]"
      ]
     },
     "execution_count": 110,
     "metadata": {},
     "output_type": "execute_result"
    }
   ],
   "source": [
    "df.tail()"
   ]
  },
  {
   "cell_type": "code",
   "execution_count": null,
   "metadata": {},
   "outputs": [],
   "source": [
    "# save the dataframe to a new csv file\n",
    "df.to_csv('activity_solutions_files/sol_15.csv', index=True)"
   ]
  },
  {
   "cell_type": "markdown",
   "metadata": {},
   "source": [
    "Assertions:"
   ]
  },
  {
   "cell_type": "code",
   "execution_count": null,
   "metadata": {},
   "outputs": [],
   "source": [
    "read_csv_kwargs = {'index_col': 0, 'parse_dates': ['publishDate', 'firstPublishDate']}\n",
    "assert_pd_dataframe_variable_equals_csv('df', 'sol_15.csv', read_csv_kwargs=read_csv_kwargs)"
   ]
  },
  {
   "cell_type": "markdown",
   "metadata": {},
   "source": [
    "##### Activity 16. Save the updated dataframe in new CSV file\n",
    "\n",
    "Save the updated dataframe `df` in a new CSV file named `updated_best_book.csv`. Save this file in current directory only. \n",
    "\n",
    "> Make sure not to reset the index"
   ]
  },
  {
   "cell_type": "code",
   "execution_count": null,
   "metadata": {},
   "outputs": [],
   "source": []
  },
  {
   "cell_type": "markdown",
   "metadata": {},
   "source": [
    "Solution:"
   ]
  },
  {
   "cell_type": "code",
   "execution_count": 14,
   "metadata": {
    "tags": []
   },
   "outputs": [],
   "source": [
    "# save the dataframe to a new csv file\n",
    "df.to_csv('updated_best_book.csv', index=False)"
   ]
  },
  {
   "cell_type": "code",
   "execution_count": 17,
   "metadata": {
    "tags": []
   },
   "outputs": [],
   "source": [
    "# save the dataframe to a new csv file\n",
    "df.to_csv('activity_solutions_files/sol_16.csv', index=False)"
   ]
  },
  {
   "cell_type": "markdown",
   "metadata": {},
   "source": [
    "Assertions:"
   ]
  },
  {
   "cell_type": "code",
   "execution_count": 18,
   "metadata": {
    "tags": []
   },
   "outputs": [],
   "source": [
    "read_csv_kwargs = {'index_col': 0}\n",
    "assert_pd_dataframe_csv_equals_csv('updated_best_book.csv', 'sol_16.csv', read_csv_kwargs=read_csv_kwargs)"
   ]
  },
  {
   "cell_type": "markdown",
   "metadata": {},
   "source": [
    "##### Activity 17. Save the dataframe in CSV file.\n",
    "\n",
    "Use the below dictionary and first convert this dictionary into dataframe and store it in a dataframe `student_df` and then save this dataframe in a CSV file called `student_data.csv`.\n",
    "\n",
    "```python\n",
    "student_dict = {\n",
    "    'Name': ['Alice', 'Bob', 'Charlie', 'David', 'Eva'],\n",
    "    'Age': [18, 17, 19, 18, 17],\n",
    "    'Grade': ['A', 'B', 'A', 'B', 'A']\n",
    "}\n",
    "```"
   ]
  },
  {
   "cell_type": "code",
   "execution_count": null,
   "metadata": {},
   "outputs": [],
   "source": []
  },
  {
   "cell_type": "markdown",
   "metadata": {},
   "source": [
    "Solution:"
   ]
  },
  {
   "cell_type": "code",
   "execution_count": 20,
   "metadata": {
    "tags": []
   },
   "outputs": [],
   "source": [
    "import pandas as pd\n",
    "\n",
    "# Step 1: Given dictionary\n",
    "student_dict = {\n",
    "    'Name': ['Alice', 'Bob', 'Charlie', 'David', 'Eva'],\n",
    "    'Age': [18, 17, 19, 18, 17],\n",
    "    'Grade': ['A', 'B', 'A', 'B', 'A']\n",
    "}\n",
    "\n",
    "# Step 2: Convert the dictionary into a DataFrame\n",
    "student_df = pd.DataFrame(student_dict)\n",
    "\n",
    "# Step 3: Save the DataFrame to a CSV file\n",
    "student_df.to_csv('student_data.csv', index=False)\n"
   ]
  },
  {
   "cell_type": "code",
   "execution_count": 21,
   "metadata": {
    "tags": []
   },
   "outputs": [],
   "source": [
    "student_df.to_csv('activity_solutions_files/sol_17.csv', index=False)"
   ]
  },
  {
   "cell_type": "markdown",
   "metadata": {},
   "source": [
    "Assertions:"
   ]
  },
  {
   "cell_type": "code",
   "execution_count": 23,
   "metadata": {
    "tags": []
   },
   "outputs": [],
   "source": [
    "student_dict = {\n",
    "    'Name': ['Alice', 'Bob', 'Charlie', 'David', 'Eva'],\n",
    "    'Age': [18, 17, 19, 18, 17],\n",
    "    'Grade': ['A', 'B', 'A', 'B', 'A']\n",
    "}\n",
    "\n",
    "expected_student_df = pd.DataFrame(student_dict)\n",
    "assert_pd_dataframe_variable_equals_variable('student_df', 'expected_student_df', delete_afterwards=True)\n",
    "\n",
    "assert_pd_dataframe_csv_equals_csv('student_data.csv', 'sol_17.csv')"
   ]
  }
 ],
 "metadata": {
  "kernelspec": {
   "display_name": "Python 3 (ipykernel)",
   "language": "python",
   "name": "python3"
  },
  "language_info": {
   "codemirror_mode": {
    "name": "ipython",
    "version": 3
   },
   "file_extension": ".py",
   "mimetype": "text/x-python",
   "name": "python",
   "nbconvert_exporter": "python",
   "pygments_lexer": "ipython3",
   "version": "3.11.0"
  }
 },
 "nbformat": 4,
 "nbformat_minor": 4
}
