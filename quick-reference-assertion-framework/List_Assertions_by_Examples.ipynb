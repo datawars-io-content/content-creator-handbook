{
 "cells": [
  {
   "cell_type": "markdown",
   "metadata": {},
   "source": [
    "In this notebook, I've covered most used List assertion functions. Below are these functions:\n",
    "\n",
    "1. `assert_list_variable_equals_variable(student_variable_name, expected_variable_name, delete_afterwards=True)`\n",
    "2. `assert_list_variable_equals_json(student_variable_name, json_file_name)`\n",
    "3. `assert_list_variable_equals_pickle(student_variable_name, pickle_file_name)`"
   ]
  },
  {
   "cell_type": "code",
   "execution_count": 1,
   "metadata": {},
   "outputs": [],
   "source": [
    "exec(open(\"utils.py\").read())"
   ]
  },
  {
   "cell_type": "markdown",
   "metadata": {},
   "source": [
    "### Student Data Activities"
   ]
  },
  {
   "cell_type": "code",
   "execution_count": 9,
   "metadata": {},
   "outputs": [
    {
     "data": {
      "text/plain": [
       "[['Gabriel', '53', '18', 'D', 'English'],\n",
       " ['Nora', '79', '18', 'F', 'Math'],\n",
       " ['Luna', '2', '18', 'A', 'English'],\n",
       " ['Anthony', '76', '18', 'A', 'Math'],\n",
       " ['Logan', '56', '17', 'D', 'History']]"
      ]
     },
     "execution_count": 9,
     "metadata": {},
     "output_type": "execute_result"
    }
   ],
   "source": [
    "# Import the data from the text file into a list\n",
    "student_list = []\n",
    "with open(\"student.txt\", \"r\") as file:\n",
    "    for line in file:\n",
    "        student = line.strip().split(',')\n",
    "        student_list.append(student)\n",
    "\n",
    "# Print the first 5 students\n",
    "student_list[:5]"
   ]
  },
  {
   "cell_type": "markdown",
   "metadata": {},
   "source": [
    "#### 1. Put the students from the index 98 to 214 into the list `best_students`\n",
    "\n",
    "Create a list `select_student` from the original list(`student_list`), starting at index 98 up to, but not including, index 214.\n",
    "\n",
    "> Make sure to not change the order of the students."
   ]
  },
  {
   "cell_type": "code",
   "execution_count": 208,
   "metadata": {},
   "outputs": [],
   "source": [
    "select_student = ..."
   ]
  },
  {
   "cell_type": "markdown",
   "metadata": {},
   "source": [
    "Solutions:"
   ]
  },
  {
   "cell_type": "code",
   "execution_count": 13,
   "metadata": {},
   "outputs": [
    {
     "data": {
      "text/plain": [
       "[['Leah', '1', '17', 'F', 'Art'],\n",
       " ['Sophia', '39', '18', 'C', 'Geography'],\n",
       " ['Lucy', '106', '16', 'F', 'Science'],\n",
       " ['Liliana', '4', '17', 'F', 'Math'],\n",
       " ['Michael', '107', '17', 'A', 'English'],\n",
       " ['Charlotte', '14', '16', 'F', 'History'],\n",
       " ['David', '108', '17', 'C', 'Art'],\n",
       " ['Ethan', '109', '18', 'D', 'English'],\n",
       " ['James', '110', '16', 'C', 'English'],\n",
       " ['Zoe', '40', '16', 'F', 'Math'],\n",
       " ['Eleanor', '24', '17', 'C', 'Science'],\n",
       " ['Addison', '111', '18', 'F', 'History'],\n",
       " ['Benjamin', '112', '16', 'D', 'Geography'],\n",
       " ['Mia', '113', '18', 'E', 'History'],\n",
       " ['Abigail', '114', '16', 'F', 'Math'],\n",
       " ['Grace', '27', '17', 'C', 'History'],\n",
       " ['Caleb', '115', '18', 'F', 'Geography'],\n",
       " ['Zoey', '116', '18', 'C', 'Geography'],\n",
       " ['Emma', '117', '18', 'E', 'English'],\n",
       " ['Leo', '118', '18', 'E', 'Math'],\n",
       " ['Ethan', '119', '18', 'C', 'Science'],\n",
       " ['Hannah', '120', '17', 'A', 'English'],\n",
       " ['Brooklyn', '121', '16', 'C', 'Geography'],\n",
       " ['Dylan', '122', '18', 'C', 'History'],\n",
       " ['James', '123', '16', 'C', 'History'],\n",
       " ['Mia', '124', '16', 'E', 'Science'],\n",
       " ['Evelyn', '125', '17', 'C', 'Geography'],\n",
       " ['Maya', '126', '16', 'D', 'Geography'],\n",
       " ['Noah', '127', '18', 'C', 'Science'],\n",
       " ['David', '128', '16', 'F', 'Science'],\n",
       " ['Elijah', '129', '16', 'A', 'English'],\n",
       " ['Jackson', '130', '16', 'C', 'Math'],\n",
       " ['Lillian', '131', '16', 'B', 'English'],\n",
       " ['Lucas', '132', '18', 'E', 'History'],\n",
       " ['Logan', '133', '17', 'E', 'Science'],\n",
       " ['Zoey', '134', '16', 'B', 'Math'],\n",
       " ['Joseph', '135', '16', 'C', 'Math'],\n",
       " ['Nora', '136', '16', 'C', 'English'],\n",
       " ['Michael', '137', '16', 'A', 'Science'],\n",
       " ['Luna', '138', '16', 'A', 'Science'],\n",
       " ['Ethan', '139', '17', 'B', 'History'],\n",
       " ['Sarah', '140', '17', 'F', 'History'],\n",
       " ['Ethan', '141', '16', 'A', 'Science'],\n",
       " ['Stella', '142', '17', 'E', 'Art'],\n",
       " ['Grace', '143', '16', 'F', 'Geography'],\n",
       " ['Michael', '144', '17', 'C', 'Geography'],\n",
       " ['Emma', '145', '17', 'A', 'Math'],\n",
       " ['Daniel', '146', '18', 'C', 'Art'],\n",
       " ['Michael', '147', '16', 'A', 'Art'],\n",
       " ['Joseph', '148', '18', 'D', 'English'],\n",
       " ['Sophia', '149', '18', 'E', 'History'],\n",
       " ['Liliana', '150', '18', 'C', 'Math'],\n",
       " ['Michael', '151', '18', 'C', 'History'],\n",
       " ['Natalie', '152', '18', 'C', 'Art'],\n",
       " ['Maya', '153', '16', 'F', 'Math'],\n",
       " ['David', '154', '18', 'C', 'English'],\n",
       " ['Liam', '155', '18', 'F', 'History'],\n",
       " ['David', '156', '18', 'F', 'History'],\n",
       " ['Matthew', '157', '16', 'C', 'Art'],\n",
       " ['Ethan', '158', '18', 'E', 'Geography'],\n",
       " ['Benjamin', '159', '16', 'E', 'Geography'],\n",
       " ['Oliver', '160', '17', 'E', 'Math'],\n",
       " ['William', '161', '17', 'F', 'Geography'],\n",
       " ['Evelyn', '162', '18', 'B', 'English'],\n",
       " ['Sophia', '163', '18', 'D', 'Science'],\n",
       " ['Grace', '164', '17', 'C', 'History'],\n",
       " ['Liliana', '165', '17', 'D', 'Art'],\n",
       " ['Wyatt', '166', '16', 'D', 'Math'],\n",
       " ['Oliver', '167', '17', 'C', 'Geography'],\n",
       " ['Gabriel', '168', '18', 'D', 'Science'],\n",
       " ['Grace', '169', '17', 'B', 'Science'],\n",
       " ['Jack', '170', '18', 'A', 'Art'],\n",
       " ['Bella', '171', '16', 'E', 'English'],\n",
       " ['Layla', '172', '18', 'C', 'Science'],\n",
       " ['Leo', '173', '17', 'E', 'English'],\n",
       " ['Samuel', '174', '17', 'A', 'Science'],\n",
       " ['Eleanor', '175', '17', 'F', 'English'],\n",
       " ['Ava', '176', '16', 'B', 'Math'],\n",
       " ['Joseph', '177', '18', 'E', 'Science'],\n",
       " ['Maya', '178', '16', 'F', 'Science'],\n",
       " ['Leo', '179', '18', 'C', 'Science'],\n",
       " ['Maya', '180', '18', 'B', 'Math'],\n",
       " ['Benjamin', '181', '16', 'F', 'History'],\n",
       " ['Alexander', '182', '17', 'A', 'Math'],\n",
       " ['David', '183', '17', 'A', 'Science'],\n",
       " ['Aubrey', '184', '16', 'E', 'Math'],\n",
       " ['Caleb', '185', '16', 'F', 'Math'],\n",
       " ['Samuel', '186', '18', 'A', 'History'],\n",
       " ['Brooklyn', '187', '17', 'D', 'History'],\n",
       " ['Lily', '188', '16', 'B', 'Science'],\n",
       " ['Michael', '189', '16', 'B', 'English'],\n",
       " ['Scarlett', '190', '16', 'D', 'Geography'],\n",
       " ['Wyatt', '191', '17', 'C', 'History'],\n",
       " ['Eleanor', '192', '18', 'D', 'Math'],\n",
       " ['Bella', '193', '17', 'D', 'Math'],\n",
       " ['Evelyn', '194', '18', 'D', 'History'],\n",
       " ['Charlotte', '195', '18', 'B', 'Math'],\n",
       " ['Sarah', '196', '17', 'B', 'Math'],\n",
       " ['Audrey', '197', '18', 'C', 'Geography'],\n",
       " ['Lucas', '198', '17', 'A', 'History'],\n",
       " ['Penelope', '199', '18', 'B', 'Math'],\n",
       " ['Natalie', '200', '16', 'A', 'Math'],\n",
       " ['Jack', '201', '16', 'E', 'Geography'],\n",
       " ['Aiden', '202', '18', 'B', 'Math'],\n",
       " ['Chloe', '203', '18', 'A', 'Art'],\n",
       " ['Aubrey', '204', '18', 'D', 'History'],\n",
       " ['Sophia', '205', '18', 'C', 'History'],\n",
       " ['Ethan', '206', '17', 'A', 'Science'],\n",
       " ['Liliana', '207', '17', 'E', 'Art'],\n",
       " ['Bella', '208', '17', 'E', 'History'],\n",
       " ['Zoey', '209', '17', 'E', 'Math'],\n",
       " ['Alexander', '210', '17', 'C', 'Art'],\n",
       " ['Henry', '211', '17', 'E', 'Geography'],\n",
       " ['Alexander', '212', '18', 'A', 'Math'],\n",
       " ['Andrew', '213', '18', 'D', 'Math'],\n",
       " ['Audrey', '214', '17', 'E', 'History']]"
      ]
     },
     "execution_count": 13,
     "metadata": {},
     "output_type": "execute_result"
    }
   ],
   "source": [
    "select_student = student_list[98:214]\n",
    "select_student"
   ]
  },
  {
   "cell_type": "code",
   "execution_count": 14,
   "metadata": {},
   "outputs": [],
   "source": [
    "# save json file\n",
    "import json\n",
    "with open('activity_solutions_files/solution_01.json', 'w') as f:\n",
    "    json.dump(select_student, f)"
   ]
  },
  {
   "cell_type": "markdown",
   "metadata": {},
   "source": [
    "Assertion:"
   ]
  },
  {
   "cell_type": "code",
   "execution_count": 15,
   "metadata": {},
   "outputs": [],
   "source": [
    "# new assertions\n",
    "assert_list_variable_equals_json(\"select_student\", \"solution_01.json\")"
   ]
  },
  {
   "cell_type": "markdown",
   "metadata": {},
   "source": [
    "##### 2. Find the ` name, age, grade, subject` of the last student from our `select_students` list.\n",
    "\n",
    "From the previous activity, we have the list `select_student` which contains the students from the index 98 to 214. Now we need to find the `name, age, grade, subject` of the last student from our `select_student` list. Store the values in the variables `name, age, grade, and subject` respectively."
   ]
  },
  {
   "cell_type": "code",
   "execution_count": 212,
   "metadata": {},
   "outputs": [],
   "source": [
    "name = ...\n",
    "age = ...\n",
    "grade = ...\n",
    "subject = ..."
   ]
  },
  {
   "cell_type": "markdown",
   "metadata": {},
   "source": [
    "Solutions:"
   ]
  },
  {
   "cell_type": "code",
   "execution_count": 16,
   "metadata": {},
   "outputs": [
    {
     "name": "stdout",
     "output_type": "stream",
     "text": [
      "name: Audrey age: 17 grade: E & subject: History\n"
     ]
    }
   ],
   "source": [
    "name = select_student[-1][0]\n",
    "age = select_student[-1][2]\n",
    "grade = select_student[-1][3]\n",
    "subject = select_student[-1][4]\n",
    "\n",
    "print(f\"name: {name} age: {age} grade: {grade} & subject: {subject}\")"
   ]
  },
  {
   "cell_type": "markdown",
   "metadata": {},
   "source": [
    "Assertion:"
   ]
  },
  {
   "cell_type": "code",
   "execution_count": 17,
   "metadata": {},
   "outputs": [],
   "source": [
    "# new assertions\n",
    "expected_name = \"Audrey\"\n",
    "expected_age = \"17\"\n",
    "expected_grade = \"E\"\n",
    "expected_subject = \"History\"\n",
    "assert_variable_equals_variable(\"name\", \"expected_name\")\n",
    "assert_variable_equals_variable(\"age\", \"expected_age\")\n",
    "assert_variable_equals_variable(\"grade\", \"expected_grade\")\n",
    "assert_variable_equals_variable(\"subject\", \"expected_subject\")"
   ]
  },
  {
   "cell_type": "markdown",
   "metadata": {},
   "source": [
    "## List Iteration with Conditional Statements"
   ]
  },
  {
   "cell_type": "markdown",
   "metadata": {},
   "source": [
    "##### 3. Get the ages of each student and store it in the list `students_age`\n",
    "\n",
    "> Convert the ages into `int` as currently they are type `str` (string).\n",
    "\n",
    "Loop through the list `student_list`, access the age, cast it to int, and append it to the new list variable `students_age`."
   ]
  },
  {
   "cell_type": "code",
   "execution_count": 24,
   "metadata": {},
   "outputs": [],
   "source": [
    "students_age = ..."
   ]
  },
  {
   "cell_type": "markdown",
   "metadata": {},
   "source": [
    "Solutions:"
   ]
  },
  {
   "cell_type": "code",
   "execution_count": 18,
   "metadata": {},
   "outputs": [
    {
     "data": {
      "text/plain": [
       "[18,\n",
       " 18,\n",
       " 18,\n",
       " 18,\n",
       " 17,\n",
       " 18,\n",
       " 18,\n",
       " 17,\n",
       " 17,\n",
       " 18,\n",
       " 18,\n",
       " 18,\n",
       " 16,\n",
       " 17,\n",
       " 18,\n",
       " 16,\n",
       " 16,\n",
       " 16,\n",
       " 16,\n",
       " 16,\n",
       " 17,\n",
       " 17,\n",
       " 18,\n",
       " 18,\n",
       " 18,\n",
       " 17,\n",
       " 16,\n",
       " 17,\n",
       " 16,\n",
       " 16,\n",
       " 17,\n",
       " 18,\n",
       " 17,\n",
       " 17,\n",
       " 18,\n",
       " 17,\n",
       " 16,\n",
       " 18,\n",
       " 17,\n",
       " 18,\n",
       " 18,\n",
       " 16,\n",
       " 18,\n",
       " 16,\n",
       " 16,\n",
       " 18,\n",
       " 17,\n",
       " 18,\n",
       " 17,\n",
       " 17,\n",
       " 18,\n",
       " 16,\n",
       " 17,\n",
       " 17,\n",
       " 17,\n",
       " 17,\n",
       " 17,\n",
       " 18,\n",
       " 16,\n",
       " 17,\n",
       " 18,\n",
       " 18,\n",
       " 16,\n",
       " 17,\n",
       " 18,\n",
       " 16,\n",
       " 18,\n",
       " 18,\n",
       " 17,\n",
       " 18,\n",
       " 16,\n",
       " 18,\n",
       " 18,\n",
       " 18,\n",
       " 18,\n",
       " 16,\n",
       " 18,\n",
       " 17,\n",
       " 16,\n",
       " 17,\n",
       " 17,\n",
       " 16,\n",
       " 18,\n",
       " 16,\n",
       " 16,\n",
       " 17,\n",
       " 18,\n",
       " 16,\n",
       " 18,\n",
       " 17,\n",
       " 16,\n",
       " 16,\n",
       " 16,\n",
       " 16,\n",
       " 18,\n",
       " 18,\n",
       " 16,\n",
       " 18,\n",
       " 17,\n",
       " 18,\n",
       " 16,\n",
       " 17,\n",
       " 17,\n",
       " 16,\n",
       " 17,\n",
       " 18,\n",
       " 16,\n",
       " 16,\n",
       " 17,\n",
       " 18,\n",
       " 16,\n",
       " 18,\n",
       " 16,\n",
       " 17,\n",
       " 18,\n",
       " 18,\n",
       " 18,\n",
       " 18,\n",
       " 18,\n",
       " 17,\n",
       " 16,\n",
       " 18,\n",
       " 16,\n",
       " 16,\n",
       " 17,\n",
       " 16,\n",
       " 18,\n",
       " 16,\n",
       " 16,\n",
       " 16,\n",
       " 16,\n",
       " 18,\n",
       " 17,\n",
       " 16,\n",
       " 16,\n",
       " 16,\n",
       " 16,\n",
       " 16,\n",
       " 17,\n",
       " 17,\n",
       " 16,\n",
       " 17,\n",
       " 16,\n",
       " 17,\n",
       " 17,\n",
       " 18,\n",
       " 16,\n",
       " 18,\n",
       " 18,\n",
       " 18,\n",
       " 18,\n",
       " 18,\n",
       " 16,\n",
       " 18,\n",
       " 18,\n",
       " 18,\n",
       " 16,\n",
       " 18,\n",
       " 16,\n",
       " 17,\n",
       " 17,\n",
       " 18,\n",
       " 18,\n",
       " 17,\n",
       " 17,\n",
       " 16,\n",
       " 17,\n",
       " 18,\n",
       " 17,\n",
       " 18,\n",
       " 16,\n",
       " 18,\n",
       " 17,\n",
       " 17,\n",
       " 17,\n",
       " 16,\n",
       " 18,\n",
       " 16,\n",
       " 18,\n",
       " 18,\n",
       " 16,\n",
       " 17,\n",
       " 17,\n",
       " 16,\n",
       " 16,\n",
       " 18,\n",
       " 17,\n",
       " 16,\n",
       " 16,\n",
       " 16,\n",
       " 17,\n",
       " 18,\n",
       " 17,\n",
       " 18,\n",
       " 18,\n",
       " 17,\n",
       " 18,\n",
       " 17,\n",
       " 18,\n",
       " 16,\n",
       " 16,\n",
       " 18,\n",
       " 18,\n",
       " 18,\n",
       " 18,\n",
       " 17,\n",
       " 17,\n",
       " 17,\n",
       " 17,\n",
       " 17,\n",
       " 17,\n",
       " 18,\n",
       " 18,\n",
       " 17,\n",
       " 18,\n",
       " 18,\n",
       " 16,\n",
       " 18,\n",
       " 16,\n",
       " 18,\n",
       " 17,\n",
       " 17,\n",
       " 17,\n",
       " 17,\n",
       " 17,\n",
       " 17,\n",
       " 17,\n",
       " 17,\n",
       " 17,\n",
       " 18,\n",
       " 17,\n",
       " 17,\n",
       " 16,\n",
       " 18,\n",
       " 18,\n",
       " 18,\n",
       " 17,\n",
       " 16,\n",
       " 17,\n",
       " 17,\n",
       " 16,\n",
       " 17,\n",
       " 16,\n",
       " 16,\n",
       " 18,\n",
       " 16,\n",
       " 18,\n",
       " 18,\n",
       " 16,\n",
       " 16,\n",
       " 17,\n",
       " 17,\n",
       " 17,\n",
       " 18,\n",
       " 18,\n",
       " 18,\n",
       " 17,\n",
       " 18,\n",
       " 16,\n",
       " 17,\n",
       " 16,\n",
       " 18,\n",
       " 17,\n",
       " 16,\n",
       " 16,\n",
       " 17,\n",
       " 17,\n",
       " 18,\n",
       " 18,\n",
       " 18,\n",
       " 16,\n",
       " 16,\n",
       " 16,\n",
       " 18,\n",
       " 18,\n",
       " 16,\n",
       " 17,\n",
       " 18,\n",
       " 18,\n",
       " 18,\n",
       " 17,\n",
       " 17,\n",
       " 17,\n",
       " 16,\n",
       " 18,\n",
       " 17,\n",
       " 18,\n",
       " 17,\n",
       " 17,\n",
       " 18,\n",
       " 16,\n",
       " 17,\n",
       " 18,\n",
       " 17,\n",
       " 17,\n",
       " 16,\n",
       " 18,\n",
       " 16,\n",
       " 16,\n",
       " 16,\n",
       " 16,\n",
       " 18,\n",
       " 17,\n",
       " 17,\n",
       " 18,\n",
       " 16,\n",
       " 17,\n",
       " 18,\n",
       " 16,\n",
       " 17,\n",
       " 18,\n",
       " 16,\n",
       " 16,\n",
       " 16,\n",
       " 18,\n",
       " 17,\n",
       " 16,\n",
       " 18,\n",
       " 18,\n",
       " 16,\n",
       " 17,\n",
       " 18,\n",
       " 17,\n",
       " 17,\n",
       " 17,\n",
       " 17,\n",
       " 17,\n",
       " 18,\n",
       " 18,\n",
       " 17,\n",
       " 18,\n",
       " 16,\n",
       " 16,\n",
       " 17,\n",
       " 17,\n",
       " 17,\n",
       " 16,\n",
       " 17,\n",
       " 18,\n",
       " 18,\n",
       " 17,\n",
       " 18,\n",
       " 17,\n",
       " 16,\n",
       " 16,\n",
       " 18,\n",
       " 18,\n",
       " 16,\n",
       " 18,\n",
       " 17,\n",
       " 17,\n",
       " 18,\n",
       " 17,\n",
       " 18,\n",
       " 17,\n",
       " 16,\n",
       " 17,\n",
       " 17,\n",
       " 18,\n",
       " 16,\n",
       " 17,\n",
       " 16,\n",
       " 16,\n",
       " 18,\n",
       " 17,\n",
       " 18,\n",
       " 17,\n",
       " 16,\n",
       " 16,\n",
       " 16,\n",
       " 18,\n",
       " 17,\n",
       " 18,\n",
       " 18,\n",
       " 16,\n",
       " 16,\n",
       " 17,\n",
       " 17,\n",
       " 18,\n",
       " 16,\n",
       " 16,\n",
       " 18,\n",
       " 16,\n",
       " 17,\n",
       " 16,\n",
       " 18,\n",
       " 16,\n",
       " 16,\n",
       " 17,\n",
       " 17,\n",
       " 18,\n",
       " 18,\n",
       " 18,\n",
       " 17,\n",
       " 17,\n",
       " 16,\n",
       " 18,\n",
       " 17,\n",
       " 16,\n",
       " 16,\n",
       " 16,\n",
       " 16,\n",
       " 18,\n",
       " 16,\n",
       " 17,\n",
       " 17,\n",
       " 16,\n",
       " 17,\n",
       " 17,\n",
       " 17,\n",
       " 18,\n",
       " 17,\n",
       " 17,\n",
       " 17,\n",
       " 16,\n",
       " 18,\n",
       " 18,\n",
       " 16,\n",
       " 16,\n",
       " 17,\n",
       " 18,\n",
       " 17,\n",
       " 16,\n",
       " 16,\n",
       " 16,\n",
       " 18,\n",
       " 18,\n",
       " 18,\n",
       " 17,\n",
       " 17,\n",
       " 16,\n",
       " 18,\n",
       " 17,\n",
       " 18,\n",
       " 17,\n",
       " 16,\n",
       " 16,\n",
       " 17,\n",
       " 17,\n",
       " 17,\n",
       " 16,\n",
       " 18,\n",
       " 16,\n",
       " 17,\n",
       " 18,\n",
       " 16,\n",
       " 18,\n",
       " 17,\n",
       " 16,\n",
       " 16,\n",
       " 18,\n",
       " 18,\n",
       " 17,\n",
       " 18,\n",
       " 18,\n",
       " 16,\n",
       " 17,\n",
       " 17,\n",
       " 18,\n",
       " 17,\n",
       " 16,\n",
       " 16,\n",
       " 18,\n",
       " 18,\n",
       " 18,\n",
       " 18,\n",
       " 18,\n",
       " 16,\n",
       " 18,\n",
       " 18,\n",
       " 16,\n",
       " 18,\n",
       " 18,\n",
       " 17,\n",
       " 17,\n",
       " 18,\n",
       " 16,\n",
       " 17,\n",
       " 17,\n",
       " 18,\n",
       " 16,\n",
       " 16,\n",
       " 16,\n",
       " 18,\n",
       " 18,\n",
       " 17,\n",
       " 18,\n",
       " 18,\n",
       " 18,\n",
       " 17,\n",
       " 17,\n",
       " 18,\n",
       " 16,\n",
       " 16,\n",
       " 16,\n",
       " 17,\n",
       " 17,\n",
       " 16,\n",
       " 16,\n",
       " 17]"
      ]
     },
     "execution_count": 18,
     "metadata": {},
     "output_type": "execute_result"
    }
   ],
   "source": [
    "students_age = []\n",
    "for student in student_list:\n",
    "    student_age = int(student[2])\n",
    "    students_age.append(student_age)\n",
    "\n",
    "students_age"
   ]
  },
  {
   "cell_type": "code",
   "execution_count": 19,
   "metadata": {},
   "outputs": [
    {
     "data": {
      "text/plain": [
       "500"
      ]
     },
     "execution_count": 19,
     "metadata": {},
     "output_type": "execute_result"
    }
   ],
   "source": [
    "len(students_age)"
   ]
  },
  {
   "cell_type": "code",
   "execution_count": 27,
   "metadata": {},
   "outputs": [],
   "source": [
    "# save json file\n",
    "import json\n",
    "with open('activity_solutions_files/solution_03.json', 'w') as f:\n",
    "    json.dump(students_age, f)"
   ]
  },
  {
   "cell_type": "markdown",
   "metadata": {},
   "source": [
    "Assertion:"
   ]
  },
  {
   "cell_type": "code",
   "execution_count": 21,
   "metadata": {},
   "outputs": [],
   "source": [
    "# new assertions\n",
    "assert_list_variable_equals_json(\"students_age\", \"solution_03.json\")"
   ]
  },
  {
   "cell_type": "markdown",
   "metadata": {},
   "source": [
    "##### 4. How many students have `History` as their favorite subject, how many have `English` and how many have `Math`.\n",
    "\n",
    "Iterate through the list `student_list` and check for each of these subjects, incrementing each time the variable for the corresponding subject and store the result in the variables `history_lovers`, `english_lovers` and `maths_lovers` respectively."
   ]
  },
  {
   "cell_type": "code",
   "execution_count": 223,
   "metadata": {},
   "outputs": [],
   "source": [
    "history_lovers = ...\n",
    "maths_lovers = ...\n",
    "english_lovers = ..."
   ]
  },
  {
   "cell_type": "markdown",
   "metadata": {},
   "source": [
    "Solutions:"
   ]
  },
  {
   "cell_type": "code",
   "execution_count": 23,
   "metadata": {},
   "outputs": [
    {
     "name": "stdout",
     "output_type": "stream",
     "text": [
      "History lovers: 52\n",
      "English lovers: 49\n",
      "Maths lovers: 63\n"
     ]
    }
   ],
   "source": [
    "history_lovers_student = []\n",
    "english_lovers_student = []\n",
    "maths_lovers_student = []\n",
    "\n",
    "for student in student_list:\n",
    "    if \"History\" in student[4]:\n",
    "        if student[0] not in history_lovers_student:\n",
    "            history_lovers_student.append(student[0])\n",
    "    if \"English\" in student[4]:\n",
    "        if student[0] not in english_lovers_student:\n",
    "            english_lovers_student.append(student[0])\n",
    "    if \"Math\" in student[4]:\n",
    "        if student[0] not in maths_lovers_student:\n",
    "            maths_lovers_student.append(student[0])\n",
    "\n",
    "history_lovers = len(history_lovers_student)\n",
    "english_lovers = len(english_lovers_student)\n",
    "maths_lovers = len(maths_lovers_student)\n",
    "\n",
    "print(f\"History lovers: {history_lovers}\")\n",
    "print(f\"English lovers: {english_lovers}\")\n",
    "print(f\"Maths lovers: {maths_lovers}\")\n"
   ]
  },
  {
   "cell_type": "markdown",
   "metadata": {},
   "source": [
    "Assertions:"
   ]
  },
  {
   "cell_type": "code",
   "execution_count": 24,
   "metadata": {},
   "outputs": [],
   "source": [
    "# new assertions\n",
    "expected_history_lovers = 52\n",
    "expected_english_lovers = 49\n",
    "expected_maths_lovers = 63\n",
    "assert_variable_equals_variable(\"history_lovers\", \"expected_history_lovers\")\n",
    "assert_variable_equals_variable(\"english_lovers\", \"expected_english_lovers\")\n",
    "assert_variable_equals_variable(\"maths_lovers\", \"expected_maths_lovers\")"
   ]
  },
  {
   "cell_type": "markdown",
   "metadata": {},
   "source": [
    "##### 5. Separate all `A` graders and all `B` graders from the list `student_list`.\n",
    "\n",
    "\n",
    "Create two lists `a_graders` and `b_graders` with the name, age, grade, and favorite subject of the students. Put students with `A` grades to the list `a_graders` and students with `B` graders to the list `b_graders`\n",
    "\n",
    "Expected output for `a_graders`:\n",
    "\n",
    "```python\n",
    "[['Luna', '18', 'A', 'English'],\n",
    " ['Anthony', '18', 'A', 'Math'],\n",
    " ['Bella', '17', 'A', 'History'],\n",
    " ['Lucy', '17', 'A', 'History'],\n",
    " ['Brooklyn', '18', 'A', 'History'],\n",
    " ['Ava', '18', 'A', 'Art'],\n",
    " ['Riley', '17', 'A', 'Math'],\n",
    " ...\n",
    "]\n",
    "```"
   ]
  },
  {
   "cell_type": "code",
   "execution_count": 227,
   "metadata": {},
   "outputs": [],
   "source": [
    "a_graders = ...\n",
    "b_graders = ..."
   ]
  },
  {
   "cell_type": "markdown",
   "metadata": {},
   "source": [
    "Solutions:"
   ]
  },
  {
   "cell_type": "code",
   "execution_count": 25,
   "metadata": {},
   "outputs": [
    {
     "name": "stdout",
     "output_type": "stream",
     "text": [
      "len a 80, len b: 74\n"
     ]
    }
   ],
   "source": [
    "a_graders = []\n",
    "b_graders = []\n",
    "\n",
    "for student in student_list:\n",
    "    if student[3]=='A':\n",
    "        student_name = student[0]\n",
    "        student_age = student[2]\n",
    "        student_grade = student[3]\n",
    "        student_subject = student[4]\n",
    "        a_graders.append([student_name,student_age,student_grade,student_subject])\n",
    "    if student[3]=='B':\n",
    "        student_name = student[0]\n",
    "        student_age = student[2]\n",
    "        student_grade = student[3]\n",
    "        student_subject = student[4]\n",
    "        b_graders.append([student_name,student_age,student_grade, student_subject])\n",
    "\n",
    "print(f\"len a {len(a_graders)}, len b: {len(b_graders)}\")\n"
   ]
  },
  {
   "cell_type": "code",
   "execution_count": 229,
   "metadata": {},
   "outputs": [
    {
     "data": {
      "text/plain": [
       "[['Luna', '2', '18', 'A'],\n",
       " ['Anthony', '76', '18', 'A'],\n",
       " ['Bella', '17', '17', 'A'],\n",
       " ['Lucy', '29', '17', 'A'],\n",
       " ['Brooklyn', '29', '18', 'A'],\n",
       " ['Ava', '42', '18', 'A'],\n",
       " ['Riley', '100', '17', 'A'],\n",
       " ['Cameron', '90', '16', 'A'],\n",
       " ['Benjamin', '50', '18', 'A'],\n",
       " ['Luke', '56', '16', 'A'],\n",
       " ['Michael', '61', '17', 'A'],\n",
       " ['Hannah', '29', '17', 'A'],\n",
       " ['Elijah', '3', '16', 'A'],\n",
       " ['Michael', '53', '16', 'A'],\n",
       " ['Luna', '68', '16', 'A'],\n",
       " ['Ethan', '87', '16', 'A'],\n",
       " ['Emma', '71', '17', 'A'],\n",
       " ['Michael', '72', '16', 'A'],\n",
       " ['Jack', '11', '18', 'A'],\n",
       " ['Samuel', '80', '17', 'A'],\n",
       " ['Alexander', '92', '17', 'A'],\n",
       " ['David', '54', '17', 'A'],\n",
       " ['Samuel', '81', '18', 'A'],\n",
       " ['Lucas', '99', '17', 'A'],\n",
       " ['Natalie', '76', '16', 'A'],\n",
       " ['Chloe', '91', '18', 'A'],\n",
       " ['Ethan', '90', '17', 'A'],\n",
       " ['Alexander', '82', '18', 'A'],\n",
       " ['Hannah', '65', '18', 'A'],\n",
       " ['James', '33', '18', 'A'],\n",
       " ['Ethan', '50', '17', 'A'],\n",
       " ['William', '66', '17', 'A'],\n",
       " ['Zoey', '82', '17', 'A'],\n",
       " ['Savannah', '60', '17', 'A'],\n",
       " ['Hannah', '4', '18', 'A'],\n",
       " ['Emily', '85', '17', 'A'],\n",
       " ['Harper', '5', '18', 'A'],\n",
       " ['Owen', '79', '16', 'A'],\n",
       " ['Nora', '1', '18', 'A'],\n",
       " ['Joseph', '32', '18', 'A'],\n",
       " ['Nathan', '62', '17', 'A'],\n",
       " ['Charlotte', '43', '17', 'A'],\n",
       " ['Ava', '48', '18', 'A'],\n",
       " ['Elizabeth', '44', '18', 'A'],\n",
       " ['Noah', '19', '17', 'A'],\n",
       " ['Elizabeth', '18', '16', 'A'],\n",
       " ['Sophia', '78', '18', 'A'],\n",
       " ['Dylan', '85', '18', 'A'],\n",
       " ['David', '65', '17', 'A'],\n",
       " ['Amelia', '25', '17', 'A'],\n",
       " ['Noah', '49', '18', 'A'],\n",
       " ['Grace', '74', '16', 'A'],\n",
       " ['Hailey', '17', '17', 'A'],\n",
       " ['Wyatt', '64', '18', 'A'],\n",
       " ['Leah', '97', '16', 'A'],\n",
       " ['David', '2', '17', 'A'],\n",
       " ['Abigail', '22', '16', 'A'],\n",
       " ['Ethan', '9', '16', 'A'],\n",
       " ['Joseph', '10', '17', 'A'],\n",
       " ['Sarah', '5', '18', 'A'],\n",
       " ['Lucas', '79', '16', 'A'],\n",
       " ['Logan', '20', '16', 'A'],\n",
       " ['Nora', '12', '18', 'A'],\n",
       " ['Samuel', '87', '16', 'A'],\n",
       " ['Michael', '84', '16', 'A'],\n",
       " ['Ethan', '21', '18', 'A'],\n",
       " ['Isaac', '40', '17', 'A'],\n",
       " ['Gabriel', '38', '16', 'A'],\n",
       " ['Penelope', '44', '17', 'A'],\n",
       " ['Jacob', '45', '18', 'A'],\n",
       " ['Leah', '61', '18', 'A'],\n",
       " ['William', '70', '16', 'A'],\n",
       " ['Michael', '50', '17', 'A'],\n",
       " ['Benjamin', '95', '16', 'A'],\n",
       " ['Hannah', '58', '18', 'A'],\n",
       " ['Ava', '50', '16', 'A'],\n",
       " ['Lillian', '45', '17', 'A'],\n",
       " ['Olivia', '71', '16', 'A'],\n",
       " ['Lillian', '97', '17', 'A'],\n",
       " ['Ava', '36', '17', 'A']]"
      ]
     },
     "execution_count": 229,
     "metadata": {},
     "output_type": "execute_result"
    }
   ],
   "source": [
    "a_graders"
   ]
  },
  {
   "cell_type": "code",
   "execution_count": 27,
   "metadata": {},
   "outputs": [],
   "source": [
    "# save json file\n",
    "import json\n",
    "with open('activity_solutions_files/solution_04_a.json', 'w') as f:\n",
    "    json.dump(a_graders, f)\n",
    "\n",
    "with open('activity_solutions_files/solution_04_b.json', 'w') as f:\n",
    "    json.dump(b_graders, f)"
   ]
  },
  {
   "cell_type": "markdown",
   "metadata": {},
   "source": [
    "Assertions:"
   ]
  },
  {
   "cell_type": "code",
   "execution_count": 26,
   "metadata": {},
   "outputs": [],
   "source": [
    "# new assertions\n",
    "assert_list_variable_equals_json(\"a_graders\", \"solution_04_a.json\")\n",
    "assert_list_variable_equals_json(\"b_graders\", \"solution_04_b.json\")"
   ]
  },
  {
   "cell_type": "markdown",
   "metadata": {},
   "source": [
    "##### 6. Remove the student `['Luna', '18', 'E', 'Geography']` from the list `student_list`.\n",
    "\n",
    "Remove the student whose name is `Luna`, age is `18`, grade is `E` and subject is `Geography` from the list `student_list`. If there are multiple students with the same name, age, grade, and subject, remove all of them.\n"
   ]
  },
  {
   "cell_type": "code",
   "execution_count": 240,
   "metadata": {},
   "outputs": [],
   "source": [
    "# Try your code here"
   ]
  },
  {
   "cell_type": "markdown",
   "metadata": {},
   "source": [
    "Solutions:"
   ]
  },
  {
   "cell_type": "code",
   "execution_count": 32,
   "metadata": {},
   "outputs": [
    {
     "name": "stdout",
     "output_type": "stream",
     "text": [
      "[['Luna', '25', '18', 'E', 'Geography']]\n"
     ]
    }
   ],
   "source": [
    "student_to_remove = ['Luna', '18', 'E', 'Geography']\n",
    "\n",
    "students_to_remove = []\n",
    "\n",
    "for student in student_list:\n",
    "    if student[0] == student_to_remove[0] and student[2] == student_to_remove[1] and student[3] == student_to_remove[2] and student[4] == student_to_remove[3]:\n",
    "        students_to_remove.append(student)\n",
    "\n",
    "print(students_to_remove)\n",
    "\n",
    "for student in students_to_remove:\n",
    "    student_list.remove(student)"
   ]
  },
  {
   "cell_type": "code",
   "execution_count": 34,
   "metadata": {},
   "outputs": [],
   "source": [
    "# save json file\n",
    "with open('activity_solutions_files/solution_05.json', 'w') as f:\n",
    "    json.dump(student_list, f)"
   ]
  },
  {
   "cell_type": "markdown",
   "metadata": {},
   "source": [
    "Assertions:"
   ]
  },
  {
   "cell_type": "code",
   "execution_count": 35,
   "metadata": {},
   "outputs": [],
   "source": [
    "# new assertions\n",
    "assert_list_variable_equals_json(\"student_list\", \"solution_05.json\")"
   ]
  },
  {
   "cell_type": "markdown",
   "metadata": {},
   "source": [
    "##### 6. Convert the `student_list` into list of tuples.\n",
    "\n",
    "Given the list `student_list` is a list of lists. Convert it into a list of tuples and store it in the variable `student_list_tuple`.\n",
    "\n",
    "Expected output:\n",
    "\n",
    "```python\n",
    "[('Luna', '18', 'A', 'English'),\n",
    " ('Anthony', '18', 'A', 'Math'),\n",
    " ('Bella', '17', 'A', 'History'),\n",
    " ('Lucy', '17', 'A', 'History'),\n",
    " ('Brooklyn', '18', 'A', 'History'),\n",
    " ('Ava', '18', 'A', 'Art'),\n",
    " ('Riley', '17', 'A', 'Math'),\n",
    " ...\n",
    "]\n",
    "```\n",
    "\n",
    "> This is just a simple conversion from list of lists to list of tuples. Expected output is different from above example list of tuples."
   ]
  },
  {
   "cell_type": "code",
   "execution_count": null,
   "metadata": {},
   "outputs": [],
   "source": [
    "# Try your code here\n",
    "student_list_tuple = ..."
   ]
  },
  {
   "cell_type": "markdown",
   "metadata": {},
   "source": [
    "Solution:"
   ]
  },
  {
   "cell_type": "code",
   "execution_count": null,
   "metadata": {},
   "outputs": [],
   "source": [
    "student_list_tuple = []\n",
    "\n",
    "for student in student_list:\n",
    "    student_list_tuple.append(tuple(student))\n",
    "    \n",
    "student_list_tuple[:5]"
   ]
  },
  {
   "cell_type": "code",
   "execution_count": null,
   "metadata": {},
   "outputs": [],
   "source": [
    "# save in a pickle file\n",
    "import pickle\n",
    "\n",
    "with open('activity_solutions_files/solution_06.pkl', 'wb') as f:\n",
    "    pickle.dump(student_list_tuple, f)"
   ]
  },
  {
   "cell_type": "markdown",
   "metadata": {},
   "source": [
    "Assertions:"
   ]
  },
  {
   "cell_type": "code",
   "execution_count": null,
   "metadata": {},
   "outputs": [],
   "source": [
    "# new assertions\n",
    "assert_list_variable_equals_pickle(\"student_list_tuple\", \"solution_06.pkl\")"
   ]
  },
  {
   "cell_type": "markdown",
   "metadata": {},
   "source": [
    "### The End!"
   ]
  }
 ],
 "metadata": {
  "kernelspec": {
   "display_name": "Python 3 (ipykernel)",
   "language": "python",
   "name": "python3"
  },
  "language_info": {
   "codemirror_mode": {
    "name": "ipython",
    "version": 3
   },
   "file_extension": ".py",
   "mimetype": "text/x-python",
   "name": "python",
   "nbconvert_exporter": "python",
   "pygments_lexer": "ipython3",
   "version": "3.8.18"
  }
 },
 "nbformat": 4,
 "nbformat_minor": 4
}
