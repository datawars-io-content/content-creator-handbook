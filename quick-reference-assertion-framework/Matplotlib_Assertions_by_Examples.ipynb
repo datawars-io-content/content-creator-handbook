{
 "cells": [
  {
   "cell_type": "markdown",
   "metadata": {},
   "source": [
    "In this notebook, I've covered most used matplotlib assertion functions. There is only one assertion function for checking the expected figure with the actual figure.\n",
    "\n",
    "1. `assert_plt_student_fig_matches_png_fname()`"
   ]
  },
  {
   "cell_type": "code",
   "execution_count": null,
   "metadata": {},
   "outputs": [],
   "source": [
    "exec(open(\"utils.py\").read())"
   ]
  },
  {
   "cell_type": "code",
   "execution_count": null,
   "metadata": {},
   "outputs": [],
   "source": [
    "import pandas as pd\n",
    "import matplotlib.pyplot as plt\n",
    "import numpy as np"
   ]
  },
  {
   "cell_type": "code",
   "execution_count": null,
   "metadata": {},
   "outputs": [],
   "source": [
    "df = pd.read_csv('hs_rate_poverty.csv')\n",
    "df.head()"
   ]
  },
  {
   "attachments": {},
   "cell_type": "markdown",
   "metadata": {},
   "source": [
    "### Activities"
   ]
  },
  {
   "attachments": {},
   "cell_type": "markdown",
   "metadata": {},
   "source": [
    "##### Activity 1: Plotting and Comparing Socio-Economic Indicators with Matplotlib\n",
    "\n",
    "Create a visualization featuring two point plots on the same graph:\n",
    "\n",
    "The first one representing normalized poverty rates, using `df['normalized_poverty_rate']` and using a blue marker (that is already provided).\n",
    "\n",
    "The second one representing normalized high schoool graduation rates, using `df['normalized_hs_rate']`, and using a red `x` marker (already provided).\n",
    "\n",
    "This visualization will enable a comparative analysis of these two crucial socio-economic indicators across different states using Matplotlib.\n",
    "\n",
    "Your visualization should have a size of `(14, 7)` and look something like:\n",
    "\n",
    "![](images/plot-1.png)"
   ]
  },
  {
   "cell_type": "code",
   "execution_count": null,
   "metadata": {},
   "outputs": [],
   "source": [
    "# Creating a figure and an axis\n",
    "fig, ax = plt.subplots(figsize=(14, 7))\n",
    "\n",
    "# Plotting the data using scatter plots\n",
    "ax...(..,.., label='High School Graduation Rates', marker='o', color='b')\n",
    "ax...(..,.. label='Poverty Rates', marker='x', color='r')\n",
    "\n",
    "# Adding labels and title\n",
    "ax.set_xlabel('States', fontsize=10, color='blue')\n",
    "ax.set_ylabel('Normalized Rates')\n",
    "ax.set_title('Comparison of High School Graduation and Poverty Rates by State')\n",
    "\n",
    "# Rotating x-axis labels by 90 degrees\n",
    "ax.set_xticklabels(df['State'], fontsize=8,rotation=90)\n",
    "# Adding a legend\n",
    "ax.legend()\n",
    "\n",
    "# Display the plot\n",
    "plt.show()"
   ]
  },
  {
   "cell_type": "markdown",
   "metadata": {},
   "source": [
    "Solution:"
   ]
  },
  {
   "cell_type": "code",
   "execution_count": null,
   "metadata": {},
   "outputs": [],
   "source": [
    "# Creating a figure and an axis\n",
    "fig, ax = plt.subplots(figsize=(14, 7))\n",
    "\n",
    "# Plotting the data using scatter plots\n",
    "ax.plot(df['State'], df['normalized_hs_rate'], label='High School Graduation Rates', marker='o', color='b')\n",
    "ax.plot(df['State'], df['normalized_poverty_rate'], label='Poverty Rates', marker='x', color='r')\n",
    "\n",
    "# Adding labels and title\n",
    "ax.set_xlabel('States', fontsize=10, color='blue')\n",
    "ax.set_ylabel('Normalized Rates')\n",
    "ax.set_title('Comparison of High School Graduation and Poverty Rates by State')\n",
    "\n",
    "# Rotating x-axis labels by 90 degrees\n",
    "ax.set_xticklabels(df['State'], fontsize=8,rotation=90)\n",
    "# Adding a legend\n",
    "ax.legend()\n",
    "\n",
    "# Display the plot\n",
    "plt.show()"
   ]
  },
  {
   "cell_type": "code",
   "execution_count": null,
   "metadata": {},
   "outputs": [],
   "source": [
    "fig.savefig('activity_solutions_files/expected_plot_1.png')"
   ]
  },
  {
   "cell_type": "markdown",
   "metadata": {},
   "source": [
    "Assertions:"
   ]
  },
  {
   "cell_type": "code",
   "execution_count": null,
   "metadata": {},
   "outputs": [],
   "source": [
    "assert_plt_student_fig_matches_png_fname(\"fig\", 'expected_plot_1.png')"
   ]
  },
  {
   "attachments": {},
   "cell_type": "markdown",
   "metadata": {},
   "source": [
    "##### Activity 2: Scatter Plotting Socio-Economic Indicators\n",
    "\n",
    "Create a scatter plot to visualize and analyze the relationship between the two key socio-economic indicators: the normalized high school graduation rate (`normalized_hs_rate`) and the poverty rate (`normalized_poverty_rate`) across different U.S. states.\n",
    "\n",
    "Use `normalized_hs_rate` in the X axis and `normalized_poverty_rate` in the Y axis. Your plot should look something like:\n",
    "\n",
    "![](images/plot-2.png)"
   ]
  },
  {
   "cell_type": "code",
   "execution_count": null,
   "metadata": {},
   "outputs": [],
   "source": [
    "# Plotting the scatter plot\n",
    "fig, ax = plt.subplots(figsize=(14, 7))\n",
    "ax....(..., ...)\n",
    "\n",
    "# Adding labels and title\n",
    "ax.set_xlabel('Normalized High School Graduation Rate')\n",
    "ax.set_ylabel('Normalized Poverty Rate')\n",
    "ax.set_title('Statewise Comparison of High School Graduation and Poverty Rates')\n",
    "\n",
    "# Display the plot\n",
    "plt.show()"
   ]
  },
  {
   "attachments": {},
   "cell_type": "markdown",
   "metadata": {},
   "source": [
    "Solution:"
   ]
  },
  {
   "cell_type": "code",
   "execution_count": null,
   "metadata": {},
   "outputs": [],
   "source": [
    "# Plotting the scatter plot\n",
    "fig, ax = plt.subplots(figsize=(14, 7))\n",
    "ax.scatter(df['normalized_hs_rate'], df['normalized_poverty_rate'])\n",
    "\n",
    "# Adding labels and title\n",
    "ax.set_xlabel('Normalized High School Graduation Rate')\n",
    "ax.set_ylabel('Normalized Poverty Rate')\n",
    "ax.set_title('Statewise Comparison of High School Graduation and Poverty Rates')\n",
    "\n",
    "# Display the plot\n",
    "plt.show()"
   ]
  },
  {
   "cell_type": "code",
   "execution_count": null,
   "metadata": {},
   "outputs": [],
   "source": [
    "fig.savefig('activity_solutions_files/expected_plot_2.png')"
   ]
  },
  {
   "attachments": {},
   "cell_type": "markdown",
   "metadata": {},
   "source": [
    "Assertions:"
   ]
  },
  {
   "cell_type": "code",
   "execution_count": null,
   "metadata": {},
   "outputs": [],
   "source": [
    "assert_plt_student_fig_matches_png_fname(\"fig\", 'expected_plot_2.png')"
   ]
  },
  {
   "cell_type": "markdown",
   "metadata": {},
   "source": [
    "### The End!"
   ]
  }
 ],
 "metadata": {
  "kernelspec": {
   "display_name": "Python 3 (ipykernel)",
   "language": "python",
   "name": "python3"
  },
  "language_info": {
   "codemirror_mode": {
    "name": "ipython",
    "version": 3
   },
   "file_extension": ".py",
   "mimetype": "text/x-python",
   "name": "python",
   "nbconvert_exporter": "python",
   "pygments_lexer": "ipython3",
   "version": "3.11.4"
  }
 },
 "nbformat": 4,
 "nbformat_minor": 4
}
