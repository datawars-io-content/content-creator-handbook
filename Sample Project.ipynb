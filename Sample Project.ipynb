{
 "cells": [
  {
   "cell_type": "code",
   "execution_count": 1,
   "id": "ab6d9c7c-9f70-4e57-b453-5b96a4ed7fd4",
   "metadata": {},
   "outputs": [],
   "source": [
    "import pandas as pd\n",
    "import numpy as np"
   ]
  },
  {
   "cell_type": "markdown",
   "id": "a269ba4d-3599-454a-bec5-9afb113bd120",
   "metadata": {},
   "source": [
    "This project is about performing Data Analysis with Pokemon data. Your objectives will be to perform some basic Data Cleaning tasks, and then some analysis.\n",
    "\n",
    "Let's get started!"
   ]
  },
  {
   "cell_type": "markdown",
   "id": "d5df27a9-3842-40b1-adf5-851e79be5ab8",
   "metadata": {},
   "source": [
    "### Loading the data\n",
    "\n",
    "We'll start loading the data that is located in `pokemon.csv`."
   ]
  },
  {
   "cell_type": "code",
   "execution_count": null,
   "id": "8c73e91e-38a1-44cf-ba55-4424d6dc0e72",
   "metadata": {},
   "outputs": [],
   "source": [
    "df = pd.read_csv(\"pokemon.csv\")"
   ]
  },
  {
   "cell_type": "markdown",
   "id": "0ecedcdb-210a-4936-bf7a-5bae96107be1",
   "metadata": {},
   "source": [
    "### Data cleaning\n",
    "\n",
    "After a quick inspection of the dataset you'll find that there are some issues with it. Let's clean it!"
   ]
  },
  {
   "cell_type": "markdown",
   "id": "9f6d0007-180d-4f93-b2ee-9d31d840e4a2",
   "metadata": {},
   "source": [
    "##### 1. Remove null values from the column `Attack`\n",
    "\n",
    "The attack column has multiple null values, remove them in place."
   ]
  },
  {
   "cell_type": "code",
   "execution_count": null,
   "id": "0b193a20-99d7-4e36-a956-72864dc44bbb",
   "metadata": {},
   "outputs": [],
   "source": []
  },
  {
   "cell_type": "markdown",
   "id": "35ab72f1-5e95-41d1-aef6-8fc86d4c7814",
   "metadata": {},
   "source": [
    "Solution:"
   ]
  },
  {
   "cell_type": "markdown",
   "id": "952e5aef-9058-4e2d-8fb6-58617b93ef66",
   "metadata": {},
   "source": [
    "We could use the global dataframe method:"
   ]
  },
  {
   "cell_type": "code",
   "execution_count": null,
   "id": "18fb4ff4-312d-4501-8d92-d472aa565298",
   "metadata": {},
   "outputs": [],
   "source": [
    "df.dropna(subset=['Attack'], inplace=True)"
   ]
  },
  {
   "cell_type": "markdown",
   "id": "60c05333-392f-490e-963d-47f6f8ea8f0b",
   "metadata": {},
   "source": [
    "Or we could use the Series method associated with the column:"
   ]
  },
  {
   "cell_type": "code",
   "execution_count": null,
   "id": "cbac0083-2685-452a-8d31-f28a62200aee",
   "metadata": {},
   "outputs": [],
   "source": [
    "df['Attack'].dropna(inplace=True)"
   ]
  },
  {
   "cell_type": "markdown",
   "id": "90683d88-ebd4-4204-b0bf-c3288a07db58",
   "metadata": {},
   "source": [
    "### Data Wrangling\n",
    "\n",
    "Now it's time to create a few columns that we'll be used in the next phase of analysis."
   ]
  },
  {
   "cell_type": "markdown",
   "id": "a344c31c-d703-4483-b3e1-a797ed16efe3",
   "metadata": {},
   "source": [
    "##### 2. Create the column `Difference to Mean`\n",
    "\n",
    "Create a column `Difference to Mean` that compares the value of the `Attack` of a pokemon to the mean of the `Attack`."
   ]
  },
  {
   "cell_type": "code",
   "execution_count": null,
   "id": "652c33f3-faee-4626-8e71-9cf4bfd7eb70",
   "metadata": {},
   "outputs": [],
   "source": [
    "df[\"Difference to Mean\"] = ..."
   ]
  },
  {
   "cell_type": "markdown",
   "id": "8101a4bc-4280-4c7c-870c-b837bb500321",
   "metadata": {},
   "source": [
    "Solution:"
   ]
  },
  {
   "cell_type": "code",
   "execution_count": null,
   "id": "0316c800-a3be-49cd-bc9c-7444c87b2000",
   "metadata": {},
   "outputs": [],
   "source": [
    "df[\"Difference to Mean\"] = df['Attack'] - df['Attack'].mean()"
   ]
  },
  {
   "cell_type": "markdown",
   "id": "3c308093-7db4-4c7c-be97-36a16d721278",
   "metadata": {},
   "source": [
    "### Other types of activities"
   ]
  },
  {
   "cell_type": "markdown",
   "id": "9965cfff-7682-4aef-a167-004770ae8910",
   "metadata": {},
   "source": [
    "##### 3. What's the most common type of pokemon?\n",
    "\n",
    "This is an example of a multiple choice activity\n",
    "\n",
    "- [ ] Fire\n",
    "- [ ] Grass\n",
    "- [ ] Water\n",
    "- [X] Normal"
   ]
  },
  {
   "cell_type": "code",
   "execution_count": null,
   "id": "d3e614bf-3689-4839-9658-afdda763c618",
   "metadata": {},
   "outputs": [],
   "source": []
  },
  {
   "cell_type": "markdown",
   "id": "23c8ce04-8eb9-4902-82d0-030e34f47794",
   "metadata": {},
   "source": [
    "Solution:"
   ]
  },
  {
   "cell_type": "markdown",
   "id": "2084c17a-1af0-4c17-b794-85f0717aa739",
   "metadata": {},
   "source": [
    "You can find the most common value using the `value_counts` method:"
   ]
  },
  {
   "cell_type": "code",
   "execution_count": null,
   "id": "136f20c7-7140-47af-9645-818c79d8dc33",
   "metadata": {},
   "outputs": [],
   "source": [
    "df['Type 1'].value_counts().head()"
   ]
  },
  {
   "cell_type": "markdown",
   "id": "6ce25239-8ab5-4d23-bb6c-3e8a6340daef",
   "metadata": {},
   "source": [
    "##### 4. What's the mean value of the `Attack` column?\n",
    "\n",
    "Enter the value rounded to the first 2 decimal places. So, if you find the average value is `384.23125`, just enter `384.23`."
   ]
  },
  {
   "cell_type": "code",
   "execution_count": null,
   "id": "bfee647c-7738-4725-8179-5d56222c92e6",
   "metadata": {},
   "outputs": [],
   "source": []
  },
  {
   "cell_type": "markdown",
   "id": "fc9d61de-1e4c-42ad-9aaa-87208c56e7ad",
   "metadata": {},
   "source": [
    "Solution:"
   ]
  },
  {
   "cell_type": "code",
   "execution_count": null,
   "id": "5fe1093b-6792-4f36-a8b2-a77515360487",
   "metadata": {},
   "outputs": [],
   "source": [
    "df['Attack'].mean()"
   ]
  }
 ],
 "metadata": {
  "kernelspec": {
   "display_name": "Python 3 (ipykernel)",
   "language": "python",
   "name": "python3"
  },
  "language_info": {
   "codemirror_mode": {
    "name": "ipython",
    "version": 3
   },
   "file_extension": ".py",
   "mimetype": "text/x-python",
   "name": "python",
   "nbconvert_exporter": "python",
   "pygments_lexer": "ipython3",
   "version": "3.11.4"
  }
 },
 "nbformat": 4,
 "nbformat_minor": 5
}
