{
 "cells": [
  {
   "attachments": {},
   "cell_type": "markdown",
   "id": "e3ceeeaa-1e09-4bca-b826-3a9f80d40708",
   "metadata": {},
   "source": [
    "## Lab name"
   ]
  },
  {
   "attachments": {},
   "cell_type": "markdown",
   "id": "6fae5763-44e7-4ca2-ab53-bc4d5fedecb1",
   "metadata": {},
   "source": [
    "Welcome to **DataWars**!"
   ]
  },
  {
   "attachments": {},
   "cell_type": "markdown",
   "id": "3683ee0e-b024-4307-9dd5-52969a435b6a",
   "metadata": {},
   "source": [
    "### Section 1"
   ]
  },
  {
   "attachments": {},
   "cell_type": "markdown",
   "id": "d37d7721",
   "metadata": {},
   "source": [
    "This is the content for Section 1"
   ]
  },
  {
   "cell_type": "markdown",
   "id": "be081449",
   "metadata": {},
   "source": []
  }
 ],
 "metadata": {
  "kernelspec": {
   "display_name": "Python 3",
   "language": "python",
   "name": "python3"
  },
  "language_info": {
   "codemirror_mode": {
    "name": "ipython",
    "version": 3
   },
   "file_extension": ".py",
   "mimetype": "text/x-python",
   "name": "python",
   "nbconvert_exporter": "python",
   "pygments_lexer": "ipython3",
   "version": "3.8.6 (default, Oct 25 2020, 19:47:30) \n[Clang 12.0.0 (clang-1200.0.32.21)]"
  },
  "vscode": {
   "interpreter": {
    "hash": "0f13df361f1156f3ebd3222ab3a7fbb7509da985e2b35cac5624980fc668d5ee"
   }
  }
 },
 "nbformat": 4,
 "nbformat_minor": 5
}
